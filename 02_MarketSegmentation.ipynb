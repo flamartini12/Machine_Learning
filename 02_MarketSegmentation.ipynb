{
  "cells": [
    {
      "attachments": {},
      "cell_type": "markdown",
      "metadata": {
        "colab_type": "text",
        "id": "view-in-github"
      },
      "source": [
        "<a href=\"https://colab.research.google.com/github/giakomorssi/Machine_Learning/blob/main/02_MarketSegmentation.ipynb\" target=\"_parent\"><img src=\"https://colab.research.google.com/assets/colab-badge.svg\" alt=\"Open In Colab\"/></a>"
      ]
    },
    {
      "attachments": {},
      "cell_type": "markdown",
      "metadata": {
        "id": "oW4iLhFPm0tJ"
      },
      "source": [
        "# Import the Data"
      ]
    },
    {
      "cell_type": "code",
      "execution_count": 1,
      "metadata": {
        "colab": {
          "base_uri": "https://localhost:8080/"
        },
        "id": "eu859j6QmtgX",
        "outputId": "3f8f8e07-46b4-4b24-a27d-ecaf780e44dd"
      },
      "outputs": [],
      "source": [
        "import pandas as pd\n",
        "\n",
        "df = pd.read_csv('customer_segmentation_eda.csv')"
      ]
    },
    {
      "cell_type": "code",
      "execution_count": 2,
      "metadata": {
        "colab": {
          "base_uri": "https://localhost:8080/"
        },
        "id": "ivSHcDXffXLH",
        "outputId": "38583286-00e5-4a35-a2c5-3d54e29bcfbc"
      },
      "outputs": [
        {
          "name": "stdout",
          "output_type": "stream",
          "text": [
            "<class 'pandas.core.frame.DataFrame'>\n",
            "RangeIndex: 13718 entries, 0 to 13717\n",
            "Data columns (total 25 columns):\n",
            " #   Column                         Non-Null Count  Dtype         \n",
            "---  ------                         --------------  -----         \n",
            " 0   order_id                       13718 non-null  object        \n",
            " 1   customer_id                    13718 non-null  object        \n",
            " 2   order_status                   13718 non-null  int64         \n",
            " 3   purchase_date                  13718 non-null  datetime64[ns]\n",
            " 4   approved_date                  13718 non-null  datetime64[ns]\n",
            " 5   handled_by_logistic_date       13718 non-null  datetime64[ns]\n",
            " 6   delivery_date                  13718 non-null  datetime64[ns]\n",
            " 7   estimated_delivery_date        13718 non-null  datetime64[ns]\n",
            " 8   payment_type                   13718 non-null  int64         \n",
            " 9   payment_installments           13718 non-null  int64         \n",
            " 10  payment_value                  13718 non-null  float64       \n",
            " 11  customer_unique_id             13718 non-null  object        \n",
            " 12  customer_city                  13718 non-null  float64       \n",
            " 13  customer_state                 13718 non-null  float64       \n",
            " 14  item_per_order                 13718 non-null  int64         \n",
            " 15  product_id                     13718 non-null  object        \n",
            " 16  seller_id                      13718 non-null  object        \n",
            " 17  shipping_limit_date            13718 non-null  datetime64[ns]\n",
            " 18  price                          13718 non-null  float64       \n",
            " 19  freight_value                  13718 non-null  float64       \n",
            " 20  seller_city                    13718 non-null  float64       \n",
            " 21  seller_state                   13718 non-null  float64       \n",
            " 22  product_name_lenght            13718 non-null  int64         \n",
            " 23  product_description_lenght     13718 non-null  int64         \n",
            " 24  product_category_name_english  13718 non-null  object        \n",
            "dtypes: datetime64[ns](6), float64(7), int64(6), object(6)\n",
            "memory usage: 2.6+ MB\n"
          ]
        }
      ],
      "source": [
        "df['purchase_date'] = pd.to_datetime(df['purchase_date'])\n",
        "df['approved_date'] = pd.to_datetime(df['approved_date'])\n",
        "df['handled_by_logistic_date'] = pd.to_datetime(df['handled_by_logistic_date'])\n",
        "df['delivery_date'] = pd.to_datetime(df['delivery_date'])\n",
        "df['estimated_delivery_date'] = pd.to_datetime(df['estimated_delivery_date'])\n",
        "df['shipping_limit_date'] = pd.to_datetime(df['shipping_limit_date'])\n",
        "df.info()"
      ]
    },
    {
      "attachments": {},
      "cell_type": "markdown",
      "metadata": {
        "id": "0gFHEggJm4YJ"
      },
      "source": [
        "# Recency value\n",
        "Time since a customer’s last purchase.\n"
      ]
    },
    {
      "attachments": {},
      "cell_type": "markdown",
      "metadata": {
        "id": "m2HP_9xkgb1y"
      },
      "source": [
        "**Calculate the Recency value:** \n",
        "\n",
        "We can calculate the time since a `customer's last purchase` by subtracting the purchase_date of the most recent order of each customer from last date on the dataframe. We can create a new column called \"recency\" to store the calculated values."
      ]
    },
    {
      "cell_type": "code",
      "execution_count": 3,
      "metadata": {
        "id": "hPqd544ZfLgq"
      },
      "outputs": [],
      "source": [
        "import pandas as pd\n",
        "import datetime as dt\n",
        "\n",
        "# Calculate recency\n",
        "current_date = df['purchase_date'].max()\n",
        "df['purchase_date'] = pd.to_datetime(df['purchase_date'])\n",
        "recency_df = df.groupby('customer_unique_id')['purchase_date'].max().reset_index()\n",
        "recency_df['recency'] = (current_date - recency_df['purchase_date']).dt.days\n",
        "recency_df.drop('purchase_date', axis=1, inplace=True)\n",
        "\n",
        "# merge recency_df with the original df using customer_unique_id\n",
        "df = pd.merge(df, recency_df, on='customer_unique_id')"
      ]
    },
    {
      "cell_type": "code",
      "execution_count": 4,
      "metadata": {
        "colab": {
          "base_uri": "https://localhost:8080/"
        },
        "id": "QdBdL6JmR_a6",
        "outputId": "480356a3-9d1f-4f0f-f460-0dd2736407d1"
      },
      "outputs": [
        {
          "data": {
            "text/plain": [
              "count    13718.000000\n",
              "mean        73.242309\n",
              "std         42.439815\n",
              "min          0.000000\n",
              "25%         35.000000\n",
              "50%         74.000000\n",
              "75%        110.000000\n",
              "max        481.000000\n",
              "Name: recency, dtype: float64"
            ]
          },
          "execution_count": 4,
          "metadata": {},
          "output_type": "execute_result"
        }
      ],
      "source": [
        "df['recency'].describe()"
      ]
    },
    {
      "attachments": {},
      "cell_type": "markdown",
      "metadata": {
        "id": "PA1523ePnHrl"
      },
      "source": [
        "# Frequency value\n",
        "Refers to the number of times a customer has made a purchase.\n"
      ]
    },
    {
      "attachments": {},
      "cell_type": "markdown",
      "metadata": {
        "id": "t-mAc37OgnGa"
      },
      "source": [
        "**Calculate the Frequency value:**\n",
        "\n",
        "We can calculate the n`umber of item per order by each customer` by grouping the number of item_per_order associated with each customer_unique_id. We can create a new column called \"frequency\" to store the calculated values."
      ]
    },
    {
      "cell_type": "code",
      "execution_count": 5,
      "metadata": {
        "id": "z6gLlptPfNCd"
      },
      "outputs": [],
      "source": [
        "import pandas as pd\n",
        "import datetime as dt\n",
        "\n",
        "# Calculate frequenc\n",
        "frequency_df = df.groupby('customer_unique_id')['item_per_order'].nunique().reset_index()\n",
        "frequency_df.rename(columns={'item_per_order': 'frequency'}, inplace=True)\n",
        "\n",
        "# merge frequency_df with the original df using customer_unique_id\n",
        "df = pd.merge(df, frequency_df, on='customer_unique_id')"
      ]
    },
    {
      "cell_type": "code",
      "execution_count": 6,
      "metadata": {
        "colab": {
          "base_uri": "https://localhost:8080/"
        },
        "id": "IbOyzos2RKaa",
        "outputId": "b5148370-4715-4e4a-98de-b7c081027ae5"
      },
      "outputs": [
        {
          "data": {
            "text/plain": [
              "count    13718.000000\n",
              "mean         1.468071\n",
              "std          1.168014\n",
              "min          1.000000\n",
              "25%          1.000000\n",
              "50%          1.000000\n",
              "75%          1.000000\n",
              "max         13.000000\n",
              "Name: frequency, dtype: float64"
            ]
          },
          "execution_count": 6,
          "metadata": {},
          "output_type": "execute_result"
        }
      ],
      "source": [
        "df['frequency'].describe()"
      ]
    },
    {
      "attachments": {},
      "cell_type": "markdown",
      "metadata": {
        "id": "CIJOshMInNiN"
      },
      "source": [
        "# Monetary value \n",
        "Refers to the total amount a customer has spent purchasing products"
      ]
    },
    {
      "attachments": {},
      "cell_type": "markdown",
      "metadata": {
        "id": "fckPKr2Xgumw"
      },
      "source": [
        "**Calculate the Monetary value:**\n",
        "\n",
        "We can calculate the `total amount spent by each customer` by summing up the payment_value of all orders associated with each customer_unique_id. We can create a new column called \"monetary\" to store the calculated values."
      ]
    },
    {
      "cell_type": "code",
      "execution_count": 7,
      "metadata": {
        "id": "vVoudwdjfOnY"
      },
      "outputs": [],
      "source": [
        "import pandas as pd\n",
        "import datetime as dt\n",
        "\n",
        "# Calculate monetary\n",
        "monetary_df = df.groupby('customer_unique_id')['payment_value'].sum().reset_index()\n",
        "monetary_df.rename(columns={'payment_value': 'monetary'}, inplace=True)\n",
        "\n",
        "# merge monetary_df with the original df using customer_unique_id\n",
        "df = pd.merge(df, monetary_df, on='customer_unique_id')"
      ]
    },
    {
      "cell_type": "code",
      "execution_count": 8,
      "metadata": {
        "colab": {
          "base_uri": "https://localhost:8080/"
        },
        "id": "QG1-9H90SXAq",
        "outputId": "5c593e50-2a14-4fe8-97be-eaeb5b07cf1a"
      },
      "outputs": [
        {
          "data": {
            "text/plain": [
              "count    13718.000000\n",
              "mean       403.794149\n",
              "std       1196.035858\n",
              "min         10.710000\n",
              "25%         74.400000\n",
              "50%        143.275000\n",
              "75%        308.100000\n",
              "max      29099.520000\n",
              "Name: monetary, dtype: float64"
            ]
          },
          "execution_count": 8,
          "metadata": {},
          "output_type": "execute_result"
        }
      ],
      "source": [
        "df['monetary'].describe()"
      ]
    },
    {
      "attachments": {},
      "cell_type": "markdown",
      "metadata": {
        "id": "sk_ZRrQefPAK"
      },
      "source": [
        "# Export the data"
      ]
    },
    {
      "cell_type": "code",
      "execution_count": 9,
      "metadata": {
        "id": "IK6Zhu_9g2eq"
      },
      "outputs": [],
      "source": [
        "df.to_csv('customer_segmentation_RFM.csv', index=False)"
      ]
    }
  ],
  "metadata": {
    "colab": {
      "authorship_tag": "ABX9TyPhPrRTydb+T0FoNv/EFMIu",
      "include_colab_link": true,
      "provenance": []
    },
    "kernelspec": {
      "display_name": "Python 3",
      "name": "python3"
    },
    "language_info": {
      "codemirror_mode": {
        "name": "ipython",
        "version": 3
      },
      "file_extension": ".py",
      "mimetype": "text/x-python",
      "name": "python",
      "nbconvert_exporter": "python",
      "pygments_lexer": "ipython3",
      "version": "3.9.13"
    }
  },
  "nbformat": 4,
  "nbformat_minor": 0
}
