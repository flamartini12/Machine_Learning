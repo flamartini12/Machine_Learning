{
  "nbformat": 4,
  "nbformat_minor": 0,
  "metadata": {
    "colab": {
      "provenance": [],
      "authorship_tag": "ABX9TyOjF6a2Tbuh0Sd3wwT6a5s+",
      "include_colab_link": true
    },
    "kernelspec": {
      "name": "python3",
      "display_name": "Python 3"
    },
    "language_info": {
      "name": "python"
    }
  },
  "cells": [
    {
      "cell_type": "markdown",
      "metadata": {
        "id": "view-in-github",
        "colab_type": "text"
      },
      "source": [
        "<a href=\"https://colab.research.google.com/github/giakomorssi/Machine_Learning/blob/main/02_MarketSegmentation.ipynb\" target=\"_parent\"><img src=\"https://colab.research.google.com/assets/colab-badge.svg\" alt=\"Open In Colab\"/></a>"
      ]
    },
    {
      "cell_type": "markdown",
      "source": [
        "# Import the Data"
      ],
      "metadata": {
        "id": "oW4iLhFPm0tJ"
      }
    },
    {
      "cell_type": "code",
      "execution_count": 54,
      "metadata": {
        "id": "eu859j6QmtgX",
        "outputId": "a5ddbf8c-eb3c-4a88-e417-63d7a4648783",
        "colab": {
          "base_uri": "https://localhost:8080/"
        }
      },
      "outputs": [
        {
          "output_type": "stream",
          "name": "stdout",
          "text": [
            "Drive already mounted at /content/drive; to attempt to forcibly remount, call drive.mount(\"/content/drive\", force_remount=True).\n",
            "Runtime switched to GPU\n",
            "Please install GPU version of TF\n"
          ]
        }
      ],
      "source": [
        "from google.colab import drive\n",
        "drive.mount('/content/drive')\n",
        "\n",
        "import pandas as pd\n",
        "\n",
        "# Change Colab runtime to GPU\n",
        "import os\n",
        "os.environ['COLAB_TPU_ADDR'] = ''\n",
        "os.environ['COLAB_GPU_ALLOC'] = '1'\n",
        "os.environ['COLAB_GPU'] = '1'\n",
        "print(\"Runtime switched to GPU\")\n",
        "\n",
        "import tensorflow as tf\n",
        "\n",
        "# This code sets the runtime to use the GPU if available\n",
        "if tf.test.gpu_device_name():\n",
        "    print('Default GPU Device: {}'.format(tf.test.gpu_device_name()))\n",
        "else:\n",
        "    print(\"Please install GPU version of TF\")\n",
        "\n",
        "pd.set_option('display.max_columns', None)"
      ]
    },
    {
      "cell_type": "code",
      "source": [
        "df = pd.read_csv('/content/drive/MyDrive/University/ML/customer_segmentation_eda.csv')"
      ],
      "metadata": {
        "id": "QFqjLPJmm3dr"
      },
      "execution_count": 55,
      "outputs": []
    },
    {
      "cell_type": "code",
      "source": [
        "df['purchase_date'] = pd.to_datetime(df['purchase_date'])\n",
        "df['approved_date'] = pd.to_datetime(df['approved_date'])\n",
        "df['handled_by_logistic_date'] = pd.to_datetime(df['handled_by_logistic_date'])\n",
        "df['delivery_date'] = pd.to_datetime(df['delivery_date'])\n",
        "df['estimated_delivery_date'] = pd.to_datetime(df['estimated_delivery_date'])\n",
        "df['shipping_limit_date'] = pd.to_datetime(df['shipping_limit_date'])\n",
        "df.info()"
      ],
      "metadata": {
        "id": "ivSHcDXffXLH",
        "outputId": "72273f72-9c37-4a1f-d2d9-b4b507fe1348",
        "colab": {
          "base_uri": "https://localhost:8080/"
        }
      },
      "execution_count": 56,
      "outputs": [
        {
          "output_type": "stream",
          "name": "stdout",
          "text": [
            "<class 'pandas.core.frame.DataFrame'>\n",
            "RangeIndex: 13718 entries, 0 to 13717\n",
            "Data columns (total 30 columns):\n",
            " #   Column                         Non-Null Count  Dtype         \n",
            "---  ------                         --------------  -----         \n",
            " 0   order_id                       13718 non-null  object        \n",
            " 1   customer_id                    13718 non-null  object        \n",
            " 2   order_status                   13718 non-null  int64         \n",
            " 3   purchase_date                  13718 non-null  datetime64[ns]\n",
            " 4   approved_date                  13718 non-null  datetime64[ns]\n",
            " 5   handled_by_logistic_date       13718 non-null  datetime64[ns]\n",
            " 6   delivery_date                  13718 non-null  datetime64[ns]\n",
            " 7   estimated_delivery_date        13718 non-null  datetime64[ns]\n",
            " 8   payment_type                   13718 non-null  int64         \n",
            " 9   payment_installments           13718 non-null  int64         \n",
            " 10  payment_value                  13718 non-null  float64       \n",
            " 11  customer_unique_id             13718 non-null  object        \n",
            " 12  customer_city                  13718 non-null  float64       \n",
            " 13  customer_state                 13718 non-null  float64       \n",
            " 14  item_per_order                 13718 non-null  int64         \n",
            " 15  product_id                     13718 non-null  object        \n",
            " 16  seller_id                      13718 non-null  object        \n",
            " 17  shipping_limit_date            13718 non-null  datetime64[ns]\n",
            " 18  price                          13718 non-null  float64       \n",
            " 19  freight_value                  13718 non-null  float64       \n",
            " 20  seller_city                    13718 non-null  float64       \n",
            " 21  seller_state                   13718 non-null  float64       \n",
            " 22  product_category_name          13718 non-null  float64       \n",
            " 23  product_name_lenght            13718 non-null  int64         \n",
            " 24  product_description_lenght     13718 non-null  int64         \n",
            " 25  product_category_name_english  13718 non-null  int64         \n",
            " 26  purchase_approved_time         13718 non-null  float64       \n",
            " 27  approved_handled_time          13718 non-null  float64       \n",
            " 28  handled_delivery_time          13718 non-null  float64       \n",
            " 29  delivery_estimated_time        13718 non-null  float64       \n",
            "dtypes: datetime64[ns](6), float64(12), int64(7), object(5)\n",
            "memory usage: 3.1+ MB\n"
          ]
        }
      ]
    },
    {
      "cell_type": "markdown",
      "source": [
        "# Recency value\n",
        "Time since a customer’s last purchase.\n"
      ],
      "metadata": {
        "id": "0gFHEggJm4YJ"
      }
    },
    {
      "cell_type": "markdown",
      "source": [
        "**Calculate the Recency value:** \n",
        "\n",
        "We can calculate the time since a customer's last purchase by subtracting the purchase_date of the most recent order of each customer from last date on the dataframe. We can create a new column called \"recency\" to store the calculated values."
      ],
      "metadata": {
        "id": "m2HP_9xkgb1y"
      }
    },
    {
      "cell_type": "code",
      "source": [
        "import pandas as pd\n",
        "import datetime as dt\n",
        "\n",
        "# Calculate recency\n",
        "current_date = df['purchase_date'].max()\n",
        "df['purchase_date'] = pd.to_datetime(df['purchase_date'])\n",
        "recency_df = df.groupby('customer_unique_id')['purchase_date'].max().reset_index()\n",
        "recency_df['recency'] = (current_date - recency_df['purchase_date']).dt.days\n",
        "recency_df.drop('purchase_date', axis=1, inplace=True)\n",
        "\n",
        "# merge recency_df with the original df using customer_unique_id\n",
        "df = pd.merge(df, recency_df, on='customer_unique_id')"
      ],
      "metadata": {
        "id": "hPqd544ZfLgq"
      },
      "execution_count": 57,
      "outputs": []
    },
    {
      "cell_type": "code",
      "source": [
        "df.shape"
      ],
      "metadata": {
        "id": "ZbTgTk9mgQ_6",
        "outputId": "d8cea336-aa7a-4a9a-a238-5c3dd663c3ca",
        "colab": {
          "base_uri": "https://localhost:8080/"
        }
      },
      "execution_count": 58,
      "outputs": [
        {
          "output_type": "execute_result",
          "data": {
            "text/plain": [
              "(13718, 31)"
            ]
          },
          "metadata": {},
          "execution_count": 58
        }
      ]
    },
    {
      "cell_type": "markdown",
      "source": [
        "# Frequency value\n",
        "Refers to the number of times a customer has made a purchase.\n"
      ],
      "metadata": {
        "id": "PA1523ePnHrl"
      }
    },
    {
      "cell_type": "markdown",
      "source": [
        "**Calculate the Frequency value:**\n",
        "\n",
        "We can calculate the number of orders made by each customer by counting the number of unique order_ids associated with each customer_unique_id. We can create a new column called \"frequency\" to store the calculated values."
      ],
      "metadata": {
        "id": "t-mAc37OgnGa"
      }
    },
    {
      "cell_type": "code",
      "source": [
        "import pandas as pd\n",
        "import datetime as dt\n",
        "\n",
        "# Calculate frequency\n",
        "frequency_df = df.groupby('customer_unique_id')['order_id'].nunique().reset_index()\n",
        "frequency_df.rename(columns={'order_id': 'frequency'}, inplace=True)\n",
        "\n",
        "# merge frequency_df with the original df using customer_unique_id\n",
        "df = pd.merge(df, frequency_df, on='customer_unique_id')"
      ],
      "metadata": {
        "id": "z6gLlptPfNCd"
      },
      "execution_count": 59,
      "outputs": []
    },
    {
      "cell_type": "markdown",
      "source": [
        "# Monetary value \n",
        "Refers to the total amount a customer has spent purchasing products"
      ],
      "metadata": {
        "id": "CIJOshMInNiN"
      }
    },
    {
      "cell_type": "markdown",
      "source": [
        "**Calculate the Monetary value:**\n",
        "\n",
        "We can calculate the total amount spent by each customer by summing up the payment_value of all orders associated with each customer_unique_id. We can create a new column called \"monetary\" to store the calculated values."
      ],
      "metadata": {
        "id": "fckPKr2Xgumw"
      }
    },
    {
      "cell_type": "code",
      "source": [
        "import pandas as pd\n",
        "import datetime as dt\n",
        "\n",
        "# Calculate monetary\n",
        "monetary_df = df.groupby('customer_unique_id')['payment_value'].sum().reset_index()\n",
        "monetary_df.rename(columns={'payment_value': 'monetary'}, inplace=True)\n",
        "\n",
        "# merge monetary_df with the original df using customer_unique_id\n",
        "df = pd.merge(df, monetary_df, on='customer_unique_id')"
      ],
      "metadata": {
        "id": "vVoudwdjfOnY"
      },
      "execution_count": 60,
      "outputs": []
    },
    {
      "cell_type": "markdown",
      "source": [
        "# Export the data"
      ],
      "metadata": {
        "id": "sk_ZRrQefPAK"
      }
    },
    {
      "cell_type": "code",
      "source": [
        "df.head()"
      ],
      "metadata": {
        "id": "WXFL-vSQg0_o",
        "outputId": "d76427ac-afcc-4b16-e09c-b6f467f2a302",
        "colab": {
          "base_uri": "https://localhost:8080/",
          "height": 357
        }
      },
      "execution_count": 61,
      "outputs": [
        {
          "output_type": "execute_result",
          "data": {
            "text/plain": [
              "                           order_id                       customer_id  \\\n",
              "0  53cdb2fc8bc7dce0b6741e2150273451  b0830fb4747a6c6d20dea0b8c802d7ef   \n",
              "1  86674ccaee19790309333210917b2c7d  1b338293f35549b5e480b9a3d7bbf3cd   \n",
              "2  aee682982e18eb4714ce9f97b15af5e2  8858442ea4d5dc5bb9e118e8f728095d   \n",
              "3  f7f0b79050e7ef0b1cf7ffceb0aa114a  46fb8cff647939aaf32c4ab5be554501   \n",
              "4  d543201a9b42a1402ff97e65b439a48b  971bf8f42a9f8cb3ead257854905b454   \n",
              "\n",
              "   order_status       purchase_date       approved_date  \\\n",
              "0             1 2018-07-24 20:41:37 2018-07-26 03:24:27   \n",
              "1             1 2018-08-09 11:37:35 2018-08-09 14:35:19   \n",
              "2             1 2018-07-09 18:46:28 2018-07-11 03:45:45   \n",
              "3             1 2018-08-04 14:40:31 2018-08-07 04:44:36   \n",
              "4             1 2018-08-21 10:00:25 2018-08-21 10:50:54   \n",
              "\n",
              "  handled_by_logistic_date       delivery_date estimated_delivery_date  \\\n",
              "0      2018-07-26 14:31:00 2018-08-07 15:27:45              2018-08-13   \n",
              "1      2018-08-10 14:34:00 2018-08-14 18:51:47              2018-08-22   \n",
              "2      2018-07-11 15:01:00 2018-07-12 18:14:35              2018-07-18   \n",
              "3      2018-08-13 15:19:00 2018-08-14 15:08:57              2018-08-10   \n",
              "4      2018-08-22 15:21:00 2018-08-28 18:58:22              2018-09-10   \n",
              "\n",
              "   payment_type  payment_installments  payment_value  \\\n",
              "0             0                     1         141.46   \n",
              "1             1                     5         135.82   \n",
              "2             0                     1         128.04   \n",
              "3             0                     1         126.23   \n",
              "4             1                     2         279.30   \n",
              "\n",
              "                 customer_unique_id  customer_city  customer_state  \\\n",
              "0  af07308b275d755c9edb36a90c618231     155.974000      149.392957   \n",
              "1  8b8028d453a01986b48c4271cc341475     131.450000      113.491669   \n",
              "2  3edcab192482e9871c17b34cf98c3996      76.536923      125.816993   \n",
              "3  3edcab192482e9871c17b34cf98c3996      76.675385      125.818226   \n",
              "4  958ac7760e5484df1496ba5833ab6117     820.847500      146.354385   \n",
              "\n",
              "   item_per_order                        product_id  \\\n",
              "0               1  595fac2a385ac33a80bd5114aec74eb8   \n",
              "1               1  595fac2a385ac33a80bd5114aec74eb8   \n",
              "2               1  595fac2a385ac33a80bd5114aec74eb8   \n",
              "3               1  595fac2a385ac33a80bd5114aec74eb8   \n",
              "4               1  595fac2a385ac33a80bd5114aec74eb8   \n",
              "\n",
              "                          seller_id shipping_limit_date  price  freight_value  \\\n",
              "0  289cdb325fb7e7f891c38608bf9e0962 2018-07-30 03:24:27  118.7          22.76   \n",
              "1  289cdb325fb7e7f891c38608bf9e0962 2018-08-13 14:31:29  116.9          18.92   \n",
              "2  289cdb325fb7e7f891c38608bf9e0962 2018-07-13 03:45:45  118.7           9.34   \n",
              "3  289cdb325fb7e7f891c38608bf9e0962 2018-08-09 04:44:36  116.9           9.33   \n",
              "4  289cdb325fb7e7f891c38608bf9e0962 2018-08-23 10:50:54  116.9          22.75   \n",
              "\n",
              "   seller_city  seller_state  product_category_name  product_name_lenght  \\\n",
              "0    88.027414    116.608786             122.827009                   29   \n",
              "1    88.034259    116.608968             122.832287                   29   \n",
              "2    88.027414    116.608786             122.827009                   29   \n",
              "3    88.034259    116.608968             122.832287                   29   \n",
              "4    88.034259    116.608968             122.832287                   29   \n",
              "\n",
              "   product_description_lenght  product_category_name_english  \\\n",
              "0                         178                             55   \n",
              "1                         178                             55   \n",
              "2                         178                             55   \n",
              "3                         178                             55   \n",
              "4                         178                             55   \n",
              "\n",
              "   purchase_approved_time  approved_handled_time  handled_delivery_time  \\\n",
              "0                 1842.83                 666.55               17336.75   \n",
              "1                  177.73                1438.68                6017.78   \n",
              "2                 1979.28                 675.25                1633.58   \n",
              "3                 3724.08                9274.40                1429.95   \n",
              "4                   50.48                1710.10                8857.37   \n",
              "\n",
              "   delivery_estimated_time  recency  frequency  monetary  \n",
              "0                  7712.25       35          1    141.46  \n",
              "1                 10388.22       20          1    135.82  \n",
              "2                  7545.42       25          2    254.27  \n",
              "3                 -6668.95       25          2    254.27  \n",
              "4                 17581.63        8          1    558.60  "
            ],
            "text/html": [
              "\n",
              "  <div id=\"df-fbab020c-bc36-481b-87a7-955a428971d1\">\n",
              "    <div class=\"colab-df-container\">\n",
              "      <div>\n",
              "<style scoped>\n",
              "    .dataframe tbody tr th:only-of-type {\n",
              "        vertical-align: middle;\n",
              "    }\n",
              "\n",
              "    .dataframe tbody tr th {\n",
              "        vertical-align: top;\n",
              "    }\n",
              "\n",
              "    .dataframe thead th {\n",
              "        text-align: right;\n",
              "    }\n",
              "</style>\n",
              "<table border=\"1\" class=\"dataframe\">\n",
              "  <thead>\n",
              "    <tr style=\"text-align: right;\">\n",
              "      <th></th>\n",
              "      <th>order_id</th>\n",
              "      <th>customer_id</th>\n",
              "      <th>order_status</th>\n",
              "      <th>purchase_date</th>\n",
              "      <th>approved_date</th>\n",
              "      <th>handled_by_logistic_date</th>\n",
              "      <th>delivery_date</th>\n",
              "      <th>estimated_delivery_date</th>\n",
              "      <th>payment_type</th>\n",
              "      <th>payment_installments</th>\n",
              "      <th>payment_value</th>\n",
              "      <th>customer_unique_id</th>\n",
              "      <th>customer_city</th>\n",
              "      <th>customer_state</th>\n",
              "      <th>item_per_order</th>\n",
              "      <th>product_id</th>\n",
              "      <th>seller_id</th>\n",
              "      <th>shipping_limit_date</th>\n",
              "      <th>price</th>\n",
              "      <th>freight_value</th>\n",
              "      <th>seller_city</th>\n",
              "      <th>seller_state</th>\n",
              "      <th>product_category_name</th>\n",
              "      <th>product_name_lenght</th>\n",
              "      <th>product_description_lenght</th>\n",
              "      <th>product_category_name_english</th>\n",
              "      <th>purchase_approved_time</th>\n",
              "      <th>approved_handled_time</th>\n",
              "      <th>handled_delivery_time</th>\n",
              "      <th>delivery_estimated_time</th>\n",
              "      <th>recency</th>\n",
              "      <th>frequency</th>\n",
              "      <th>monetary</th>\n",
              "    </tr>\n",
              "  </thead>\n",
              "  <tbody>\n",
              "    <tr>\n",
              "      <th>0</th>\n",
              "      <td>53cdb2fc8bc7dce0b6741e2150273451</td>\n",
              "      <td>b0830fb4747a6c6d20dea0b8c802d7ef</td>\n",
              "      <td>1</td>\n",
              "      <td>2018-07-24 20:41:37</td>\n",
              "      <td>2018-07-26 03:24:27</td>\n",
              "      <td>2018-07-26 14:31:00</td>\n",
              "      <td>2018-08-07 15:27:45</td>\n",
              "      <td>2018-08-13</td>\n",
              "      <td>0</td>\n",
              "      <td>1</td>\n",
              "      <td>141.46</td>\n",
              "      <td>af07308b275d755c9edb36a90c618231</td>\n",
              "      <td>155.974000</td>\n",
              "      <td>149.392957</td>\n",
              "      <td>1</td>\n",
              "      <td>595fac2a385ac33a80bd5114aec74eb8</td>\n",
              "      <td>289cdb325fb7e7f891c38608bf9e0962</td>\n",
              "      <td>2018-07-30 03:24:27</td>\n",
              "      <td>118.7</td>\n",
              "      <td>22.76</td>\n",
              "      <td>88.027414</td>\n",
              "      <td>116.608786</td>\n",
              "      <td>122.827009</td>\n",
              "      <td>29</td>\n",
              "      <td>178</td>\n",
              "      <td>55</td>\n",
              "      <td>1842.83</td>\n",
              "      <td>666.55</td>\n",
              "      <td>17336.75</td>\n",
              "      <td>7712.25</td>\n",
              "      <td>35</td>\n",
              "      <td>1</td>\n",
              "      <td>141.46</td>\n",
              "    </tr>\n",
              "    <tr>\n",
              "      <th>1</th>\n",
              "      <td>86674ccaee19790309333210917b2c7d</td>\n",
              "      <td>1b338293f35549b5e480b9a3d7bbf3cd</td>\n",
              "      <td>1</td>\n",
              "      <td>2018-08-09 11:37:35</td>\n",
              "      <td>2018-08-09 14:35:19</td>\n",
              "      <td>2018-08-10 14:34:00</td>\n",
              "      <td>2018-08-14 18:51:47</td>\n",
              "      <td>2018-08-22</td>\n",
              "      <td>1</td>\n",
              "      <td>5</td>\n",
              "      <td>135.82</td>\n",
              "      <td>8b8028d453a01986b48c4271cc341475</td>\n",
              "      <td>131.450000</td>\n",
              "      <td>113.491669</td>\n",
              "      <td>1</td>\n",
              "      <td>595fac2a385ac33a80bd5114aec74eb8</td>\n",
              "      <td>289cdb325fb7e7f891c38608bf9e0962</td>\n",
              "      <td>2018-08-13 14:31:29</td>\n",
              "      <td>116.9</td>\n",
              "      <td>18.92</td>\n",
              "      <td>88.034259</td>\n",
              "      <td>116.608968</td>\n",
              "      <td>122.832287</td>\n",
              "      <td>29</td>\n",
              "      <td>178</td>\n",
              "      <td>55</td>\n",
              "      <td>177.73</td>\n",
              "      <td>1438.68</td>\n",
              "      <td>6017.78</td>\n",
              "      <td>10388.22</td>\n",
              "      <td>20</td>\n",
              "      <td>1</td>\n",
              "      <td>135.82</td>\n",
              "    </tr>\n",
              "    <tr>\n",
              "      <th>2</th>\n",
              "      <td>aee682982e18eb4714ce9f97b15af5e2</td>\n",
              "      <td>8858442ea4d5dc5bb9e118e8f728095d</td>\n",
              "      <td>1</td>\n",
              "      <td>2018-07-09 18:46:28</td>\n",
              "      <td>2018-07-11 03:45:45</td>\n",
              "      <td>2018-07-11 15:01:00</td>\n",
              "      <td>2018-07-12 18:14:35</td>\n",
              "      <td>2018-07-18</td>\n",
              "      <td>0</td>\n",
              "      <td>1</td>\n",
              "      <td>128.04</td>\n",
              "      <td>3edcab192482e9871c17b34cf98c3996</td>\n",
              "      <td>76.536923</td>\n",
              "      <td>125.816993</td>\n",
              "      <td>1</td>\n",
              "      <td>595fac2a385ac33a80bd5114aec74eb8</td>\n",
              "      <td>289cdb325fb7e7f891c38608bf9e0962</td>\n",
              "      <td>2018-07-13 03:45:45</td>\n",
              "      <td>118.7</td>\n",
              "      <td>9.34</td>\n",
              "      <td>88.027414</td>\n",
              "      <td>116.608786</td>\n",
              "      <td>122.827009</td>\n",
              "      <td>29</td>\n",
              "      <td>178</td>\n",
              "      <td>55</td>\n",
              "      <td>1979.28</td>\n",
              "      <td>675.25</td>\n",
              "      <td>1633.58</td>\n",
              "      <td>7545.42</td>\n",
              "      <td>25</td>\n",
              "      <td>2</td>\n",
              "      <td>254.27</td>\n",
              "    </tr>\n",
              "    <tr>\n",
              "      <th>3</th>\n",
              "      <td>f7f0b79050e7ef0b1cf7ffceb0aa114a</td>\n",
              "      <td>46fb8cff647939aaf32c4ab5be554501</td>\n",
              "      <td>1</td>\n",
              "      <td>2018-08-04 14:40:31</td>\n",
              "      <td>2018-08-07 04:44:36</td>\n",
              "      <td>2018-08-13 15:19:00</td>\n",
              "      <td>2018-08-14 15:08:57</td>\n",
              "      <td>2018-08-10</td>\n",
              "      <td>0</td>\n",
              "      <td>1</td>\n",
              "      <td>126.23</td>\n",
              "      <td>3edcab192482e9871c17b34cf98c3996</td>\n",
              "      <td>76.675385</td>\n",
              "      <td>125.818226</td>\n",
              "      <td>1</td>\n",
              "      <td>595fac2a385ac33a80bd5114aec74eb8</td>\n",
              "      <td>289cdb325fb7e7f891c38608bf9e0962</td>\n",
              "      <td>2018-08-09 04:44:36</td>\n",
              "      <td>116.9</td>\n",
              "      <td>9.33</td>\n",
              "      <td>88.034259</td>\n",
              "      <td>116.608968</td>\n",
              "      <td>122.832287</td>\n",
              "      <td>29</td>\n",
              "      <td>178</td>\n",
              "      <td>55</td>\n",
              "      <td>3724.08</td>\n",
              "      <td>9274.40</td>\n",
              "      <td>1429.95</td>\n",
              "      <td>-6668.95</td>\n",
              "      <td>25</td>\n",
              "      <td>2</td>\n",
              "      <td>254.27</td>\n",
              "    </tr>\n",
              "    <tr>\n",
              "      <th>4</th>\n",
              "      <td>d543201a9b42a1402ff97e65b439a48b</td>\n",
              "      <td>971bf8f42a9f8cb3ead257854905b454</td>\n",
              "      <td>1</td>\n",
              "      <td>2018-08-21 10:00:25</td>\n",
              "      <td>2018-08-21 10:50:54</td>\n",
              "      <td>2018-08-22 15:21:00</td>\n",
              "      <td>2018-08-28 18:58:22</td>\n",
              "      <td>2018-09-10</td>\n",
              "      <td>1</td>\n",
              "      <td>2</td>\n",
              "      <td>279.30</td>\n",
              "      <td>958ac7760e5484df1496ba5833ab6117</td>\n",
              "      <td>820.847500</td>\n",
              "      <td>146.354385</td>\n",
              "      <td>1</td>\n",
              "      <td>595fac2a385ac33a80bd5114aec74eb8</td>\n",
              "      <td>289cdb325fb7e7f891c38608bf9e0962</td>\n",
              "      <td>2018-08-23 10:50:54</td>\n",
              "      <td>116.9</td>\n",
              "      <td>22.75</td>\n",
              "      <td>88.034259</td>\n",
              "      <td>116.608968</td>\n",
              "      <td>122.832287</td>\n",
              "      <td>29</td>\n",
              "      <td>178</td>\n",
              "      <td>55</td>\n",
              "      <td>50.48</td>\n",
              "      <td>1710.10</td>\n",
              "      <td>8857.37</td>\n",
              "      <td>17581.63</td>\n",
              "      <td>8</td>\n",
              "      <td>1</td>\n",
              "      <td>558.60</td>\n",
              "    </tr>\n",
              "  </tbody>\n",
              "</table>\n",
              "</div>\n",
              "      <button class=\"colab-df-convert\" onclick=\"convertToInteractive('df-fbab020c-bc36-481b-87a7-955a428971d1')\"\n",
              "              title=\"Convert this dataframe to an interactive table.\"\n",
              "              style=\"display:none;\">\n",
              "        \n",
              "  <svg xmlns=\"http://www.w3.org/2000/svg\" height=\"24px\"viewBox=\"0 0 24 24\"\n",
              "       width=\"24px\">\n",
              "    <path d=\"M0 0h24v24H0V0z\" fill=\"none\"/>\n",
              "    <path d=\"M18.56 5.44l.94 2.06.94-2.06 2.06-.94-2.06-.94-.94-2.06-.94 2.06-2.06.94zm-11 1L8.5 8.5l.94-2.06 2.06-.94-2.06-.94L8.5 2.5l-.94 2.06-2.06.94zm10 10l.94 2.06.94-2.06 2.06-.94-2.06-.94-.94-2.06-.94 2.06-2.06.94z\"/><path d=\"M17.41 7.96l-1.37-1.37c-.4-.4-.92-.59-1.43-.59-.52 0-1.04.2-1.43.59L10.3 9.45l-7.72 7.72c-.78.78-.78 2.05 0 2.83L4 21.41c.39.39.9.59 1.41.59.51 0 1.02-.2 1.41-.59l7.78-7.78 2.81-2.81c.8-.78.8-2.07 0-2.86zM5.41 20L4 18.59l7.72-7.72 1.47 1.35L5.41 20z\"/>\n",
              "  </svg>\n",
              "      </button>\n",
              "      \n",
              "  <style>\n",
              "    .colab-df-container {\n",
              "      display:flex;\n",
              "      flex-wrap:wrap;\n",
              "      gap: 12px;\n",
              "    }\n",
              "\n",
              "    .colab-df-convert {\n",
              "      background-color: #E8F0FE;\n",
              "      border: none;\n",
              "      border-radius: 50%;\n",
              "      cursor: pointer;\n",
              "      display: none;\n",
              "      fill: #1967D2;\n",
              "      height: 32px;\n",
              "      padding: 0 0 0 0;\n",
              "      width: 32px;\n",
              "    }\n",
              "\n",
              "    .colab-df-convert:hover {\n",
              "      background-color: #E2EBFA;\n",
              "      box-shadow: 0px 1px 2px rgba(60, 64, 67, 0.3), 0px 1px 3px 1px rgba(60, 64, 67, 0.15);\n",
              "      fill: #174EA6;\n",
              "    }\n",
              "\n",
              "    [theme=dark] .colab-df-convert {\n",
              "      background-color: #3B4455;\n",
              "      fill: #D2E3FC;\n",
              "    }\n",
              "\n",
              "    [theme=dark] .colab-df-convert:hover {\n",
              "      background-color: #434B5C;\n",
              "      box-shadow: 0px 1px 3px 1px rgba(0, 0, 0, 0.15);\n",
              "      filter: drop-shadow(0px 1px 2px rgba(0, 0, 0, 0.3));\n",
              "      fill: #FFFFFF;\n",
              "    }\n",
              "  </style>\n",
              "\n",
              "      <script>\n",
              "        const buttonEl =\n",
              "          document.querySelector('#df-fbab020c-bc36-481b-87a7-955a428971d1 button.colab-df-convert');\n",
              "        buttonEl.style.display =\n",
              "          google.colab.kernel.accessAllowed ? 'block' : 'none';\n",
              "\n",
              "        async function convertToInteractive(key) {\n",
              "          const element = document.querySelector('#df-fbab020c-bc36-481b-87a7-955a428971d1');\n",
              "          const dataTable =\n",
              "            await google.colab.kernel.invokeFunction('convertToInteractive',\n",
              "                                                     [key], {});\n",
              "          if (!dataTable) return;\n",
              "\n",
              "          const docLinkHtml = 'Like what you see? Visit the ' +\n",
              "            '<a target=\"_blank\" href=https://colab.research.google.com/notebooks/data_table.ipynb>data table notebook</a>'\n",
              "            + ' to learn more about interactive tables.';\n",
              "          element.innerHTML = '';\n",
              "          dataTable['output_type'] = 'display_data';\n",
              "          await google.colab.output.renderOutput(dataTable, element);\n",
              "          const docLink = document.createElement('div');\n",
              "          docLink.innerHTML = docLinkHtml;\n",
              "          element.appendChild(docLink);\n",
              "        }\n",
              "      </script>\n",
              "    </div>\n",
              "  </div>\n",
              "  "
            ]
          },
          "metadata": {},
          "execution_count": 61
        }
      ]
    },
    {
      "cell_type": "code",
      "source": [
        "df.to_csv('/content/drive/MyDrive/University/ML/customer_segmentation_rfm.csv', index=False)"
      ],
      "metadata": {
        "id": "IK6Zhu_9g2eq"
      },
      "execution_count": 62,
      "outputs": []
    }
  ]
}