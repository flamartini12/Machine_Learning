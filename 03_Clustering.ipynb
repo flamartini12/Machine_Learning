{
  "nbformat": 4,
  "nbformat_minor": 0,
  "metadata": {
    "colab": {
      "provenance": [],
      "authorship_tag": "ABX9TyMoj3roYEG5P89mQNp0K7WH",
      "include_colab_link": true
    },
    "kernelspec": {
      "name": "python3",
      "display_name": "Python 3"
    },
    "language_info": {
      "name": "python"
    }
  },
  "cells": [
    {
      "cell_type": "markdown",
      "metadata": {
        "id": "view-in-github",
        "colab_type": "text"
      },
      "source": [
        "<a href=\"https://colab.research.google.com/github/giakomorssi/Machine_Learning/blob/main/03_Clustering.ipynb\" target=\"_parent\"><img src=\"https://colab.research.google.com/assets/colab-badge.svg\" alt=\"Open In Colab\"/></a>"
      ]
    },
    {
      "cell_type": "markdown",
      "source": [
        "# Clustering\n",
        "\n",
        "*   Identify the proper number of clusters, and evaluate different options.\n",
        "*   Describe the properties of the clusters you have identified.\n",
        "*   Describe the properties of the customers belonging to each cluster"
      ],
      "metadata": {
        "id": "SBiw4I93niuZ"
      }
    },
    {
      "cell_type": "code",
      "source": [
        "# Cluster the data\n",
        "from sklearn.cluster import KMeans\n",
        "from sklearn.metrics import silhouette_score, silhouette_samples\n",
        "\n",
        "silhouette_scores = []\n",
        "\n",
        "X = df.drop(['customer_id', 'purchase_date', 'approved_date',\t'handled_by_logistic_date',\t'delivery_date',\t'estimated_delivery_date', 'shipping_limit_date'], axis=1)\n",
        "\n",
        "# Calculate within-cluster sum of squares for different values of k\n",
        "wcss = []\n",
        "for i in range(2, 11):\n",
        "    kmeans = KMeans(n_clusters=i, init='k-means++', max_iter=300, n_init=10)\n",
        "    kmeans.fit(X)\n",
        "    wcss.append(kmeans.inertia_)\n",
        "    labels = kmeans.predict(X)\n",
        "    silhouette_avg = silhouette_score(X, labels)\n",
        "    silhouette_scores.append(silhouette_avg)\n",
        "\n",
        "# Plot the elbow graph\n",
        "plt.plot(range(2, 11), wcss)\n",
        "plt.title('Elbow Method')\n",
        "plt.xlabel('Number of clusters')\n",
        "plt.ylabel('WCSS')\n",
        "plt.show()\n",
        "\n",
        "# Plot the silhouette scores for each value of k\n",
        "plt.plot(range(2, 11), silhouette_scores)\n",
        "plt.title('Silhouette Method')\n",
        "plt.xlabel('Number of clusters')\n",
        "plt.ylabel('Silhouette Score')\n",
        "plt.show()"
      ],
      "metadata": {
        "id": "gy20OmiqnkA2"
      },
      "execution_count": null,
      "outputs": []
    },
    {
      "cell_type": "markdown",
      "source": [
        "# Find the optimal value for k"
      ],
      "metadata": {
        "id": "0Bn6AAWCnzGY"
      }
    },
    {
      "cell_type": "code",
      "execution_count": null,
      "metadata": {
        "id": "233TL50dnbNW"
      },
      "outputs": [],
      "source": [
        "diffs = np.diff(wcss)\n",
        "acceleration = np.diff(diffs)\n",
        "optimal_k = acceleration.argmax() + 2\n",
        "print(\"Optimal k value:\", optimal_k)"
      ]
    },
    {
      "cell_type": "code",
      "source": [
        "kmeans = KMeans(n_clusters=optimal_k, init='k-means++', max_iter=300, n_init=10)\n",
        "kmeans.fit(X)\n",
        "\n",
        "df['Cluster'] = kmeans.labels_\n",
        "df['Cluster'].value_counts()"
      ],
      "metadata": {
        "id": "Dh8six0TnqnP"
      },
      "execution_count": null,
      "outputs": []
    },
    {
      "cell_type": "markdown",
      "source": [
        "# Most Important Features"
      ],
      "metadata": {
        "id": "CDCtAKtdnvwG"
      }
    },
    {
      "cell_type": "code",
      "source": [
        "# get cluster centers and feature names\n",
        "cluster_centers = kmeans.cluster_centers_\n",
        "feature_names = df.columns\n",
        "\n",
        "# loop through each cluster center and print top 3 most important features\n",
        "for i, center in enumerate(cluster_centers):\n",
        "    top_features = sorted(zip(feature_names, center), key=lambda x: x[1], reverse=True)[:3]\n",
        "    print(f\"Top 3 features for cluster {i+1}: {top_features}\")"
      ],
      "metadata": {
        "id": "rz6cdBmyntwQ"
      },
      "execution_count": null,
      "outputs": []
    }
  ]
}