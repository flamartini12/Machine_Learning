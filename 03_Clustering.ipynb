{
  "nbformat": 4,
  "nbformat_minor": 0,
  "metadata": {
    "colab": {
      "provenance": [],
      "authorship_tag": "ABX9TyOiG9ImrjmTtNJS3CEt/iLZ",
      "include_colab_link": true
    },
    "kernelspec": {
      "name": "python3",
      "display_name": "Python 3"
    },
    "language_info": {
      "name": "python"
    }
  },
  "cells": [
    {
      "cell_type": "markdown",
      "metadata": {
        "id": "view-in-github",
        "colab_type": "text"
      },
      "source": [
        "<a href=\"https://colab.research.google.com/github/giakomorssi/Machine_Learning/blob/main/03_Clustering.ipynb\" target=\"_parent\"><img src=\"https://colab.research.google.com/assets/colab-badge.svg\" alt=\"Open In Colab\"/></a>"
      ]
    },
    {
      "cell_type": "markdown",
      "source": [
        "# Import the Data"
      ],
      "metadata": {
        "id": "CnGTD552eUE5"
      }
    },
    {
      "cell_type": "code",
      "source": [
        "from google.colab import drive\n",
        "drive.mount('/content/drive')\n",
        "\n",
        "import pandas as pd\n",
        "\n",
        "# Change Colab runtime to GPU\n",
        "import os\n",
        "os.environ['COLAB_TPU_ADDR'] = ''\n",
        "os.environ['COLAB_GPU_ALLOC'] = '1'\n",
        "os.environ['COLAB_GPU'] = '1'\n",
        "print(\"Runtime switched to GPU\")\n",
        "\n",
        "import tensorflow as tf\n",
        "\n",
        "# This code sets the runtime to use the GPU if available\n",
        "if tf.test.gpu_device_name():\n",
        "    print('Default GPU Device: {}'.format(tf.test.gpu_device_name()))\n",
        "else:\n",
        "    print(\"Please install GPU version of TF\")\n",
        "\n",
        "pd.set_option('display.max_columns', None)"
      ],
      "metadata": {
        "id": "yG3S8plDeWhb",
        "outputId": "c0bae4e2-48e0-477c-b6f8-9c87f4a91564",
        "colab": {
          "base_uri": "https://localhost:8080/"
        }
      },
      "execution_count": 41,
      "outputs": [
        {
          "output_type": "stream",
          "name": "stdout",
          "text": [
            "Drive already mounted at /content/drive; to attempt to forcibly remount, call drive.mount(\"/content/drive\", force_remount=True).\n",
            "Runtime switched to GPU\n",
            "Please install GPU version of TF\n"
          ]
        }
      ]
    },
    {
      "cell_type": "code",
      "source": [
        "df = pd.read_csv('/content/drive/MyDrive/University/ML/customer_segmentation_RFM.csv')"
      ],
      "metadata": {
        "id": "0qt2ZnE7egkb"
      },
      "execution_count": 42,
      "outputs": []
    },
    {
      "cell_type": "code",
      "source": [
        "df.head()"
      ],
      "metadata": {
        "id": "Yy2Ug1ezeuZ2",
        "outputId": "90a5d12e-65cf-41ad-85e6-9c936418aaf2",
        "colab": {
          "base_uri": "https://localhost:8080/",
          "height": 357
        }
      },
      "execution_count": 43,
      "outputs": [
        {
          "output_type": "execute_result",
          "data": {
            "text/plain": [
              "                           order_id                       customer_id  \\\n",
              "0  53cdb2fc8bc7dce0b6741e2150273451  b0830fb4747a6c6d20dea0b8c802d7ef   \n",
              "1  86674ccaee19790309333210917b2c7d  1b338293f35549b5e480b9a3d7bbf3cd   \n",
              "2  aee682982e18eb4714ce9f97b15af5e2  8858442ea4d5dc5bb9e118e8f728095d   \n",
              "3  f7f0b79050e7ef0b1cf7ffceb0aa114a  46fb8cff647939aaf32c4ab5be554501   \n",
              "4  d543201a9b42a1402ff97e65b439a48b  971bf8f42a9f8cb3ead257854905b454   \n",
              "\n",
              "   order_status        purchase_date        approved_date  \\\n",
              "0             1  2018-07-24 20:41:37  2018-07-26 03:24:27   \n",
              "1             1  2018-08-09 11:37:35  2018-08-09 14:35:19   \n",
              "2             1  2018-07-09 18:46:28  2018-07-11 03:45:45   \n",
              "3             1  2018-08-04 14:40:31  2018-08-07 04:44:36   \n",
              "4             1  2018-08-21 10:00:25  2018-08-21 10:50:54   \n",
              "\n",
              "  handled_by_logistic_date        delivery_date estimated_delivery_date  \\\n",
              "0      2018-07-26 14:31:00  2018-08-07 15:27:45              2018-08-13   \n",
              "1      2018-08-10 14:34:00  2018-08-14 18:51:47              2018-08-22   \n",
              "2      2018-07-11 15:01:00  2018-07-12 18:14:35              2018-07-18   \n",
              "3      2018-08-13 15:19:00  2018-08-14 15:08:57              2018-08-10   \n",
              "4      2018-08-22 15:21:00  2018-08-28 18:58:22              2018-09-10   \n",
              "\n",
              "   payment_type  payment_installments  payment_value  \\\n",
              "0             0                     1         141.46   \n",
              "1             1                     5         135.82   \n",
              "2             0                     1         128.04   \n",
              "3             0                     1         126.23   \n",
              "4             1                     2         279.30   \n",
              "\n",
              "                 customer_unique_id  customer_city  customer_state  \\\n",
              "0  af07308b275d755c9edb36a90c618231     155.974000      149.392957   \n",
              "1  8b8028d453a01986b48c4271cc341475     131.450000      113.491669   \n",
              "2  3edcab192482e9871c17b34cf98c3996      76.536923      125.816993   \n",
              "3  3edcab192482e9871c17b34cf98c3996      76.675385      125.818226   \n",
              "4  958ac7760e5484df1496ba5833ab6117     820.847500      146.354385   \n",
              "\n",
              "   item_per_order                        product_id  \\\n",
              "0               1  595fac2a385ac33a80bd5114aec74eb8   \n",
              "1               1  595fac2a385ac33a80bd5114aec74eb8   \n",
              "2               1  595fac2a385ac33a80bd5114aec74eb8   \n",
              "3               1  595fac2a385ac33a80bd5114aec74eb8   \n",
              "4               1  595fac2a385ac33a80bd5114aec74eb8   \n",
              "\n",
              "                          seller_id  shipping_limit_date  price  \\\n",
              "0  289cdb325fb7e7f891c38608bf9e0962  2018-07-30 03:24:27  118.7   \n",
              "1  289cdb325fb7e7f891c38608bf9e0962  2018-08-13 14:31:29  116.9   \n",
              "2  289cdb325fb7e7f891c38608bf9e0962  2018-07-13 03:45:45  118.7   \n",
              "3  289cdb325fb7e7f891c38608bf9e0962  2018-08-09 04:44:36  116.9   \n",
              "4  289cdb325fb7e7f891c38608bf9e0962  2018-08-23 10:50:54  116.9   \n",
              "\n",
              "   freight_value  seller_city  seller_state  product_category_name  \\\n",
              "0          22.76    88.027414    116.608786             122.827009   \n",
              "1          18.92    88.034259    116.608968             122.832287   \n",
              "2           9.34    88.027414    116.608786             122.827009   \n",
              "3           9.33    88.034259    116.608968             122.832287   \n",
              "4          22.75    88.034259    116.608968             122.832287   \n",
              "\n",
              "   product_name_lenght  product_description_lenght  \\\n",
              "0                   29                         178   \n",
              "1                   29                         178   \n",
              "2                   29                         178   \n",
              "3                   29                         178   \n",
              "4                   29                         178   \n",
              "\n",
              "   product_category_name_english  purchase_approved_time  \\\n",
              "0                             55                 1842.83   \n",
              "1                             55                  177.73   \n",
              "2                             55                 1979.28   \n",
              "3                             55                 3724.08   \n",
              "4                             55                   50.48   \n",
              "\n",
              "   approved_handled_time  handled_delivery_time  delivery_estimated_time  \\\n",
              "0                 666.55               17336.75                  7712.25   \n",
              "1                1438.68                6017.78                 10388.22   \n",
              "2                 675.25                1633.58                  7545.42   \n",
              "3                9274.40                1429.95                 -6668.95   \n",
              "4                1710.10                8857.37                 17581.63   \n",
              "\n",
              "   recency  frequency  monetary  \n",
              "0       35          1    141.46  \n",
              "1       20          1    135.82  \n",
              "2       25          2    254.27  \n",
              "3       25          2    254.27  \n",
              "4        8          1    558.60  "
            ],
            "text/html": [
              "\n",
              "  <div id=\"df-256771f0-e511-439f-b797-4c5b5ade8afa\">\n",
              "    <div class=\"colab-df-container\">\n",
              "      <div>\n",
              "<style scoped>\n",
              "    .dataframe tbody tr th:only-of-type {\n",
              "        vertical-align: middle;\n",
              "    }\n",
              "\n",
              "    .dataframe tbody tr th {\n",
              "        vertical-align: top;\n",
              "    }\n",
              "\n",
              "    .dataframe thead th {\n",
              "        text-align: right;\n",
              "    }\n",
              "</style>\n",
              "<table border=\"1\" class=\"dataframe\">\n",
              "  <thead>\n",
              "    <tr style=\"text-align: right;\">\n",
              "      <th></th>\n",
              "      <th>order_id</th>\n",
              "      <th>customer_id</th>\n",
              "      <th>order_status</th>\n",
              "      <th>purchase_date</th>\n",
              "      <th>approved_date</th>\n",
              "      <th>handled_by_logistic_date</th>\n",
              "      <th>delivery_date</th>\n",
              "      <th>estimated_delivery_date</th>\n",
              "      <th>payment_type</th>\n",
              "      <th>payment_installments</th>\n",
              "      <th>payment_value</th>\n",
              "      <th>customer_unique_id</th>\n",
              "      <th>customer_city</th>\n",
              "      <th>customer_state</th>\n",
              "      <th>item_per_order</th>\n",
              "      <th>product_id</th>\n",
              "      <th>seller_id</th>\n",
              "      <th>shipping_limit_date</th>\n",
              "      <th>price</th>\n",
              "      <th>freight_value</th>\n",
              "      <th>seller_city</th>\n",
              "      <th>seller_state</th>\n",
              "      <th>product_category_name</th>\n",
              "      <th>product_name_lenght</th>\n",
              "      <th>product_description_lenght</th>\n",
              "      <th>product_category_name_english</th>\n",
              "      <th>purchase_approved_time</th>\n",
              "      <th>approved_handled_time</th>\n",
              "      <th>handled_delivery_time</th>\n",
              "      <th>delivery_estimated_time</th>\n",
              "      <th>recency</th>\n",
              "      <th>frequency</th>\n",
              "      <th>monetary</th>\n",
              "    </tr>\n",
              "  </thead>\n",
              "  <tbody>\n",
              "    <tr>\n",
              "      <th>0</th>\n",
              "      <td>53cdb2fc8bc7dce0b6741e2150273451</td>\n",
              "      <td>b0830fb4747a6c6d20dea0b8c802d7ef</td>\n",
              "      <td>1</td>\n",
              "      <td>2018-07-24 20:41:37</td>\n",
              "      <td>2018-07-26 03:24:27</td>\n",
              "      <td>2018-07-26 14:31:00</td>\n",
              "      <td>2018-08-07 15:27:45</td>\n",
              "      <td>2018-08-13</td>\n",
              "      <td>0</td>\n",
              "      <td>1</td>\n",
              "      <td>141.46</td>\n",
              "      <td>af07308b275d755c9edb36a90c618231</td>\n",
              "      <td>155.974000</td>\n",
              "      <td>149.392957</td>\n",
              "      <td>1</td>\n",
              "      <td>595fac2a385ac33a80bd5114aec74eb8</td>\n",
              "      <td>289cdb325fb7e7f891c38608bf9e0962</td>\n",
              "      <td>2018-07-30 03:24:27</td>\n",
              "      <td>118.7</td>\n",
              "      <td>22.76</td>\n",
              "      <td>88.027414</td>\n",
              "      <td>116.608786</td>\n",
              "      <td>122.827009</td>\n",
              "      <td>29</td>\n",
              "      <td>178</td>\n",
              "      <td>55</td>\n",
              "      <td>1842.83</td>\n",
              "      <td>666.55</td>\n",
              "      <td>17336.75</td>\n",
              "      <td>7712.25</td>\n",
              "      <td>35</td>\n",
              "      <td>1</td>\n",
              "      <td>141.46</td>\n",
              "    </tr>\n",
              "    <tr>\n",
              "      <th>1</th>\n",
              "      <td>86674ccaee19790309333210917b2c7d</td>\n",
              "      <td>1b338293f35549b5e480b9a3d7bbf3cd</td>\n",
              "      <td>1</td>\n",
              "      <td>2018-08-09 11:37:35</td>\n",
              "      <td>2018-08-09 14:35:19</td>\n",
              "      <td>2018-08-10 14:34:00</td>\n",
              "      <td>2018-08-14 18:51:47</td>\n",
              "      <td>2018-08-22</td>\n",
              "      <td>1</td>\n",
              "      <td>5</td>\n",
              "      <td>135.82</td>\n",
              "      <td>8b8028d453a01986b48c4271cc341475</td>\n",
              "      <td>131.450000</td>\n",
              "      <td>113.491669</td>\n",
              "      <td>1</td>\n",
              "      <td>595fac2a385ac33a80bd5114aec74eb8</td>\n",
              "      <td>289cdb325fb7e7f891c38608bf9e0962</td>\n",
              "      <td>2018-08-13 14:31:29</td>\n",
              "      <td>116.9</td>\n",
              "      <td>18.92</td>\n",
              "      <td>88.034259</td>\n",
              "      <td>116.608968</td>\n",
              "      <td>122.832287</td>\n",
              "      <td>29</td>\n",
              "      <td>178</td>\n",
              "      <td>55</td>\n",
              "      <td>177.73</td>\n",
              "      <td>1438.68</td>\n",
              "      <td>6017.78</td>\n",
              "      <td>10388.22</td>\n",
              "      <td>20</td>\n",
              "      <td>1</td>\n",
              "      <td>135.82</td>\n",
              "    </tr>\n",
              "    <tr>\n",
              "      <th>2</th>\n",
              "      <td>aee682982e18eb4714ce9f97b15af5e2</td>\n",
              "      <td>8858442ea4d5dc5bb9e118e8f728095d</td>\n",
              "      <td>1</td>\n",
              "      <td>2018-07-09 18:46:28</td>\n",
              "      <td>2018-07-11 03:45:45</td>\n",
              "      <td>2018-07-11 15:01:00</td>\n",
              "      <td>2018-07-12 18:14:35</td>\n",
              "      <td>2018-07-18</td>\n",
              "      <td>0</td>\n",
              "      <td>1</td>\n",
              "      <td>128.04</td>\n",
              "      <td>3edcab192482e9871c17b34cf98c3996</td>\n",
              "      <td>76.536923</td>\n",
              "      <td>125.816993</td>\n",
              "      <td>1</td>\n",
              "      <td>595fac2a385ac33a80bd5114aec74eb8</td>\n",
              "      <td>289cdb325fb7e7f891c38608bf9e0962</td>\n",
              "      <td>2018-07-13 03:45:45</td>\n",
              "      <td>118.7</td>\n",
              "      <td>9.34</td>\n",
              "      <td>88.027414</td>\n",
              "      <td>116.608786</td>\n",
              "      <td>122.827009</td>\n",
              "      <td>29</td>\n",
              "      <td>178</td>\n",
              "      <td>55</td>\n",
              "      <td>1979.28</td>\n",
              "      <td>675.25</td>\n",
              "      <td>1633.58</td>\n",
              "      <td>7545.42</td>\n",
              "      <td>25</td>\n",
              "      <td>2</td>\n",
              "      <td>254.27</td>\n",
              "    </tr>\n",
              "    <tr>\n",
              "      <th>3</th>\n",
              "      <td>f7f0b79050e7ef0b1cf7ffceb0aa114a</td>\n",
              "      <td>46fb8cff647939aaf32c4ab5be554501</td>\n",
              "      <td>1</td>\n",
              "      <td>2018-08-04 14:40:31</td>\n",
              "      <td>2018-08-07 04:44:36</td>\n",
              "      <td>2018-08-13 15:19:00</td>\n",
              "      <td>2018-08-14 15:08:57</td>\n",
              "      <td>2018-08-10</td>\n",
              "      <td>0</td>\n",
              "      <td>1</td>\n",
              "      <td>126.23</td>\n",
              "      <td>3edcab192482e9871c17b34cf98c3996</td>\n",
              "      <td>76.675385</td>\n",
              "      <td>125.818226</td>\n",
              "      <td>1</td>\n",
              "      <td>595fac2a385ac33a80bd5114aec74eb8</td>\n",
              "      <td>289cdb325fb7e7f891c38608bf9e0962</td>\n",
              "      <td>2018-08-09 04:44:36</td>\n",
              "      <td>116.9</td>\n",
              "      <td>9.33</td>\n",
              "      <td>88.034259</td>\n",
              "      <td>116.608968</td>\n",
              "      <td>122.832287</td>\n",
              "      <td>29</td>\n",
              "      <td>178</td>\n",
              "      <td>55</td>\n",
              "      <td>3724.08</td>\n",
              "      <td>9274.40</td>\n",
              "      <td>1429.95</td>\n",
              "      <td>-6668.95</td>\n",
              "      <td>25</td>\n",
              "      <td>2</td>\n",
              "      <td>254.27</td>\n",
              "    </tr>\n",
              "    <tr>\n",
              "      <th>4</th>\n",
              "      <td>d543201a9b42a1402ff97e65b439a48b</td>\n",
              "      <td>971bf8f42a9f8cb3ead257854905b454</td>\n",
              "      <td>1</td>\n",
              "      <td>2018-08-21 10:00:25</td>\n",
              "      <td>2018-08-21 10:50:54</td>\n",
              "      <td>2018-08-22 15:21:00</td>\n",
              "      <td>2018-08-28 18:58:22</td>\n",
              "      <td>2018-09-10</td>\n",
              "      <td>1</td>\n",
              "      <td>2</td>\n",
              "      <td>279.30</td>\n",
              "      <td>958ac7760e5484df1496ba5833ab6117</td>\n",
              "      <td>820.847500</td>\n",
              "      <td>146.354385</td>\n",
              "      <td>1</td>\n",
              "      <td>595fac2a385ac33a80bd5114aec74eb8</td>\n",
              "      <td>289cdb325fb7e7f891c38608bf9e0962</td>\n",
              "      <td>2018-08-23 10:50:54</td>\n",
              "      <td>116.9</td>\n",
              "      <td>22.75</td>\n",
              "      <td>88.034259</td>\n",
              "      <td>116.608968</td>\n",
              "      <td>122.832287</td>\n",
              "      <td>29</td>\n",
              "      <td>178</td>\n",
              "      <td>55</td>\n",
              "      <td>50.48</td>\n",
              "      <td>1710.10</td>\n",
              "      <td>8857.37</td>\n",
              "      <td>17581.63</td>\n",
              "      <td>8</td>\n",
              "      <td>1</td>\n",
              "      <td>558.60</td>\n",
              "    </tr>\n",
              "  </tbody>\n",
              "</table>\n",
              "</div>\n",
              "      <button class=\"colab-df-convert\" onclick=\"convertToInteractive('df-256771f0-e511-439f-b797-4c5b5ade8afa')\"\n",
              "              title=\"Convert this dataframe to an interactive table.\"\n",
              "              style=\"display:none;\">\n",
              "        \n",
              "  <svg xmlns=\"http://www.w3.org/2000/svg\" height=\"24px\"viewBox=\"0 0 24 24\"\n",
              "       width=\"24px\">\n",
              "    <path d=\"M0 0h24v24H0V0z\" fill=\"none\"/>\n",
              "    <path d=\"M18.56 5.44l.94 2.06.94-2.06 2.06-.94-2.06-.94-.94-2.06-.94 2.06-2.06.94zm-11 1L8.5 8.5l.94-2.06 2.06-.94-2.06-.94L8.5 2.5l-.94 2.06-2.06.94zm10 10l.94 2.06.94-2.06 2.06-.94-2.06-.94-.94-2.06-.94 2.06-2.06.94z\"/><path d=\"M17.41 7.96l-1.37-1.37c-.4-.4-.92-.59-1.43-.59-.52 0-1.04.2-1.43.59L10.3 9.45l-7.72 7.72c-.78.78-.78 2.05 0 2.83L4 21.41c.39.39.9.59 1.41.59.51 0 1.02-.2 1.41-.59l7.78-7.78 2.81-2.81c.8-.78.8-2.07 0-2.86zM5.41 20L4 18.59l7.72-7.72 1.47 1.35L5.41 20z\"/>\n",
              "  </svg>\n",
              "      </button>\n",
              "      \n",
              "  <style>\n",
              "    .colab-df-container {\n",
              "      display:flex;\n",
              "      flex-wrap:wrap;\n",
              "      gap: 12px;\n",
              "    }\n",
              "\n",
              "    .colab-df-convert {\n",
              "      background-color: #E8F0FE;\n",
              "      border: none;\n",
              "      border-radius: 50%;\n",
              "      cursor: pointer;\n",
              "      display: none;\n",
              "      fill: #1967D2;\n",
              "      height: 32px;\n",
              "      padding: 0 0 0 0;\n",
              "      width: 32px;\n",
              "    }\n",
              "\n",
              "    .colab-df-convert:hover {\n",
              "      background-color: #E2EBFA;\n",
              "      box-shadow: 0px 1px 2px rgba(60, 64, 67, 0.3), 0px 1px 3px 1px rgba(60, 64, 67, 0.15);\n",
              "      fill: #174EA6;\n",
              "    }\n",
              "\n",
              "    [theme=dark] .colab-df-convert {\n",
              "      background-color: #3B4455;\n",
              "      fill: #D2E3FC;\n",
              "    }\n",
              "\n",
              "    [theme=dark] .colab-df-convert:hover {\n",
              "      background-color: #434B5C;\n",
              "      box-shadow: 0px 1px 3px 1px rgba(0, 0, 0, 0.15);\n",
              "      filter: drop-shadow(0px 1px 2px rgba(0, 0, 0, 0.3));\n",
              "      fill: #FFFFFF;\n",
              "    }\n",
              "  </style>\n",
              "\n",
              "      <script>\n",
              "        const buttonEl =\n",
              "          document.querySelector('#df-256771f0-e511-439f-b797-4c5b5ade8afa button.colab-df-convert');\n",
              "        buttonEl.style.display =\n",
              "          google.colab.kernel.accessAllowed ? 'block' : 'none';\n",
              "\n",
              "        async function convertToInteractive(key) {\n",
              "          const element = document.querySelector('#df-256771f0-e511-439f-b797-4c5b5ade8afa');\n",
              "          const dataTable =\n",
              "            await google.colab.kernel.invokeFunction('convertToInteractive',\n",
              "                                                     [key], {});\n",
              "          if (!dataTable) return;\n",
              "\n",
              "          const docLinkHtml = 'Like what you see? Visit the ' +\n",
              "            '<a target=\"_blank\" href=https://colab.research.google.com/notebooks/data_table.ipynb>data table notebook</a>'\n",
              "            + ' to learn more about interactive tables.';\n",
              "          element.innerHTML = '';\n",
              "          dataTable['output_type'] = 'display_data';\n",
              "          await google.colab.output.renderOutput(dataTable, element);\n",
              "          const docLink = document.createElement('div');\n",
              "          docLink.innerHTML = docLinkHtml;\n",
              "          element.appendChild(docLink);\n",
              "        }\n",
              "      </script>\n",
              "    </div>\n",
              "  </div>\n",
              "  "
            ]
          },
          "metadata": {},
          "execution_count": 43
        }
      ]
    },
    {
      "cell_type": "code",
      "source": [
        "df['purchase_date'] = pd.to_datetime(df['purchase_date'])\n",
        "df['approved_date'] = pd.to_datetime(df['approved_date'])\n",
        "df['handled_by_logistic_date'] = pd.to_datetime(df['handled_by_logistic_date'])\n",
        "df['delivery_date'] = pd.to_datetime(df['delivery_date'])\n",
        "df['estimated_delivery_date'] = pd.to_datetime(df['estimated_delivery_date'])\n",
        "df['shipping_limit_date'] = pd.to_datetime(df['shipping_limit_date'])\n",
        "\n",
        "# convert datetime column to numeric\n",
        "df['purchase_date'] = df['purchase_date'].apply(lambda x: x.timestamp())\n",
        "df['approved_date'] = df['approved_date'].apply(lambda x: x.timestamp())\n",
        "df['handled_by_logistic_date'] = df['handled_by_logistic_date'].apply(lambda x: x.timestamp())\n",
        "df['delivery_date'] = df['delivery_date'].apply(lambda x: x.timestamp())\n",
        "df['estimated_delivery_date'] = df['estimated_delivery_date'].apply(lambda x: x.timestamp())\n",
        "df['shipping_limit_date'] = df['shipping_limit_date'].apply(lambda x: x.timestamp())\n",
        "\n",
        "df.info()"
      ],
      "metadata": {
        "id": "fIW-iwnwhfAj",
        "outputId": "0ae2f465-aede-4414-c620-009b0a8adf88",
        "colab": {
          "base_uri": "https://localhost:8080/"
        }
      },
      "execution_count": 44,
      "outputs": [
        {
          "output_type": "stream",
          "name": "stdout",
          "text": [
            "<class 'pandas.core.frame.DataFrame'>\n",
            "RangeIndex: 13718 entries, 0 to 13717\n",
            "Data columns (total 33 columns):\n",
            " #   Column                         Non-Null Count  Dtype  \n",
            "---  ------                         --------------  -----  \n",
            " 0   order_id                       13718 non-null  object \n",
            " 1   customer_id                    13718 non-null  object \n",
            " 2   order_status                   13718 non-null  int64  \n",
            " 3   purchase_date                  13718 non-null  float64\n",
            " 4   approved_date                  13718 non-null  float64\n",
            " 5   handled_by_logistic_date       13718 non-null  float64\n",
            " 6   delivery_date                  13718 non-null  float64\n",
            " 7   estimated_delivery_date        13718 non-null  float64\n",
            " 8   payment_type                   13718 non-null  int64  \n",
            " 9   payment_installments           13718 non-null  int64  \n",
            " 10  payment_value                  13718 non-null  float64\n",
            " 11  customer_unique_id             13718 non-null  object \n",
            " 12  customer_city                  13718 non-null  float64\n",
            " 13  customer_state                 13718 non-null  float64\n",
            " 14  item_per_order                 13718 non-null  int64  \n",
            " 15  product_id                     13718 non-null  object \n",
            " 16  seller_id                      13718 non-null  object \n",
            " 17  shipping_limit_date            13718 non-null  float64\n",
            " 18  price                          13718 non-null  float64\n",
            " 19  freight_value                  13718 non-null  float64\n",
            " 20  seller_city                    13718 non-null  float64\n",
            " 21  seller_state                   13718 non-null  float64\n",
            " 22  product_category_name          13718 non-null  float64\n",
            " 23  product_name_lenght            13718 non-null  int64  \n",
            " 24  product_description_lenght     13718 non-null  int64  \n",
            " 25  product_category_name_english  13718 non-null  int64  \n",
            " 26  purchase_approved_time         13718 non-null  float64\n",
            " 27  approved_handled_time          13718 non-null  float64\n",
            " 28  handled_delivery_time          13718 non-null  float64\n",
            " 29  delivery_estimated_time        13718 non-null  float64\n",
            " 30  recency                        13718 non-null  int64  \n",
            " 31  frequency                      13718 non-null  int64  \n",
            " 32  monetary                       13718 non-null  float64\n",
            "dtypes: float64(19), int64(9), object(5)\n",
            "memory usage: 3.5+ MB\n"
          ]
        }
      ]
    },
    {
      "cell_type": "markdown",
      "source": [
        "# Standardize the Data"
      ],
      "metadata": {
        "id": "mGPfIRlnjZ7G"
      }
    },
    {
      "cell_type": "code",
      "source": [],
      "metadata": {
        "id": "zI-pkPZejcFA"
      },
      "execution_count": 44,
      "outputs": []
    },
    {
      "cell_type": "markdown",
      "source": [
        "# Clustering\n",
        "\n",
        "*   Identify the proper number of clusters, and evaluate different options.\n",
        "*   Describe the properties of the clusters you have identified.\n",
        "*   Describe the properties of the customers belonging to each cluster"
      ],
      "metadata": {
        "id": "SBiw4I93niuZ"
      }
    },
    {
      "cell_type": "code",
      "source": [
        "# Cluster the data\n",
        "from sklearn.cluster import KMeans\n",
        "from sklearn.metrics import silhouette_score, silhouette_samples\n",
        "from matplotlib import pyplot as plt\n",
        "from gap_statistic import OptimalK\n",
        "import numpy as np\n",
        "\n",
        "# drop customer_id, order_id, customer_unique_id, product_id, seller_id\n",
        "X = df.drop(['customer_id', 'order_id', 'customer_unique_id', 'product_id', 'seller_id'], axis=1)\n",
        "\n",
        "# Calculate within-cluster sum of squares for different values of k\n",
        "wcss = []\n",
        "for i in range(2, 20):\n",
        "    kmeans = KMeans(n_clusters=i, init='k-means++', max_iter=500, n_init=10)\n",
        "    kmeans.fit(X)\n",
        "    wcss.append(kmeans.inertia_)\n",
        "    labels = kmeans.predict(X)\n",
        "\n",
        "# Plot the elbow graph\n",
        "plt.plot(range(2, 20), wcss)\n",
        "plt.title('Elbow Method')\n",
        "plt.xlabel('Number of clusters')\n",
        "plt.ylabel('WCSS')\n",
        "plt.show()\n",
        "\n",
        "# Fit a KMeans model with the optimal number of clusters\n",
        "kmeans = KMeans(n_clusters=n_clusters, init='k-means++', max_iter=300, n_init=10)\n",
        "kmeans.fit(X)"
      ],
      "metadata": {
        "id": "gy20OmiqnkA2",
        "outputId": "245bace0-372f-4be9-f4e3-aa4d7988bc4d",
        "colab": {
          "base_uri": "https://localhost:8080/",
          "height": 530
        }
      },
      "execution_count": 45,
      "outputs": [
        {
          "output_type": "display_data",
          "data": {
            "text/plain": [
              "<Figure size 640x480 with 1 Axes>"
            ],
            "image/png": "[encoded data removed]"
          },
          "metadata": {}
        },
        {
          "output_type": "execute_result",
          "data": {
            "text/plain": [
              "KMeans(n_clusters=18, n_init=10)"
            ],
            "text/html": [
              "<style>#sk-container-id-3 {color: black;background-color: white;}#sk-container-id-3 pre{padding: 0;}#sk-container-id-3 div.sk-toggleable {background-color: white;}#sk-container-id-3 label.sk-toggleable__label {cursor: pointer;display: block;width: 100%;margin-bottom: 0;padding: 0.3em;box-sizing: border-box;text-align: center;}#sk-container-id-3 label.sk-toggleable__label-arrow:before {content: \"▸\";float: left;margin-right: 0.25em;color: #696969;}#sk-container-id-3 label.sk-toggleable__label-arrow:hover:before {color: black;}#sk-container-id-3 div.sk-estimator:hover label.sk-toggleable__label-arrow:before {color: black;}#sk-container-id-3 div.sk-toggleable__content {max-height: 0;max-width: 0;overflow: hidden;text-align: left;background-color: #f0f8ff;}#sk-container-id-3 div.sk-toggleable__content pre {margin: 0.2em;color: black;border-radius: 0.25em;background-color: #f0f8ff;}#sk-container-id-3 input.sk-toggleable__control:checked~div.sk-toggleable__content {max-height: 200px;max-width: 100%;overflow: auto;}#sk-container-id-3 input.sk-toggleable__control:checked~label.sk-toggleable__label-arrow:before {content: \"▾\";}#sk-container-id-3 div.sk-estimator input.sk-toggleable__control:checked~label.sk-toggleable__label {background-color: #d4ebff;}#sk-container-id-3 div.sk-label input.sk-toggleable__control:checked~label.sk-toggleable__label {background-color: #d4ebff;}#sk-container-id-3 input.sk-hidden--visually {border: 0;clip: rect(1px 1px 1px 1px);clip: rect(1px, 1px, 1px, 1px);height: 1px;margin: -1px;overflow: hidden;padding: 0;position: absolute;width: 1px;}#sk-container-id-3 div.sk-estimator {font-family: monospace;background-color: #f0f8ff;border: 1px dotted black;border-radius: 0.25em;box-sizing: border-box;margin-bottom: 0.5em;}#sk-container-id-3 div.sk-estimator:hover {background-color: #d4ebff;}#sk-container-id-3 div.sk-parallel-item::after {content: \"\";width: 100%;border-bottom: 1px solid gray;flex-grow: 1;}#sk-container-id-3 div.sk-label:hover label.sk-toggleable__label {background-color: #d4ebff;}#sk-container-id-3 div.sk-serial::before {content: \"\";position: absolute;border-left: 1px solid gray;box-sizing: border-box;top: 0;bottom: 0;left: 50%;z-index: 0;}#sk-container-id-3 div.sk-serial {display: flex;flex-direction: column;align-items: center;background-color: white;padding-right: 0.2em;padding-left: 0.2em;position: relative;}#sk-container-id-3 div.sk-item {position: relative;z-index: 1;}#sk-container-id-3 div.sk-parallel {display: flex;align-items: stretch;justify-content: center;background-color: white;position: relative;}#sk-container-id-3 div.sk-item::before, #sk-container-id-3 div.sk-parallel-item::before {content: \"\";position: absolute;border-left: 1px solid gray;box-sizing: border-box;top: 0;bottom: 0;left: 50%;z-index: -1;}#sk-container-id-3 div.sk-parallel-item {display: flex;flex-direction: column;z-index: 1;position: relative;background-color: white;}#sk-container-id-3 div.sk-parallel-item:first-child::after {align-self: flex-end;width: 50%;}#sk-container-id-3 div.sk-parallel-item:last-child::after {align-self: flex-start;width: 50%;}#sk-container-id-3 div.sk-parallel-item:only-child::after {width: 0;}#sk-container-id-3 div.sk-dashed-wrapped {border: 1px dashed gray;margin: 0 0.4em 0.5em 0.4em;box-sizing: border-box;padding-bottom: 0.4em;background-color: white;}#sk-container-id-3 div.sk-label label {font-family: monospace;font-weight: bold;display: inline-block;line-height: 1.2em;}#sk-container-id-3 div.sk-label-container {text-align: center;}#sk-container-id-3 div.sk-container {/* jupyter's `normalize.less` sets `[hidden] { display: none; }` but bootstrap.min.css set `[hidden] { display: none !important; }` so we also need the `!important` here to be able to override the default hidden behavior on the sphinx rendered scikit-learn.org. See: https://github.com/scikit-learn/scikit-learn/issues/21755 */display: inline-block !important;position: relative;}#sk-container-id-3 div.sk-text-repr-fallback {display: none;}</style><div id=\"sk-container-id-3\" class=\"sk-top-container\"><div class=\"sk-text-repr-fallback\"><pre>KMeans(n_clusters=18, n_init=10)</pre><b>In a Jupyter environment, please rerun this cell to show the HTML representation or trust the notebook. <br />On GitHub, the HTML representation is unable to render, please try loading this page with nbviewer.org.</b></div><div class=\"sk-container\" hidden><div class=\"sk-item\"><div class=\"sk-estimator sk-toggleable\"><input class=\"sk-toggleable__control sk-hidden--visually\" id=\"sk-estimator-id-3\" type=\"checkbox\" checked><label for=\"sk-estimator-id-3\" class=\"sk-toggleable__label sk-toggleable__label-arrow\">KMeans</label><div class=\"sk-toggleable__content\"><pre>KMeans(n_clusters=18, n_init=10)</pre></div></div></div></div></div>"
            ]
          },
          "metadata": {},
          "execution_count": 45
        }
      ]
    },
    {
      "cell_type": "markdown",
      "source": [
        "# Find the optimal value for k"
      ],
      "metadata": {
        "id": "0Bn6AAWCnzGY"
      }
    },
    {
      "cell_type": "code",
      "source": [
        "from kneed import KneeLocator\n",
        "\n",
        "# Find optimal k using elbow method\n",
        "elbow = KneeLocator(range(2,20), wcss, curve='convex', direction='decreasing')\n",
        "optimal_k = elbow.elbow + 1\n",
        "print(\"Optimal k value:\", optimal_k)"
      ],
      "metadata": {
        "id": "1JktrAotmDAC",
        "outputId": "a4ffbcac-2bb6-45cf-e927-4f52a029497c",
        "colab": {
          "base_uri": "https://localhost:8080/"
        }
      },
      "execution_count": 46,
      "outputs": [
        {
          "output_type": "stream",
          "name": "stdout",
          "text": [
            "Optimal k value: 7\n"
          ]
        }
      ]
    },
    {
      "cell_type": "markdown",
      "source": [
        "# Fit the KMeans model"
      ],
      "metadata": {
        "id": "PnPZ7RGVmE5q"
      }
    },
    {
      "cell_type": "code",
      "source": [
        "kmeans = KMeans(n_clusters=optimal_k, init='k-means++', max_iter=500, n_init=10)\n",
        "kmeans.fit(X)\n",
        "\n",
        "df['Cluster'] = kmeans.labels_\n",
        "df['Cluster'].value_counts()"
      ],
      "metadata": {
        "id": "Dh8six0TnqnP",
        "outputId": "c0ef0021-4efa-49e1-aaab-23b7b3ce6563",
        "colab": {
          "base_uri": "https://localhost:8080/"
        }
      },
      "execution_count": 47,
      "outputs": [
        {
          "output_type": "execute_result",
          "data": {
            "text/plain": [
              "1    2840\n",
              "0    2413\n",
              "4    2391\n",
              "6    2197\n",
              "5    2031\n",
              "2    1826\n",
              "3      20\n",
              "Name: Cluster, dtype: int64"
            ]
          },
          "metadata": {},
          "execution_count": 47
        }
      ]
    },
    {
      "cell_type": "markdown",
      "source": [
        "# Most Important Features"
      ],
      "metadata": {
        "id": "CDCtAKtdnvwG"
      }
    },
    {
      "cell_type": "code",
      "source": [
        "# get cluster centers and feature names\n",
        "cluster_centers = kmeans.cluster_centers_\n",
        "feature_names = df.columns\n",
        "\n",
        "# loop through each cluster center and print top 3 most important features\n",
        "for i, center in enumerate(cluster_centers):\n",
        "    top_features = sorted(zip(feature_names, center), key=lambda x: x[1], reverse=True)[:3]\n",
        "    print(f\"Top 3 features for cluster {i+1}: {top_features}\")"
      ],
      "metadata": {
        "id": "rz6cdBmyntwQ",
        "outputId": "e82da45a-05da-44bb-aa66-9a7d3f1757f6",
        "colab": {
          "base_uri": "https://localhost:8080/"
        }
      },
      "execution_count": 48,
      "outputs": [
        {
          "output_type": "stream",
          "name": "stdout",
          "text": [
            "Top 3 features for cluster 1: [('handled_by_logistic_date', 1535604923.9950268), ('approved_date', 1534882601.5859923), ('customer_city', 1534591243.6705346)]\n",
            "Top 3 features for cluster 2: [('handled_by_logistic_date', 1527868140.612892), ('approved_date', 1527031186.3458962), ('customer_city', 1526510153.4832687)]\n",
            "Top 3 features for cluster 3: [('handled_by_logistic_date', 1532316917.415115), ('approved_date', 1530960537.7294633), ('customer_city', 1530644334.9096386)]\n",
            "Top 3 features for cluster 4: [('handled_by_logistic_date', 1512617760.0), ('approved_date', 1511687752.8), ('customer_city', 1510883460.25)]\n",
            "Top 3 features for cluster 5: [('handled_by_logistic_date', 1533934578.6700125), ('approved_date', 1533166689.355918), ('customer_city', 1532852539.3534086)]\n",
            "Top 3 features for cluster 6: [('handled_by_logistic_date', 1526217859.8425195), ('approved_date', 1525300658.9281495), ('customer_city', 1524567823.3031497)]\n",
            "Top 3 features for cluster 7: [('handled_by_logistic_date', 1530926397.8152025), ('approved_date', 1529196066.2180245), ('customer_city', 1528925673.1347291)]\n"
          ]
        }
      ]
    }
  ]
}