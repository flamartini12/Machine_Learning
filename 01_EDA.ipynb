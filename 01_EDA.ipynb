{
  "nbformat": 4,
  "nbformat_minor": 0,
  "metadata": {
    "colab": {
      "provenance": [],
      "authorship_tag": "ABX9TyPpWJykvi+AKpiCntqiMWX2",
      "include_colab_link": true
    },
    "kernelspec": {
      "name": "python3",
      "display_name": "Python 3"
    },
    "language_info": {
      "name": "python"
    }
  },
  "cells": [
    {
      "cell_type": "markdown",
      "metadata": {
        "id": "view-in-github",
        "colab_type": "text"
      },
      "source": [
        "<a href=\"https://colab.research.google.com/github/giakomorssi/Machine_Learning/blob/main/01_EDA.ipynb\" target=\"_parent\"><img src=\"https://colab.research.google.com/assets/colab-badge.svg\" alt=\"Open In Colab\"/></a>"
      ]
    },
    {
      "cell_type": "markdown",
      "source": [
        "# Import the Data"
      ],
      "metadata": {
        "id": "OZfaEDHUlXP7"
      }
    },
    {
      "cell_type": "code",
      "execution_count": null,
      "metadata": {
        "id": "KOY3mMRHlSjw"
      },
      "outputs": [],
      "source": [
        "from google.colab import drive\n",
        "drive.mount('/content/drive')\n",
        "\n",
        "import pandas as pd\n",
        "\n",
        "# Change Colab runtime to GPU\n",
        "import os\n",
        "os.environ['COLAB_TPU_ADDR'] = ''\n",
        "os.environ['COLAB_GPU_ALLOC'] = '1'\n",
        "os.environ['COLAB_GPU'] = '1'\n",
        "print(\"Runtime switched to GPU\")\n",
        "\n",
        "import tensorflow as tf\n",
        "\n",
        "# This code sets the runtime to use the GPU if available\n",
        "if tf.test.gpu_device_name():\n",
        "    print('Default GPU Device: {}'.format(tf.test.gpu_device_name()))\n",
        "else:\n",
        "    print(\"Please install GPU version of TF\")\n",
        "\n",
        "pd.set_option('display.max_columns', None)"
      ]
    },
    {
      "cell_type": "code",
      "source": [
        "df = pd.read_csv('/content/drive/MyDrive/University/ML/customer_segmentation.csv')"
      ],
      "metadata": {
        "id": "mXs1u3JFlaya"
      },
      "execution_count": null,
      "outputs": []
    },
    {
      "cell_type": "markdown",
      "source": [
        "Discuss correlations and how the data is distributed also using Visualization. In particular try to answer to these questions:\n",
        "\n",
        "*   Looking the price do you think the dataset is balanced?\n",
        "*   Looking the customer_city distribution do you think the dataset is balanced?"
      ],
      "metadata": {
        "id": "Tx-6xGP9lded"
      }
    },
    {
      "cell_type": "markdown",
      "source": [
        "# Meaning of the Columns"
      ],
      "metadata": {
        "id": "H6f9AKrMllx3"
      }
    },
    {
      "cell_type": "markdown",
      "source": [
        "* **order_id**: unique order identifier \n",
        "* **customer_id**: the key to the orders dataset. Each \n",
        "order has a unique customer_id \n",
        "* **customer_unique_id**: the unique identifier of a customer.\n",
        "* **customer_city**: customer city name\n",
        "* **customer_state**: customer state\n",
        "* **order_item_id**: sequential number identifying the number of items included in the same order.\n",
        "* **product_id**: product unique identifier\n",
        "* **price**: item price\n",
        "* **freight_value**: item freight value item (if an order has more than one item, the freight value is split between items)\n",
        "* **payment_type**: method of payment chosen by the customer.\n",
        "* **payment_installments**: number of installments chosen by the customer.\n",
        "* **payment_value**: transaction value.\n",
        "* **order_status**: the order status (delivered, shipped, etc).\n",
        "* **order_purchase_timestamp**: purchase timestamp.\n",
        "* **order_approved_at**: purchase approval timestamp.\n",
        "* **order_delivered_carrier_date**: order posting timestamp. When it was handled by the logistic partner.\n",
        "* **order_delivered_customer_date**: actual order delivery date to the customer.\n",
        "* **order_estimated_delivery_date**: the estimated delivery date informed to the customer at the purchase moment.\n",
        "* **shipping_limit_date**: the deadline by which the seller must have the order ready to be shipped\n",
        "* **product_category_name**: root product category, in Portuguese.\n",
        "* **product_category_name_english**: root category of product, in English\n",
        "* **product_name_lenght**: number of characters extracted from the product name.\n",
        "* **product_description_lenght**: number of characters extracted from the product description.\n",
        "* **seller_id**: seller unique identifier\n",
        "* **seller_city**: seller city name\n",
        "* **seller_state**: seller state"
      ],
      "metadata": {
        "id": "mMBO1y9ElpUS"
      }
    },
    {
      "cell_type": "markdown",
      "source": [
        "# Rename the Columns"
      ],
      "metadata": {
        "id": "2_6ks_VPlw7Q"
      }
    },
    {
      "cell_type": "code",
      "source": [
        "df.rename(columns={'order_purchase_timestamp': 'purchase_date', \n",
        "                    'order_approved_at': 'approved_date', \n",
        "                    'order_delivered_carrier_date': 'handled_by_logistic_date',\n",
        "                    'order_delivered_customer_date': 'delivery_date',\n",
        "                    'order_estimated_delivery_date': 'estimated_delivery_date',\n",
        "                    'order_item_id': 'item_per_order'\n",
        "                    }, inplace=True)\n",
        "df.head()"
      ],
      "metadata": {
        "id": "qDaGTEfKlyQH"
      },
      "execution_count": null,
      "outputs": []
    },
    {
      "cell_type": "markdown",
      "source": [
        "# Clean the Data\n",
        "\n",
        "1. Remove the `customer_id`, `order_id`, `customer_unique_id`, `order_item_id`, `product_id`, `seller_id`, `product_category_name` columns.\n",
        "\n",
        "2. Convert the `order_status`, `payment_type`, `product_category_name_english` columns to a categorical variable.\n",
        "\n",
        "3. Remove from `order_estimated_delivery_date` column the `time`\n",
        "\n",
        "4. Encode the `customer_city`, `customer_state`, `seller_city`, `seller_state` columns."
      ],
      "metadata": {
        "id": "z-u2_lTIl9VB"
      }
    },
    {
      "cell_type": "code",
      "source": [
        "df.drop(['order_id', 'customer_unique_id', 'product_id', 'seller_id', 'product_category_name'], axis=1, inplace=True)"
      ],
      "metadata": {
        "id": "oZeLuSTamBdC"
      },
      "execution_count": null,
      "outputs": []
    },
    {
      "cell_type": "code",
      "source": [
        "#drop duplicates\n",
        "df.drop_duplicates(inplace=True)"
      ],
      "metadata": {
        "id": "5no6M7clmEWy"
      },
      "execution_count": null,
      "outputs": []
    },
    {
      "cell_type": "code",
      "source": [
        "from sklearn.preprocessing import LabelEncoder\n",
        "\n",
        "le = LabelEncoder()\n",
        "\n",
        "# Order Status\n",
        "df['order_status'] = le.fit_transform(df['order_status'])\n",
        "\n",
        "# payment_type\n",
        "df['payment_type'] = le.fit_transform(df['payment_type'])\n",
        "\n",
        "# product_category_name_english\n",
        "df['product_category_name_english'] = le.fit_transform(df['product_category_name_english'])\n",
        "\n",
        "# seller_city\n",
        "df['seller_city'] = le.fit_transform(df['seller_city'])\n",
        "\n",
        "# customer_state\n",
        "df['customer_state'] = le.fit_transform(df['customer_state'])\n",
        "\n",
        "# customer_city\n",
        "df['customer_city'] = le.fit_transform(df['customer_city'])\n",
        "\n",
        "# seller_state\n",
        "df['seller_state'] = le.fit_transform(df['seller_state'])"
      ],
      "metadata": {
        "id": "DrzaUy9qmIMV"
      },
      "execution_count": null,
      "outputs": []
    },
    {
      "cell_type": "code",
      "source": [
        "df['purchase_date'] = pd.to_datetime(df['purchase_date']).astype(int)/10**9\n",
        "df['approved_date'] = pd.to_datetime(df['approved_date']).astype(int)/10**9\n",
        "df['handled_by_logistic_date'] = pd.to_datetime(df['handled_by_logistic_date']).astype(int)/10**9\n",
        "df['delivery_date'] = pd.to_datetime(df['delivery_date']).astype(int)/10**9\n",
        "df['estimated_delivery_date'] = pd.to_datetime(df['estimated_delivery_date']).astype(int)/10**9\n",
        "df['shipping_limit_date'] = pd.to_datetime(df['shipping_limit_date']).astype(int)/10**9"
      ],
      "metadata": {
        "id": "sPl_NWLomJ3b"
      },
      "execution_count": null,
      "outputs": []
    }
  ]
}