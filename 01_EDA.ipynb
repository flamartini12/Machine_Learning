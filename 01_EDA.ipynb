{
  "nbformat": 4,
  "nbformat_minor": 0,
  "metadata": {
    "colab": {
      "provenance": [],
      "authorship_tag": "ABX9TyMugTm6oaZYBjri/6Xfps5A",
      "include_colab_link": true
    },
    "kernelspec": {
      "name": "python3",
      "display_name": "Python 3"
    },
    "language_info": {
      "name": "python"
    }
  },
  "cells": [
    {
      "cell_type": "markdown",
      "metadata": {
        "id": "view-in-github",
        "colab_type": "text"
      },
      "source": [
        "<a href=\"https://colab.research.google.com/github/giakomorssi/Machine_Learning/blob/main/01_EDA.ipynb\" target=\"_parent\"><img src=\"https://colab.research.google.com/assets/colab-badge.svg\" alt=\"Open In Colab\"/></a>"
      ]
    },
    {
      "cell_type": "markdown",
      "source": [
        "# Import the Data"
      ],
      "metadata": {
        "id": "OZfaEDHUlXP7"
      }
    },
    {
      "cell_type": "code",
      "execution_count": 1,
      "metadata": {
        "id": "KOY3mMRHlSjw",
        "outputId": "32d8ba95-151f-4e11-97c5-3e26250cf483",
        "colab": {
          "base_uri": "https://localhost:8080/"
        }
      },
      "outputs": [
        {
          "output_type": "stream",
          "name": "stdout",
          "text": [
            "Mounted at /content/drive\n",
            "Runtime switched to GPU\n",
            "Please install GPU version of TF\n"
          ]
        }
      ],
      "source": [
        "from google.colab import drive\n",
        "drive.mount('/content/drive')\n",
        "\n",
        "import pandas as pd\n",
        "\n",
        "# Change Colab runtime to GPU\n",
        "import os\n",
        "os.environ['COLAB_TPU_ADDR'] = ''\n",
        "os.environ['COLAB_GPU_ALLOC'] = '1'\n",
        "os.environ['COLAB_GPU'] = '1'\n",
        "print(\"Runtime switched to GPU\")\n",
        "\n",
        "import tensorflow as tf\n",
        "\n",
        "# This code sets the runtime to use the GPU if available\n",
        "if tf.test.gpu_device_name():\n",
        "    print('Default GPU Device: {}'.format(tf.test.gpu_device_name()))\n",
        "else:\n",
        "    print(\"Please install GPU version of TF\")\n",
        "\n",
        "pd.set_option('display.max_columns', None)"
      ]
    },
    {
      "cell_type": "code",
      "source": [
        "df = pd.read_csv('/content/drive/MyDrive/University/ML/customer_segmentation.csv')"
      ],
      "metadata": {
        "id": "mXs1u3JFlaya"
      },
      "execution_count": 2,
      "outputs": []
    },
    {
      "cell_type": "markdown",
      "source": [
        "Discuss correlations and how the data is distributed also using Visualization. In particular try to answer to these questions:\n",
        "\n",
        "*   Looking the price do you think the dataset is balanced?\n",
        "*   Looking the customer_city distribution do you think the dataset is balanced?"
      ],
      "metadata": {
        "id": "Tx-6xGP9lded"
      }
    },
    {
      "cell_type": "markdown",
      "source": [
        "# Meaning of the Columns"
      ],
      "metadata": {
        "id": "H6f9AKrMllx3"
      }
    },
    {
      "cell_type": "markdown",
      "source": [
        "\n",
        "* **order_id**: unique order identifier \n",
        "* **customer_id**: the key to the orders dataset. Each \n",
        "order has a unique customer_id \n",
        "* **customer_unique_id**: the unique identifier of a customer.\n",
        "* **customer_city**: customer city name\n",
        "* **customer_state**: customer state\n",
        "* **order_item_id**: sequential number identifying the number of items included in the same order.\n",
        "* **product_id**: product unique identifier\n",
        "* **price**: item price\n",
        "* **freight_value**: item freight value item (if an order has more than one item, the freight value is split between items)\n",
        "* **payment_type**: method of payment chosen by the customer.\n",
        "* **payment_installments**: number of installments chosen by the customer.\n",
        "* **payment_value**: transaction value.\n",
        "* **order_status**: the order status (delivered, shipped, etc).\n",
        "* **order_purchase_timestamp**: purchase timestamp.\n",
        "* **order_approved_at**: purchase approval timestamp.\n",
        "* **order_delivered_carrier_date**: order posting timestamp. When it was handled by the logistic partner.\n",
        "* **order_delivered_customer_date**: actual order delivery date to the customer.\n",
        "* **order_estimated_delivery_date**: the estimated delivery date informed to the customer at the purchase moment.\n",
        "* **shipping_limit_date**: the deadline by which the seller must have the order ready to be shipped\n",
        "* **product_category_name**: root product category, in Portuguese.\n",
        "* **product_category_name_english**: root category of product, in English\n",
        "* **product_name_lenght**: number of characters extracted from the product name.\n",
        "* **product_description_lenght**: number of characters extracted from the product description.\n",
        "* **seller_id**: seller unique identifier\n",
        "* **seller_city**: seller city name\n",
        "* **seller_state**: seller state"
      ],
      "metadata": {
        "id": "mMBO1y9ElpUS"
      }
    },
    {
      "cell_type": "markdown",
      "source": [
        "# Rename the Columns"
      ],
      "metadata": {
        "id": "2_6ks_VPlw7Q"
      }
    },
    {
      "cell_type": "code",
      "source": [
        "df.rename(columns={'order_purchase_timestamp': 'purchase_date', \n",
        "                    'order_approved_at': 'approved_date', \n",
        "                    'order_delivered_carrier_date': 'handled_by_logistic_date',\n",
        "                    'order_delivered_customer_date': 'delivery_date',\n",
        "                    'order_estimated_delivery_date': 'estimated_delivery_date',\n",
        "                    'order_item_id': 'item_per_order'\n",
        "                    }, inplace=True)\n",
        "df.head()"
      ],
      "metadata": {
        "id": "qDaGTEfKlyQH"
      },
      "execution_count": null,
      "outputs": []
    },
    {
      "cell_type": "markdown",
      "source": [
        "# Exploratory Data Analysis"
      ],
      "metadata": {
        "id": "mrm5pIyKyPLQ"
      }
    },
    {
      "cell_type": "markdown",
      "source": [
        "## Data Structure & Distributions"
      ],
      "metadata": {
        "id": "Oj1LMc6_ynLE"
      }
    },
    {
      "cell_type": "code",
      "source": [
        "print(df.shape, '\\n')\n",
        "\n",
        "print(df.info())"
      ],
      "metadata": {
        "id": "GcwiH5sYyQlB",
        "outputId": "7a69fb77-227f-42c3-a992-45183fe2bde3",
        "colab": {
          "base_uri": "https://localhost:8080/"
        }
      },
      "execution_count": 4,
      "outputs": [
        {
          "output_type": "stream",
          "name": "stdout",
          "text": [
            "(13801, 26) \n",
            "\n",
            "<class 'pandas.core.frame.DataFrame'>\n",
            "RangeIndex: 13801 entries, 0 to 13800\n",
            "Data columns (total 26 columns):\n",
            " #   Column                         Non-Null Count  Dtype  \n",
            "---  ------                         --------------  -----  \n",
            " 0   order_id                       13801 non-null  object \n",
            " 1   customer_id                    13801 non-null  object \n",
            " 2   order_status                   13801 non-null  object \n",
            " 3   purchase_date                  13801 non-null  object \n",
            " 4   approved_date                  13801 non-null  object \n",
            " 5   handled_by_logistic_date       13801 non-null  object \n",
            " 6   delivery_date                  13801 non-null  object \n",
            " 7   estimated_delivery_date        13801 non-null  object \n",
            " 8   payment_type                   13801 non-null  object \n",
            " 9   payment_installments           13801 non-null  int64  \n",
            " 10  payment_value                  13801 non-null  float64\n",
            " 11  customer_unique_id             13801 non-null  object \n",
            " 12  customer_city                  13801 non-null  object \n",
            " 13  customer_state                 13801 non-null  object \n",
            " 14  item_per_order                 13801 non-null  int64  \n",
            " 15  product_id                     13801 non-null  object \n",
            " 16  seller_id                      13801 non-null  object \n",
            " 17  shipping_limit_date            13801 non-null  object \n",
            " 18  price                          13801 non-null  float64\n",
            " 19  freight_value                  13801 non-null  float64\n",
            " 20  seller_city                    13801 non-null  object \n",
            " 21  seller_state                   13801 non-null  object \n",
            " 22  product_category_name          13801 non-null  object \n",
            " 23  product_name_lenght            13801 non-null  int64  \n",
            " 24  product_description_lenght     13801 non-null  int64  \n",
            " 25  product_category_name_english  13801 non-null  object \n",
            "dtypes: float64(3), int64(4), object(19)\n",
            "memory usage: 2.7+ MB\n",
            "None\n"
          ]
        }
      ]
    },
    {
      "cell_type": "markdown",
      "source": [
        "The dataset has `13801 rows` and `26 columns`.\n",
        "\n",
        "The columns are either `float64(3)`, `int64(4)`, `object(19)`\n",
        "\n",
        "From what you know about the features of your dataset, do the data types make sense? Do you need to change any?\n",
        "\n",
        "There are no `Null values` in the dataset."
      ],
      "metadata": {
        "id": "rdHcJZ25zlxY"
      }
    },
    {
      "cell_type": "markdown",
      "source": [
        "---"
      ],
      "metadata": {
        "id": "jpoPxa_0zvRw"
      }
    },
    {
      "cell_type": "code",
      "source": [
        "from matplotlib import pyplot as plt\n",
        "\n",
        "df.hist(figsize=(12,12), bins=40) \n",
        "plt.tight_layout()\n",
        "plt.show()"
      ],
      "metadata": {
        "id": "S7WcfUlOyzS5",
        "outputId": "129ece1a-b5db-47d5-d41d-6d026254d958",
        "colab": {
          "base_uri": "https://localhost:8080/",
          "height": 1000
        }
      },
      "execution_count": 5,
      "outputs": [
        {
          "output_type": "display_data",
          "data": {
            "text/plain": [
              "<Figure size 1200x1200 with 9 Axes>"
            ],
            "image/png": "[encoded data removed]"
          },
          "metadata": {}
        }
      ]
    },
    {
      "cell_type": "markdown",
      "source": [
        "**Discuss the distributions:**\n",
        "\n",
        "`Product_description_lenght` is a skewd normal distribution, like also the `product_name_lenght`. \n",
        "\n",
        "The `price`, `payment_value` and `freight_value` have a lot of values close to zero and of course they dont have negative values, also skewed\n",
        "\n",
        "`payment_installment` and `item_per_order` are categorical but also here we see some imbalance.\n",
        "\n",
        "**Do there appear to be outliers?**\n",
        "\n",
        "There could be outliers due to the skewness of the distribution but with the boxplots we check better\n",
        "\n",
        "**Think about what the variables mean and what the histograms say about their values and their spread — are there any surprises?**\n",
        "\n"
      ],
      "metadata": {
        "id": "F9fDbZIRzgly"
      }
    },
    {
      "cell_type": "markdown",
      "source": [
        "---"
      ],
      "metadata": {
        "id": "gI-hFWXpzwtL"
      }
    },
    {
      "cell_type": "code",
      "source": [
        "df.describe()"
      ],
      "metadata": {
        "id": "gQG99_xuzU-b",
        "outputId": "3dcbd1e8-49c3-40ca-8571-d8b92e54afe3",
        "colab": {
          "base_uri": "https://localhost:8080/",
          "height": 300
        }
      },
      "execution_count": 6,
      "outputs": [
        {
          "output_type": "execute_result",
          "data": {
            "text/plain": [
              "       payment_installments  payment_value  item_per_order         price  \\\n",
              "count          13801.000000   13801.000000    13801.000000  13801.000000   \n",
              "mean               3.014637     194.349691        1.230491    130.947103   \n",
              "std                2.801721     294.854258        0.737495    210.712421   \n",
              "min                1.000000       0.050000        1.000000      0.850000   \n",
              "25%                1.000000      66.750000        1.000000     40.000000   \n",
              "50%                2.000000     120.290000        1.000000     79.000000   \n",
              "75%                4.000000     206.780000        1.000000    139.000000   \n",
              "max               20.000000    7274.880000       13.000000   4590.000000   \n",
              "\n",
              "       freight_value  product_name_lenght  product_description_lenght  \n",
              "count   13801.000000         13801.000000                13801.000000  \n",
              "mean       21.938168            49.300703                  814.330411  \n",
              "std        18.567013             9.759529                  648.790194  \n",
              "min         0.000000             8.000000                    4.000000  \n",
              "25%        12.870000            43.000000                  366.000000  \n",
              "50%        18.230000            52.000000                  631.000000  \n",
              "75%        23.310000            57.000000                 1030.000000  \n",
              "max       375.280000            69.000000                 3985.000000  "
            ],
            "text/html": [
              "\n",
              "  <div id=\"df-b6e932a5-66e0-4891-bf28-1de4e110ea5e\">\n",
              "    <div class=\"colab-df-container\">\n",
              "      <div>\n",
              "<style scoped>\n",
              "    .dataframe tbody tr th:only-of-type {\n",
              "        vertical-align: middle;\n",
              "    }\n",
              "\n",
              "    .dataframe tbody tr th {\n",
              "        vertical-align: top;\n",
              "    }\n",
              "\n",
              "    .dataframe thead th {\n",
              "        text-align: right;\n",
              "    }\n",
              "</style>\n",
              "<table border=\"1\" class=\"dataframe\">\n",
              "  <thead>\n",
              "    <tr style=\"text-align: right;\">\n",
              "      <th></th>\n",
              "      <th>payment_installments</th>\n",
              "      <th>payment_value</th>\n",
              "      <th>item_per_order</th>\n",
              "      <th>price</th>\n",
              "      <th>freight_value</th>\n",
              "      <th>product_name_lenght</th>\n",
              "      <th>product_description_lenght</th>\n",
              "    </tr>\n",
              "  </thead>\n",
              "  <tbody>\n",
              "    <tr>\n",
              "      <th>count</th>\n",
              "      <td>13801.000000</td>\n",
              "      <td>13801.000000</td>\n",
              "      <td>13801.000000</td>\n",
              "      <td>13801.000000</td>\n",
              "      <td>13801.000000</td>\n",
              "      <td>13801.000000</td>\n",
              "      <td>13801.000000</td>\n",
              "    </tr>\n",
              "    <tr>\n",
              "      <th>mean</th>\n",
              "      <td>3.014637</td>\n",
              "      <td>194.349691</td>\n",
              "      <td>1.230491</td>\n",
              "      <td>130.947103</td>\n",
              "      <td>21.938168</td>\n",
              "      <td>49.300703</td>\n",
              "      <td>814.330411</td>\n",
              "    </tr>\n",
              "    <tr>\n",
              "      <th>std</th>\n",
              "      <td>2.801721</td>\n",
              "      <td>294.854258</td>\n",
              "      <td>0.737495</td>\n",
              "      <td>210.712421</td>\n",
              "      <td>18.567013</td>\n",
              "      <td>9.759529</td>\n",
              "      <td>648.790194</td>\n",
              "    </tr>\n",
              "    <tr>\n",
              "      <th>min</th>\n",
              "      <td>1.000000</td>\n",
              "      <td>0.050000</td>\n",
              "      <td>1.000000</td>\n",
              "      <td>0.850000</td>\n",
              "      <td>0.000000</td>\n",
              "      <td>8.000000</td>\n",
              "      <td>4.000000</td>\n",
              "    </tr>\n",
              "    <tr>\n",
              "      <th>25%</th>\n",
              "      <td>1.000000</td>\n",
              "      <td>66.750000</td>\n",
              "      <td>1.000000</td>\n",
              "      <td>40.000000</td>\n",
              "      <td>12.870000</td>\n",
              "      <td>43.000000</td>\n",
              "      <td>366.000000</td>\n",
              "    </tr>\n",
              "    <tr>\n",
              "      <th>50%</th>\n",
              "      <td>2.000000</td>\n",
              "      <td>120.290000</td>\n",
              "      <td>1.000000</td>\n",
              "      <td>79.000000</td>\n",
              "      <td>18.230000</td>\n",
              "      <td>52.000000</td>\n",
              "      <td>631.000000</td>\n",
              "    </tr>\n",
              "    <tr>\n",
              "      <th>75%</th>\n",
              "      <td>4.000000</td>\n",
              "      <td>206.780000</td>\n",
              "      <td>1.000000</td>\n",
              "      <td>139.000000</td>\n",
              "      <td>23.310000</td>\n",
              "      <td>57.000000</td>\n",
              "      <td>1030.000000</td>\n",
              "    </tr>\n",
              "    <tr>\n",
              "      <th>max</th>\n",
              "      <td>20.000000</td>\n",
              "      <td>7274.880000</td>\n",
              "      <td>13.000000</td>\n",
              "      <td>4590.000000</td>\n",
              "      <td>375.280000</td>\n",
              "      <td>69.000000</td>\n",
              "      <td>3985.000000</td>\n",
              "    </tr>\n",
              "  </tbody>\n",
              "</table>\n",
              "</div>\n",
              "      <button class=\"colab-df-convert\" onclick=\"convertToInteractive('df-b6e932a5-66e0-4891-bf28-1de4e110ea5e')\"\n",
              "              title=\"Convert this dataframe to an interactive table.\"\n",
              "              style=\"display:none;\">\n",
              "        \n",
              "  <svg xmlns=\"http://www.w3.org/2000/svg\" height=\"24px\"viewBox=\"0 0 24 24\"\n",
              "       width=\"24px\">\n",
              "    <path d=\"M0 0h24v24H0V0z\" fill=\"none\"/>\n",
              "    <path d=\"M18.56 5.44l.94 2.06.94-2.06 2.06-.94-2.06-.94-.94-2.06-.94 2.06-2.06.94zm-11 1L8.5 8.5l.94-2.06 2.06-.94-2.06-.94L8.5 2.5l-.94 2.06-2.06.94zm10 10l.94 2.06.94-2.06 2.06-.94-2.06-.94-.94-2.06-.94 2.06-2.06.94z\"/><path d=\"M17.41 7.96l-1.37-1.37c-.4-.4-.92-.59-1.43-.59-.52 0-1.04.2-1.43.59L10.3 9.45l-7.72 7.72c-.78.78-.78 2.05 0 2.83L4 21.41c.39.39.9.59 1.41.59.51 0 1.02-.2 1.41-.59l7.78-7.78 2.81-2.81c.8-.78.8-2.07 0-2.86zM5.41 20L4 18.59l7.72-7.72 1.47 1.35L5.41 20z\"/>\n",
              "  </svg>\n",
              "      </button>\n",
              "      \n",
              "  <style>\n",
              "    .colab-df-container {\n",
              "      display:flex;\n",
              "      flex-wrap:wrap;\n",
              "      gap: 12px;\n",
              "    }\n",
              "\n",
              "    .colab-df-convert {\n",
              "      background-color: #E8F0FE;\n",
              "      border: none;\n",
              "      border-radius: 50%;\n",
              "      cursor: pointer;\n",
              "      display: none;\n",
              "      fill: #1967D2;\n",
              "      height: 32px;\n",
              "      padding: 0 0 0 0;\n",
              "      width: 32px;\n",
              "    }\n",
              "\n",
              "    .colab-df-convert:hover {\n",
              "      background-color: #E2EBFA;\n",
              "      box-shadow: 0px 1px 2px rgba(60, 64, 67, 0.3), 0px 1px 3px 1px rgba(60, 64, 67, 0.15);\n",
              "      fill: #174EA6;\n",
              "    }\n",
              "\n",
              "    [theme=dark] .colab-df-convert {\n",
              "      background-color: #3B4455;\n",
              "      fill: #D2E3FC;\n",
              "    }\n",
              "\n",
              "    [theme=dark] .colab-df-convert:hover {\n",
              "      background-color: #434B5C;\n",
              "      box-shadow: 0px 1px 3px 1px rgba(0, 0, 0, 0.15);\n",
              "      filter: drop-shadow(0px 1px 2px rgba(0, 0, 0, 0.3));\n",
              "      fill: #FFFFFF;\n",
              "    }\n",
              "  </style>\n",
              "\n",
              "      <script>\n",
              "        const buttonEl =\n",
              "          document.querySelector('#df-b6e932a5-66e0-4891-bf28-1de4e110ea5e button.colab-df-convert');\n",
              "        buttonEl.style.display =\n",
              "          google.colab.kernel.accessAllowed ? 'block' : 'none';\n",
              "\n",
              "        async function convertToInteractive(key) {\n",
              "          const element = document.querySelector('#df-b6e932a5-66e0-4891-bf28-1de4e110ea5e');\n",
              "          const dataTable =\n",
              "            await google.colab.kernel.invokeFunction('convertToInteractive',\n",
              "                                                     [key], {});\n",
              "          if (!dataTable) return;\n",
              "\n",
              "          const docLinkHtml = 'Like what you see? Visit the ' +\n",
              "            '<a target=\"_blank\" href=https://colab.research.google.com/notebooks/data_table.ipynb>data table notebook</a>'\n",
              "            + ' to learn more about interactive tables.';\n",
              "          element.innerHTML = '';\n",
              "          dataTable['output_type'] = 'display_data';\n",
              "          await google.colab.output.renderOutput(dataTable, element);\n",
              "          const docLink = document.createElement('div');\n",
              "          docLink.innerHTML = docLinkHtml;\n",
              "          element.appendChild(docLink);\n",
              "        }\n",
              "      </script>\n",
              "    </div>\n",
              "  </div>\n",
              "  "
            ]
          },
          "metadata": {},
          "execution_count": 6
        }
      ]
    },
    {
      "cell_type": "markdown",
      "source": [
        "Are the max/min values reasonable for the variables? Do you see any values that look like errors?\n",
        "\n",
        "What is the mean for each variable? What do the means tell you about your dataset as a whole?"
      ],
      "metadata": {
        "id": "n5XTFN8bzeiJ"
      }
    },
    {
      "cell_type": "markdown",
      "source": [
        "---"
      ],
      "metadata": {
        "id": "itrWa-3wzxwU"
      }
    },
    {
      "cell_type": "markdown",
      "source": [
        "## Null Values & Duplicates"
      ],
      "metadata": {
        "id": "-tM3rD7YzzJi"
      }
    },
    {
      "cell_type": "code",
      "source": [
        "print(f'Before: {df.duplicated().sum()}')\n",
        "\n",
        "df.drop_duplicates(inplace=True)\n",
        "\n",
        "print(f'After: {df.duplicated().sum()}')"
      ],
      "metadata": {
        "id": "o1FnRYyKzyq3",
        "outputId": "aa86ee98-90f0-4a46-be0e-9185a04dfe40",
        "colab": {
          "base_uri": "https://localhost:8080/"
        }
      },
      "execution_count": 7,
      "outputs": [
        {
          "output_type": "stream",
          "name": "stdout",
          "text": [
            "Before: 83\n",
            "After: 0\n"
          ]
        }
      ]
    },
    {
      "cell_type": "code",
      "source": [
        "null = df.isna().sum()/len(df)\n",
        "null[null > 0].sort_values()"
      ],
      "metadata": {
        "id": "4KaXOfxV0Gwt",
        "outputId": "ea74bae0-0607-404f-f289-b83c6404d360",
        "colab": {
          "base_uri": "https://localhost:8080/"
        }
      },
      "execution_count": 8,
      "outputs": [
        {
          "output_type": "execute_result",
          "data": {
            "text/plain": [
              "Series([], dtype: float64)"
            ]
          },
          "metadata": {},
          "execution_count": 8
        }
      ]
    },
    {
      "cell_type": "markdown",
      "source": [
        "## Outliers"
      ],
      "metadata": {
        "id": "f4a7TD8u0oPc"
      }
    },
    {
      "cell_type": "code",
      "source": [
        "import matplotlib.pyplot as plt\n",
        "\n",
        "# Filter for only continuous variables\n",
        "cont_vars = ['price', 'freight_value', 'product_name_lenght', 'product_description_lenght']\n",
        "\n",
        "for var in cont_vars:\n",
        "    plt.figure(figsize=(6,4))\n",
        "    plt.boxplot(df[var], vert=True, patch_artist=True)\n",
        "    plt.title(var)\n",
        "    plt.show()"
      ],
      "metadata": {
        "id": "3ZUsEEfR05sL",
        "outputId": "1b26a16e-1664-49ff-89bf-8c7e9bfd2dc8",
        "colab": {
          "base_uri": "https://localhost:8080/",
          "height": 0
        }
      },
      "execution_count": 9,
      "outputs": [
        {
          "output_type": "display_data",
          "data": {
            "text/plain": [
              "<Figure size 600x400 with 1 Axes>"
            ],
            "image/png": "[encoded data removed]"
          },
          "metadata": {}
        },
        {
          "output_type": "display_data",
          "data": {
            "text/plain": [
              "<Figure size 600x400 with 1 Axes>"
            ],
            "image/png": "[encoded data removed]"
          },
          "metadata": {}
        },
        {
          "output_type": "display_data",
          "data": {
            "text/plain": [
              "<Figure size 600x400 with 1 Axes>"
            ],
            "image/png": "[encoded data removed]"
          },
          "metadata": {}
        },
        {
          "output_type": "display_data",
          "data": {
            "text/plain": [
              "<Figure size 600x400 with 1 Axes>"
            ],
            "image/png": "[encoded data removed]"
          },
          "metadata": {}
        }
      ]
    },
    {
      "cell_type": "markdown",
      "source": [
        "Do you have outliers (represented as dark circles on the boxplots) in your variables?\n",
        "\n",
        "Why do you think you have outliers?\n",
        "\n",
        "Do the outliers represent real observations (i.e. not errors)?\n",
        "\n",
        "Should you exclude these observations? If not, should you winsorize the values?"
      ],
      "metadata": {
        "id": "nxQDBZ4E3aHj"
      }
    },
    {
      "cell_type": "markdown",
      "source": [
        "---"
      ],
      "metadata": {
        "id": "xWPbdBhS3bun"
      }
    },
    {
      "cell_type": "markdown",
      "source": [
        "## Correlations/Relationships"
      ],
      "metadata": {
        "id": "9ZQAwA933ft1"
      }
    },
    {
      "cell_type": "code",
      "source": [
        "df.corr().style.background_gradient(cmap='coolwarm').set_precision(4).set_properties(**{'max-width': '100px'})"
      ],
      "metadata": {
        "id": "EfofzGLe0pjc",
        "outputId": "c33cd820-485d-4a65-b5be-74328d3dbada",
        "colab": {
          "base_uri": "https://localhost:8080/",
          "height": 0
        }
      },
      "execution_count": 10,
      "outputs": [
        {
          "output_type": "stream",
          "name": "stderr",
          "text": [
            "<ipython-input-10-dce74a2f4cc2>:1: FutureWarning: The default value of numeric_only in DataFrame.corr is deprecated. In a future version, it will default to False. Select only valid columns or specify the value of numeric_only to silence this warning.\n",
            "  df.corr().style.background_gradient(cmap='coolwarm').set_precision(4).set_properties(**{'max-width': '100px'})\n",
            "<ipython-input-10-dce74a2f4cc2>:1: FutureWarning: this method is deprecated in favour of `Styler.format(precision=..)`\n",
            "  df.corr().style.background_gradient(cmap='coolwarm').set_precision(4).set_properties(**{'max-width': '100px'})\n"
          ]
        },
        {
          "output_type": "execute_result",
          "data": {
            "text/plain": [
              "<pandas.io.formats.style.Styler at 0x7fe1724aff10>"
            ],
            "text/html": [
              "<style type=\"text/css\">\n",
              "#T_e53b9_row0_col0, #T_e53b9_row1_col1, #T_e53b9_row2_col2, #T_e53b9_row3_col3, #T_e53b9_row4_col4, #T_e53b9_row5_col5, #T_e53b9_row6_col6 {\n",
              "  background-color: #b40426;\n",
              "  color: #f1f1f1;\n",
              "  max-width: 100px;\n",
              "}\n",
              "#T_e53b9_row0_col1, #T_e53b9_row1_col0 {\n",
              "  background-color: #a2c1ff;\n",
              "  color: #000000;\n",
              "  max-width: 100px;\n",
              "}\n",
              "#T_e53b9_row0_col2 {\n",
              "  background-color: #6384eb;\n",
              "  color: #f1f1f1;\n",
              "  max-width: 100px;\n",
              "}\n",
              "#T_e53b9_row0_col3 {\n",
              "  background-color: #adc9fd;\n",
              "  color: #000000;\n",
              "  max-width: 100px;\n",
              "}\n",
              "#T_e53b9_row0_col4 {\n",
              "  background-color: #8badfd;\n",
              "  color: #000000;\n",
              "  max-width: 100px;\n",
              "}\n",
              "#T_e53b9_row0_col5, #T_e53b9_row1_col5 {\n",
              "  background-color: #3e51c5;\n",
              "  color: #f1f1f1;\n",
              "  max-width: 100px;\n",
              "}\n",
              "#T_e53b9_row0_col6 {\n",
              "  background-color: #4b64d5;\n",
              "  color: #f1f1f1;\n",
              "  max-width: 100px;\n",
              "}\n",
              "#T_e53b9_row1_col2 {\n",
              "  background-color: #97b8ff;\n",
              "  color: #000000;\n",
              "  max-width: 100px;\n",
              "}\n",
              "#T_e53b9_row1_col3 {\n",
              "  background-color: #f08b6e;\n",
              "  color: #f1f1f1;\n",
              "  max-width: 100px;\n",
              "}\n",
              "#T_e53b9_row1_col4 {\n",
              "  background-color: #c4d5f3;\n",
              "  color: #000000;\n",
              "  max-width: 100px;\n",
              "}\n",
              "#T_e53b9_row1_col6 {\n",
              "  background-color: #779af7;\n",
              "  color: #f1f1f1;\n",
              "  max-width: 100px;\n",
              "}\n",
              "#T_e53b9_row2_col0 {\n",
              "  background-color: #516ddb;\n",
              "  color: #f1f1f1;\n",
              "  max-width: 100px;\n",
              "}\n",
              "#T_e53b9_row2_col1 {\n",
              "  background-color: #86a9fc;\n",
              "  color: #f1f1f1;\n",
              "  max-width: 100px;\n",
              "}\n",
              "#T_e53b9_row2_col3, #T_e53b9_row2_col4, #T_e53b9_row2_col5, #T_e53b9_row2_col6, #T_e53b9_row3_col2, #T_e53b9_row5_col0, #T_e53b9_row5_col1 {\n",
              "  background-color: #3b4cc0;\n",
              "  color: #f1f1f1;\n",
              "  max-width: 100px;\n",
              "}\n",
              "#T_e53b9_row3_col0 {\n",
              "  background-color: #9ebeff;\n",
              "  color: #000000;\n",
              "  max-width: 100px;\n",
              "}\n",
              "#T_e53b9_row3_col1 {\n",
              "  background-color: #f29274;\n",
              "  color: #f1f1f1;\n",
              "  max-width: 100px;\n",
              "}\n",
              "#T_e53b9_row3_col4 {\n",
              "  background-color: #cdd9ec;\n",
              "  color: #000000;\n",
              "  max-width: 100px;\n",
              "}\n",
              "#T_e53b9_row3_col5 {\n",
              "  background-color: #445acc;\n",
              "  color: #f1f1f1;\n",
              "  max-width: 100px;\n",
              "}\n",
              "#T_e53b9_row3_col6 {\n",
              "  background-color: #7ea1fa;\n",
              "  color: #f1f1f1;\n",
              "  max-width: 100px;\n",
              "}\n",
              "#T_e53b9_row4_col0 {\n",
              "  background-color: #80a3fa;\n",
              "  color: #f1f1f1;\n",
              "  max-width: 100px;\n",
              "}\n",
              "#T_e53b9_row4_col1 {\n",
              "  background-color: #bbd1f8;\n",
              "  color: #000000;\n",
              "  max-width: 100px;\n",
              "}\n",
              "#T_e53b9_row4_col2 {\n",
              "  background-color: #3f53c6;\n",
              "  color: #f1f1f1;\n",
              "  max-width: 100px;\n",
              "}\n",
              "#T_e53b9_row4_col3 {\n",
              "  background-color: #cfdaea;\n",
              "  color: #000000;\n",
              "  max-width: 100px;\n",
              "}\n",
              "#T_e53b9_row4_col5 {\n",
              "  background-color: #4e68d8;\n",
              "  color: #f1f1f1;\n",
              "  max-width: 100px;\n",
              "}\n",
              "#T_e53b9_row4_col6 {\n",
              "  background-color: #688aef;\n",
              "  color: #f1f1f1;\n",
              "  max-width: 100px;\n",
              "}\n",
              "#T_e53b9_row5_col2 {\n",
              "  background-color: #4961d2;\n",
              "  color: #f1f1f1;\n",
              "  max-width: 100px;\n",
              "}\n",
              "#T_e53b9_row5_col3 {\n",
              "  background-color: #536edd;\n",
              "  color: #f1f1f1;\n",
              "  max-width: 100px;\n",
              "}\n",
              "#T_e53b9_row5_col4 {\n",
              "  background-color: #5875e1;\n",
              "  color: #f1f1f1;\n",
              "  max-width: 100px;\n",
              "}\n",
              "#T_e53b9_row5_col6 {\n",
              "  background-color: #6687ed;\n",
              "  color: #f1f1f1;\n",
              "  max-width: 100px;\n",
              "}\n",
              "#T_e53b9_row6_col0 {\n",
              "  background-color: #455cce;\n",
              "  color: #f1f1f1;\n",
              "  max-width: 100px;\n",
              "}\n",
              "#T_e53b9_row6_col1 {\n",
              "  background-color: #6f92f3;\n",
              "  color: #f1f1f1;\n",
              "  max-width: 100px;\n",
              "}\n",
              "#T_e53b9_row6_col2 {\n",
              "  background-color: #465ecf;\n",
              "  color: #f1f1f1;\n",
              "  max-width: 100px;\n",
              "}\n",
              "#T_e53b9_row6_col3 {\n",
              "  background-color: #89acfd;\n",
              "  color: #000000;\n",
              "  max-width: 100px;\n",
              "}\n",
              "#T_e53b9_row6_col4 {\n",
              "  background-color: #6e90f2;\n",
              "  color: #f1f1f1;\n",
              "  max-width: 100px;\n",
              "}\n",
              "#T_e53b9_row6_col5 {\n",
              "  background-color: #6282ea;\n",
              "  color: #f1f1f1;\n",
              "  max-width: 100px;\n",
              "}\n",
              "</style>\n",
              "<table id=\"T_e53b9\" class=\"dataframe\">\n",
              "  <thead>\n",
              "    <tr>\n",
              "      <th class=\"blank level0\" >&nbsp;</th>\n",
              "      <th id=\"T_e53b9_level0_col0\" class=\"col_heading level0 col0\" >payment_installments</th>\n",
              "      <th id=\"T_e53b9_level0_col1\" class=\"col_heading level0 col1\" >payment_value</th>\n",
              "      <th id=\"T_e53b9_level0_col2\" class=\"col_heading level0 col2\" >item_per_order</th>\n",
              "      <th id=\"T_e53b9_level0_col3\" class=\"col_heading level0 col3\" >price</th>\n",
              "      <th id=\"T_e53b9_level0_col4\" class=\"col_heading level0 col4\" >freight_value</th>\n",
              "      <th id=\"T_e53b9_level0_col5\" class=\"col_heading level0 col5\" >product_name_lenght</th>\n",
              "      <th id=\"T_e53b9_level0_col6\" class=\"col_heading level0 col6\" >product_description_lenght</th>\n",
              "    </tr>\n",
              "  </thead>\n",
              "  <tbody>\n",
              "    <tr>\n",
              "      <th id=\"T_e53b9_level0_row0\" class=\"row_heading level0 row0\" >payment_installments</th>\n",
              "      <td id=\"T_e53b9_row0_col0\" class=\"data row0 col0\" >1.0000</td>\n",
              "      <td id=\"T_e53b9_row0_col1\" class=\"data row0 col1\" >0.3081</td>\n",
              "      <td id=\"T_e53b9_row0_col2\" class=\"data row0 col2\" >0.0708</td>\n",
              "      <td id=\"T_e53b9_row0_col3\" class=\"data row0 col3\" >0.2963</td>\n",
              "      <td id=\"T_e53b9_row0_col4\" class=\"data row0 col4\" >0.2061</td>\n",
              "      <td id=\"T_e53b9_row0_col5\" class=\"data row0 col5\" >-0.0062</td>\n",
              "      <td id=\"T_e53b9_row0_col6\" class=\"data row0 col6\" >0.0319</td>\n",
              "    </tr>\n",
              "    <tr>\n",
              "      <th id=\"T_e53b9_level0_row1\" class=\"row_heading level0 row1\" >payment_value</th>\n",
              "      <td id=\"T_e53b9_row1_col0\" class=\"data row1 col0\" >0.3081</td>\n",
              "      <td id=\"T_e53b9_row1_col1\" class=\"data row1 col1\" >1.0000</td>\n",
              "      <td id=\"T_e53b9_row1_col2\" class=\"data row1 col2\" >0.2297</td>\n",
              "      <td id=\"T_e53b9_row1_col3\" class=\"data row1 col3\" >0.7664</td>\n",
              "      <td id=\"T_e53b9_row1_col4\" class=\"data row1 col4\" >0.3834</td>\n",
              "      <td id=\"T_e53b9_row1_col5\" class=\"data row1 col5\" >-0.0024</td>\n",
              "      <td id=\"T_e53b9_row1_col6\" class=\"data row1 col6\" >0.1658</td>\n",
              "    </tr>\n",
              "    <tr>\n",
              "      <th id=\"T_e53b9_level0_row2\" class=\"row_heading level0 row2\" >item_per_order</th>\n",
              "      <td id=\"T_e53b9_row2_col0\" class=\"data row2 col0\" >0.0708</td>\n",
              "      <td id=\"T_e53b9_row2_col1\" class=\"data row2 col1\" >0.2297</td>\n",
              "      <td id=\"T_e53b9_row2_col2\" class=\"data row2 col2\" >1.0000</td>\n",
              "      <td id=\"T_e53b9_row2_col3\" class=\"data row2 col3\" >-0.0700</td>\n",
              "      <td id=\"T_e53b9_row2_col4\" class=\"data row2 col4\" >-0.0501</td>\n",
              "      <td id=\"T_e53b9_row2_col5\" class=\"data row2 col5\" >-0.0182</td>\n",
              "      <td id=\"T_e53b9_row2_col6\" class=\"data row2 col6\" >-0.0281</td>\n",
              "    </tr>\n",
              "    <tr>\n",
              "      <th id=\"T_e53b9_level0_row3\" class=\"row_heading level0 row3\" >price</th>\n",
              "      <td id=\"T_e53b9_row3_col0\" class=\"data row3 col0\" >0.2963</td>\n",
              "      <td id=\"T_e53b9_row3_col1\" class=\"data row3 col1\" >0.7664</td>\n",
              "      <td id=\"T_e53b9_row3_col2\" class=\"data row3 col2\" >-0.0700</td>\n",
              "      <td id=\"T_e53b9_row3_col3\" class=\"data row3 col3\" >1.0000</td>\n",
              "      <td id=\"T_e53b9_row3_col4\" class=\"data row3 col4\" >0.4147</td>\n",
              "      <td id=\"T_e53b9_row3_col5\" class=\"data row3 col5\" >0.0160</td>\n",
              "      <td id=\"T_e53b9_row3_col6\" class=\"data row3 col6\" >0.1872</td>\n",
              "    </tr>\n",
              "    <tr>\n",
              "      <th id=\"T_e53b9_level0_row4\" class=\"row_heading level0 row4\" >freight_value</th>\n",
              "      <td id=\"T_e53b9_row4_col0\" class=\"data row4 col0\" >0.2061</td>\n",
              "      <td id=\"T_e53b9_row4_col1\" class=\"data row4 col1\" >0.3834</td>\n",
              "      <td id=\"T_e53b9_row4_col2\" class=\"data row4 col2\" >-0.0501</td>\n",
              "      <td id=\"T_e53b9_row4_col3\" class=\"data row4 col3\" >0.4147</td>\n",
              "      <td id=\"T_e53b9_row4_col4\" class=\"data row4 col4\" >1.0000</td>\n",
              "      <td id=\"T_e53b9_row4_col5\" class=\"data row4 col5\" >0.0487</td>\n",
              "      <td id=\"T_e53b9_row4_col6\" class=\"data row4 col6\" >0.1205</td>\n",
              "    </tr>\n",
              "    <tr>\n",
              "      <th id=\"T_e53b9_level0_row5\" class=\"row_heading level0 row5\" >product_name_lenght</th>\n",
              "      <td id=\"T_e53b9_row5_col0\" class=\"data row5 col0\" >-0.0062</td>\n",
              "      <td id=\"T_e53b9_row5_col1\" class=\"data row5 col1\" >-0.0024</td>\n",
              "      <td id=\"T_e53b9_row5_col2\" class=\"data row5 col2\" >-0.0182</td>\n",
              "      <td id=\"T_e53b9_row5_col3\" class=\"data row5 col3\" >0.0160</td>\n",
              "      <td id=\"T_e53b9_row5_col4\" class=\"data row5 col4\" >0.0487</td>\n",
              "      <td id=\"T_e53b9_row5_col5\" class=\"data row5 col5\" >1.0000</td>\n",
              "      <td id=\"T_e53b9_row5_col6\" class=\"data row5 col6\" >0.1127</td>\n",
              "    </tr>\n",
              "    <tr>\n",
              "      <th id=\"T_e53b9_level0_row6\" class=\"row_heading level0 row6\" >product_description_lenght</th>\n",
              "      <td id=\"T_e53b9_row6_col0\" class=\"data row6 col0\" >0.0319</td>\n",
              "      <td id=\"T_e53b9_row6_col1\" class=\"data row6 col1\" >0.1658</td>\n",
              "      <td id=\"T_e53b9_row6_col2\" class=\"data row6 col2\" >-0.0281</td>\n",
              "      <td id=\"T_e53b9_row6_col3\" class=\"data row6 col3\" >0.1872</td>\n",
              "      <td id=\"T_e53b9_row6_col4\" class=\"data row6 col4\" >0.1205</td>\n",
              "      <td id=\"T_e53b9_row6_col5\" class=\"data row6 col5\" >0.1127</td>\n",
              "      <td id=\"T_e53b9_row6_col6\" class=\"data row6 col6\" >1.0000</td>\n",
              "    </tr>\n",
              "  </tbody>\n",
              "</table>\n"
            ]
          },
          "metadata": {},
          "execution_count": 10
        }
      ]
    },
    {
      "cell_type": "markdown",
      "source": [
        "Which variables are most correlated with your target variable?(If applicable)\n",
        "\n",
        "Is there multicollinearity? (Two features that have a correlation > 0.8) How will this affect your model?\n",
        "\n",
        "Do you have variables that represent the same information? Can one be dropped?"
      ],
      "metadata": {
        "id": "Y9IDtmY23vQp"
      }
    },
    {
      "cell_type": "markdown",
      "source": [
        "## Feature Engineering\n",
        "\n",
        "1. Remove the `customer_id`, `order_id`, `customer_unique_id`, `order_item_id`, `product_id`, `seller_id`, `product_category_name` columns.\n",
        "\n",
        "2. Convert the `order_status`, `payment_type`, `product_category_name_english` columns to a categorical variable.\n",
        "\n",
        "3. Remove from `order_estimated_delivery_date` column the `time`\n",
        "\n",
        "4. Encode the `customer_city`, `customer_state`, `seller_city`, `seller_state` columns."
      ],
      "metadata": {
        "id": "z-u2_lTIl9VB"
      }
    },
    {
      "cell_type": "code",
      "source": [
        "df['purchase_date'] = pd.to_datetime(df['purchase_date']).astype(int)/10**9\n",
        "df['approved_date'] = pd.to_datetime(df['approved_date']).astype(int)/10**9\n",
        "df['handled_by_logistic_date'] = pd.to_datetime(df['handled_by_logistic_date']).astype(int)/10**9\n",
        "df['delivery_date'] = pd.to_datetime(df['delivery_date']).astype(int)/10**9\n",
        "df['estimated_delivery_date'] = pd.to_datetime(df['estimated_delivery_date']).astype(int)/10**9\n",
        "df['shipping_limit_date'] = pd.to_datetime(df['shipping_limit_date']).astype(int)/10**9"
      ],
      "metadata": {
        "id": "sPl_NWLomJ3b"
      },
      "execution_count": 11,
      "outputs": []
    },
    {
      "cell_type": "code",
      "source": [
        "from sklearn.preprocessing import LabelEncoder\n",
        "\n",
        "le = LabelEncoder()\n",
        "\n",
        "# Order Status\n",
        "df['order_status'] = le.fit_transform(df['order_status'])\n",
        "\n",
        "# payment_type\n",
        "df['payment_type'] = le.fit_transform(df['payment_type'])\n",
        "\n",
        "# product_category_name_english\n",
        "df['product_category_name_english'] = le.fit_transform(df['product_category_name_english'])"
      ],
      "metadata": {
        "id": "DrzaUy9qmIMV"
      },
      "execution_count": 12,
      "outputs": []
    },
    {
      "cell_type": "code",
      "source": [
        "!pip install category_encoders \n",
        "from category_encoders import LeaveOneOutEncoder\n",
        "from sklearn.model_selection import train_test_split\n",
        "\n",
        "X_train, X_test, y_train, y_test = train_test_split(df.drop(columns=['estimated_delivery_date']), df['estimated_delivery_date'], test_size=0.2)\n",
        "\n",
        "enc = LeaveOneOutEncoder(cols=['customer_city', 'customer_state', 'seller_city', 'seller_state', 'product_category_name'])\n",
        "training_set = enc.fit_transform(X_train, y_train)"
      ],
      "metadata": {
        "id": "C6CCL13U58cc",
        "outputId": "7644af89-ef78-496f-b7a8-654f4c3d1d84",
        "colab": {
          "base_uri": "https://localhost:8080/"
        }
      },
      "execution_count": 17,
      "outputs": [
        {
          "output_type": "stream",
          "name": "stdout",
          "text": [
            "Looking in indexes: https://pypi.org/simple, https://us-python.pkg.dev/colab-wheels/public/simple/\n",
            "Requirement already satisfied: category_encoders in /usr/local/lib/python3.9/dist-packages (2.6.0)\n",
            "Requirement already satisfied: statsmodels>=0.9.0 in /usr/local/lib/python3.9/dist-packages (from category_encoders) (0.13.5)\n",
            "Requirement already satisfied: numpy>=1.14.0 in /usr/local/lib/python3.9/dist-packages (from category_encoders) (1.22.4)\n",
            "Requirement already satisfied: patsy>=0.5.1 in /usr/local/lib/python3.9/dist-packages (from category_encoders) (0.5.3)\n",
            "Requirement already satisfied: scikit-learn>=0.20.0 in /usr/local/lib/python3.9/dist-packages (from category_encoders) (1.2.2)\n",
            "Requirement already satisfied: scipy>=1.0.0 in /usr/local/lib/python3.9/dist-packages (from category_encoders) (1.10.1)\n",
            "Requirement already satisfied: pandas>=1.0.5 in /usr/local/lib/python3.9/dist-packages (from category_encoders) (1.5.3)\n",
            "Requirement already satisfied: pytz>=2020.1 in /usr/local/lib/python3.9/dist-packages (from pandas>=1.0.5->category_encoders) (2022.7.1)\n",
            "Requirement already satisfied: python-dateutil>=2.8.1 in /usr/local/lib/python3.9/dist-packages (from pandas>=1.0.5->category_encoders) (2.8.2)\n",
            "Requirement already satisfied: six in /usr/local/lib/python3.9/dist-packages (from patsy>=0.5.1->category_encoders) (1.16.0)\n",
            "Requirement already satisfied: threadpoolctl>=2.0.0 in /usr/local/lib/python3.9/dist-packages (from scikit-learn>=0.20.0->category_encoders) (3.1.0)\n",
            "Requirement already satisfied: joblib>=1.1.1 in /usr/local/lib/python3.9/dist-packages (from scikit-learn>=0.20.0->category_encoders) (1.2.0)\n",
            "Requirement already satisfied: packaging>=21.3 in /usr/local/lib/python3.9/dist-packages (from statsmodels>=0.9.0->category_encoders) (23.0)\n"
          ]
        }
      ]
    },
    {
      "cell_type": "code",
      "source": [
        "training_set"
      ],
      "metadata": {
        "id": "-QBuU9Zr4e33",
        "outputId": "58199065-169b-489e-f480-5ccf1dd512a2",
        "colab": {
          "base_uri": "https://localhost:8080/",
          "height": 488
        }
      },
      "execution_count": 18,
      "outputs": [
        {
          "output_type": "execute_result",
          "data": {
            "text/plain": [
              "                               order_id                       customer_id  \\\n",
              "6838   8c3ef96e828b5894ec632ba10985867d  5cc1b597806534b1fd8814a7a9d85230   \n",
              "7186   75acfc4ebfc9ddb503a29002b31d8d80  46b4935e012e89972a35d8c39ed05ac3   \n",
              "1973   699a054a231f241e711b0ff3bdd1e250  b3011b12b04e3e8423157ca40dba4e1f   \n",
              "13274  77aecc9798d57db2f5a83579783cdec7  f79c95fa7462b1cb87c31e3b68e30b5f   \n",
              "5371   3b70c696a802c8faa368856e6d6309e3  28a9a3a21866a667462c1965fbfce618   \n",
              "...                                 ...                               ...   \n",
              "850    6ee0abe7b83e046f6ca20743a8c6e7c7  cd6b75f7bf6ec7f8435a42d97e8b240e   \n",
              "6473   312182e0c020c06cbe244ddb6d4fe780  7d1d607f1a17cb187a4c3e557fd8575d   \n",
              "4893   44c5dae14c55309b097d6c510ef1a986  e61831eed6ce9ac253e452e3bc8a41a5   \n",
              "12874  0a79d1506c2e0249c9aff8723bcf51e9  a995c91194ffa9252517fa251995adf9   \n",
              "9201   66c1172ab0ddb605d4012ce1d4339ffb  beeca1dc645ce7cd996e0db5978cab77   \n",
              "\n",
              "       order_status  purchase_date  approved_date  handled_by_logistic_date  \\\n",
              "6838              1   1.535039e+09   1.535040e+09              1.535038e+09   \n",
              "7186              1   1.526067e+09   1.526067e+09              1.526294e+09   \n",
              "1973              1   1.525865e+09   1.525868e+09              1.526448e+09   \n",
              "13274             1   1.526422e+09   1.526424e+09              1.526484e+09   \n",
              "5371              1   1.531833e+09   1.531834e+09              1.531842e+09   \n",
              "...             ...            ...            ...                       ...   \n",
              "850               1   1.533517e+09   1.533518e+09              1.533627e+09   \n",
              "6473              1   1.526299e+09   1.526443e+09              1.526486e+09   \n",
              "4893              1   1.531999e+09   1.532000e+09              1.532339e+09   \n",
              "12874             1   1.526647e+09   1.526648e+09              1.527586e+09   \n",
              "9201              1   1.532171e+09   1.532172e+09              1.532343e+09   \n",
              "\n",
              "       delivery_date  payment_type  payment_installments  payment_value  \\\n",
              "6838    1.535397e+09             1                     3         158.74   \n",
              "7186    1.528397e+09             1                     2         181.03   \n",
              "1973    1.526938e+09             1                     6         199.80   \n",
              "13274   1.526588e+09             1                     2         110.18   \n",
              "5371    1.532118e+09             1                     7         147.52   \n",
              "...              ...           ...                   ...            ...   \n",
              "850     1.533915e+09             2                     1         444.59   \n",
              "6473    1.526684e+09             0                     1          41.88   \n",
              "4893    1.532453e+09             1                     4         356.90   \n",
              "12874   1.528226e+09             1                     2         112.02   \n",
              "9201    1.532989e+09             1                     7         193.84   \n",
              "\n",
              "                     customer_unique_id  customer_city  customer_state  \\\n",
              "6838   7d4f2092516e2d6d87f82491164a3609   1.530973e+09    1.530983e+09   \n",
              "7186   5cbc208c3c4c9a4c7bb48a44b00e53cd   1.530706e+09    1.531435e+09   \n",
              "1973   d18125b8c0fcffd0da676d56fb581bee   1.531154e+09    1.530985e+09   \n",
              "13274  2d1685d91e7c5959eba292c2a484ab05   1.530746e+09    1.530985e+09   \n",
              "5371   6ae0a9e0c0b38e764d43aca2febc9e20   1.529453e+09    1.530961e+09   \n",
              "...                                 ...            ...             ...   \n",
              "850    a358f5086c8e4e3e935c9bbf8b6db573   1.531048e+09    1.530983e+09   \n",
              "6473   5dfae2c8e479184adc19a12274a345ad   1.530978e+09    1.530985e+09   \n",
              "4893   e8c60c7f5d8c59169d20cac8c2276ef6   1.531761e+09    1.530983e+09   \n",
              "12874  e093c00d1a7972c2a479ed40e648ee00   1.532477e+09    1.530985e+09   \n",
              "9201   accd43278507145b2e40b2a8010e7223   1.531058e+09    1.530983e+09   \n",
              "\n",
              "       item_per_order                        product_id  \\\n",
              "6838                1  91846781ef75057e134949400768e272   \n",
              "7186                1  d4a9f03055ff0e12e1821a706f554322   \n",
              "1973                1  53b36df67ebb7c41585e8d54d6772e08   \n",
              "13274               1  dcca0e1c43015b958b03fe982abd84e6   \n",
              "5371                1  9a1a6710ea1fc304f6ab28a27e1ac182   \n",
              "...               ...                               ...   \n",
              "850                 2  24c66f106f642621e524291a895c9032   \n",
              "6473                1  c9701c7e21b5d653f1154e62ada219d7   \n",
              "4893                1  25f57c88d67a6e65ff2eec180c03a4cb   \n",
              "12874               1  4fe644d766c7566dbc46fb851363cb3b   \n",
              "9201                1  fad3ac91e2ae2e3e0e3f0bed36a565b8   \n",
              "\n",
              "                              seller_id  shipping_limit_date   price  \\\n",
              "6838   530ec6109d11eaaf87999465c6afee01         1.535386e+09  134.99   \n",
              "7186   0f0c984a4a955310903b6b6008660bad         1.526586e+09  138.00   \n",
              "1973   7d13fca15225358621be4086e1eb0964         1.526386e+09   99.90   \n",
              "13274  5a6a02f419701fc8c605af71d4fc57a4         1.527028e+09   55.50   \n",
              "5371   acce39e832338debb07b02385cde5967         1.532352e+09  124.90   \n",
              "...                                 ...                  ...     ...   \n",
              "850    620c87c171fb2a6dd6e8bb4dec959fc6         1.533777e+09  199.90   \n",
              "6473   2e1c9f22be269ef4643f826c9e650a52         1.526616e+09   34.49   \n",
              "4893   a7dc4098e4da6e41b426269d12ae7e91         1.532518e+09  170.00   \n",
              "12874  c31eff8334d6b3047ed34bebd4d62c36         1.527253e+09   99.99   \n",
              "9201   c33847515fa6305ce6feb1e818569f13         1.532604e+09  149.00   \n",
              "\n",
              "       freight_value   seller_city  seller_state  product_category_name  \\\n",
              "6838           23.75  1.531628e+09  1.531492e+09           1.531172e+09   \n",
              "7186           43.03  1.530466e+09  1.530959e+09           1.531184e+09   \n",
              "1973            0.00  1.530027e+09  1.530959e+09           1.531045e+09   \n",
              "13274           7.39  1.531084e+09  1.530959e+09           1.530701e+09   \n",
              "5371           22.62  1.532047e+09  1.531137e+09           1.531794e+09   \n",
              "...              ...           ...           ...                    ...   \n",
              "850            22.39  1.531971e+09  1.531365e+09           1.531470e+09   \n",
              "6473            7.39  1.531130e+09  1.530960e+09           1.531186e+09   \n",
              "4893            8.45  1.531128e+09  1.530959e+09           1.531383e+09   \n",
              "12874          12.03  1.531142e+09  1.530959e+09           1.531215e+09   \n",
              "9201           44.84  1.531842e+09  1.531503e+09           1.530943e+09   \n",
              "\n",
              "       product_name_lenght  product_description_lenght  \\\n",
              "6838                    59                        1732   \n",
              "7186                    32                        3127   \n",
              "1973                    33                         523   \n",
              "13274                   42                        2142   \n",
              "5371                    42                         944   \n",
              "...                    ...                         ...   \n",
              "850                     37                         325   \n",
              "6473                    37                         227   \n",
              "4893                    58                         336   \n",
              "12874                   48                        1232   \n",
              "9201                    60                         597   \n",
              "\n",
              "       product_category_name_english  \n",
              "6838                              60  \n",
              "7186                              60  \n",
              "1973                              65  \n",
              "13274                              8  \n",
              "5371                              61  \n",
              "...                              ...  \n",
              "850                               40  \n",
              "6473                              60  \n",
              "4893                               5  \n",
              "12874                              2  \n",
              "9201                               7  \n",
              "\n",
              "[10974 rows x 25 columns]"
            ],
            "text/html": [
              "\n",
              "  <div id=\"df-2fa6fc8b-2231-4cc0-b40e-6421e9d6a172\">\n",
              "    <div class=\"colab-df-container\">\n",
              "      <div>\n",
              "<style scoped>\n",
              "    .dataframe tbody tr th:only-of-type {\n",
              "        vertical-align: middle;\n",
              "    }\n",
              "\n",
              "    .dataframe tbody tr th {\n",
              "        vertical-align: top;\n",
              "    }\n",
              "\n",
              "    .dataframe thead th {\n",
              "        text-align: right;\n",
              "    }\n",
              "</style>\n",
              "<table border=\"1\" class=\"dataframe\">\n",
              "  <thead>\n",
              "    <tr style=\"text-align: right;\">\n",
              "      <th></th>\n",
              "      <th>order_id</th>\n",
              "      <th>customer_id</th>\n",
              "      <th>order_status</th>\n",
              "      <th>purchase_date</th>\n",
              "      <th>approved_date</th>\n",
              "      <th>handled_by_logistic_date</th>\n",
              "      <th>delivery_date</th>\n",
              "      <th>payment_type</th>\n",
              "      <th>payment_installments</th>\n",
              "      <th>payment_value</th>\n",
              "      <th>customer_unique_id</th>\n",
              "      <th>customer_city</th>\n",
              "      <th>customer_state</th>\n",
              "      <th>item_per_order</th>\n",
              "      <th>product_id</th>\n",
              "      <th>seller_id</th>\n",
              "      <th>shipping_limit_date</th>\n",
              "      <th>price</th>\n",
              "      <th>freight_value</th>\n",
              "      <th>seller_city</th>\n",
              "      <th>seller_state</th>\n",
              "      <th>product_category_name</th>\n",
              "      <th>product_name_lenght</th>\n",
              "      <th>product_description_lenght</th>\n",
              "      <th>product_category_name_english</th>\n",
              "    </tr>\n",
              "  </thead>\n",
              "  <tbody>\n",
              "    <tr>\n",
              "      <th>6838</th>\n",
              "      <td>8c3ef96e828b5894ec632ba10985867d</td>\n",
              "      <td>5cc1b597806534b1fd8814a7a9d85230</td>\n",
              "      <td>1</td>\n",
              "      <td>1.535039e+09</td>\n",
              "      <td>1.535040e+09</td>\n",
              "      <td>1.535038e+09</td>\n",
              "      <td>1.535397e+09</td>\n",
              "      <td>1</td>\n",
              "      <td>3</td>\n",
              "      <td>158.74</td>\n",
              "      <td>7d4f2092516e2d6d87f82491164a3609</td>\n",
              "      <td>1.530973e+09</td>\n",
              "      <td>1.530983e+09</td>\n",
              "      <td>1</td>\n",
              "      <td>91846781ef75057e134949400768e272</td>\n",
              "      <td>530ec6109d11eaaf87999465c6afee01</td>\n",
              "      <td>1.535386e+09</td>\n",
              "      <td>134.99</td>\n",
              "      <td>23.75</td>\n",
              "      <td>1.531628e+09</td>\n",
              "      <td>1.531492e+09</td>\n",
              "      <td>1.531172e+09</td>\n",
              "      <td>59</td>\n",
              "      <td>1732</td>\n",
              "      <td>60</td>\n",
              "    </tr>\n",
              "    <tr>\n",
              "      <th>7186</th>\n",
              "      <td>75acfc4ebfc9ddb503a29002b31d8d80</td>\n",
              "      <td>46b4935e012e89972a35d8c39ed05ac3</td>\n",
              "      <td>1</td>\n",
              "      <td>1.526067e+09</td>\n",
              "      <td>1.526067e+09</td>\n",
              "      <td>1.526294e+09</td>\n",
              "      <td>1.528397e+09</td>\n",
              "      <td>1</td>\n",
              "      <td>2</td>\n",
              "      <td>181.03</td>\n",
              "      <td>5cbc208c3c4c9a4c7bb48a44b00e53cd</td>\n",
              "      <td>1.530706e+09</td>\n",
              "      <td>1.531435e+09</td>\n",
              "      <td>1</td>\n",
              "      <td>d4a9f03055ff0e12e1821a706f554322</td>\n",
              "      <td>0f0c984a4a955310903b6b6008660bad</td>\n",
              "      <td>1.526586e+09</td>\n",
              "      <td>138.00</td>\n",
              "      <td>43.03</td>\n",
              "      <td>1.530466e+09</td>\n",
              "      <td>1.530959e+09</td>\n",
              "      <td>1.531184e+09</td>\n",
              "      <td>32</td>\n",
              "      <td>3127</td>\n",
              "      <td>60</td>\n",
              "    </tr>\n",
              "    <tr>\n",
              "      <th>1973</th>\n",
              "      <td>699a054a231f241e711b0ff3bdd1e250</td>\n",
              "      <td>b3011b12b04e3e8423157ca40dba4e1f</td>\n",
              "      <td>1</td>\n",
              "      <td>1.525865e+09</td>\n",
              "      <td>1.525868e+09</td>\n",
              "      <td>1.526448e+09</td>\n",
              "      <td>1.526938e+09</td>\n",
              "      <td>1</td>\n",
              "      <td>6</td>\n",
              "      <td>199.80</td>\n",
              "      <td>d18125b8c0fcffd0da676d56fb581bee</td>\n",
              "      <td>1.531154e+09</td>\n",
              "      <td>1.530985e+09</td>\n",
              "      <td>1</td>\n",
              "      <td>53b36df67ebb7c41585e8d54d6772e08</td>\n",
              "      <td>7d13fca15225358621be4086e1eb0964</td>\n",
              "      <td>1.526386e+09</td>\n",
              "      <td>99.90</td>\n",
              "      <td>0.00</td>\n",
              "      <td>1.530027e+09</td>\n",
              "      <td>1.530959e+09</td>\n",
              "      <td>1.531045e+09</td>\n",
              "      <td>33</td>\n",
              "      <td>523</td>\n",
              "      <td>65</td>\n",
              "    </tr>\n",
              "    <tr>\n",
              "      <th>13274</th>\n",
              "      <td>77aecc9798d57db2f5a83579783cdec7</td>\n",
              "      <td>f79c95fa7462b1cb87c31e3b68e30b5f</td>\n",
              "      <td>1</td>\n",
              "      <td>1.526422e+09</td>\n",
              "      <td>1.526424e+09</td>\n",
              "      <td>1.526484e+09</td>\n",
              "      <td>1.526588e+09</td>\n",
              "      <td>1</td>\n",
              "      <td>2</td>\n",
              "      <td>110.18</td>\n",
              "      <td>2d1685d91e7c5959eba292c2a484ab05</td>\n",
              "      <td>1.530746e+09</td>\n",
              "      <td>1.530985e+09</td>\n",
              "      <td>1</td>\n",
              "      <td>dcca0e1c43015b958b03fe982abd84e6</td>\n",
              "      <td>5a6a02f419701fc8c605af71d4fc57a4</td>\n",
              "      <td>1.527028e+09</td>\n",
              "      <td>55.50</td>\n",
              "      <td>7.39</td>\n",
              "      <td>1.531084e+09</td>\n",
              "      <td>1.530959e+09</td>\n",
              "      <td>1.530701e+09</td>\n",
              "      <td>42</td>\n",
              "      <td>2142</td>\n",
              "      <td>8</td>\n",
              "    </tr>\n",
              "    <tr>\n",
              "      <th>5371</th>\n",
              "      <td>3b70c696a802c8faa368856e6d6309e3</td>\n",
              "      <td>28a9a3a21866a667462c1965fbfce618</td>\n",
              "      <td>1</td>\n",
              "      <td>1.531833e+09</td>\n",
              "      <td>1.531834e+09</td>\n",
              "      <td>1.531842e+09</td>\n",
              "      <td>1.532118e+09</td>\n",
              "      <td>1</td>\n",
              "      <td>7</td>\n",
              "      <td>147.52</td>\n",
              "      <td>6ae0a9e0c0b38e764d43aca2febc9e20</td>\n",
              "      <td>1.529453e+09</td>\n",
              "      <td>1.530961e+09</td>\n",
              "      <td>1</td>\n",
              "      <td>9a1a6710ea1fc304f6ab28a27e1ac182</td>\n",
              "      <td>acce39e832338debb07b02385cde5967</td>\n",
              "      <td>1.532352e+09</td>\n",
              "      <td>124.90</td>\n",
              "      <td>22.62</td>\n",
              "      <td>1.532047e+09</td>\n",
              "      <td>1.531137e+09</td>\n",
              "      <td>1.531794e+09</td>\n",
              "      <td>42</td>\n",
              "      <td>944</td>\n",
              "      <td>61</td>\n",
              "    </tr>\n",
              "    <tr>\n",
              "      <th>...</th>\n",
              "      <td>...</td>\n",
              "      <td>...</td>\n",
              "      <td>...</td>\n",
              "      <td>...</td>\n",
              "      <td>...</td>\n",
              "      <td>...</td>\n",
              "      <td>...</td>\n",
              "      <td>...</td>\n",
              "      <td>...</td>\n",
              "      <td>...</td>\n",
              "      <td>...</td>\n",
              "      <td>...</td>\n",
              "      <td>...</td>\n",
              "      <td>...</td>\n",
              "      <td>...</td>\n",
              "      <td>...</td>\n",
              "      <td>...</td>\n",
              "      <td>...</td>\n",
              "      <td>...</td>\n",
              "      <td>...</td>\n",
              "      <td>...</td>\n",
              "      <td>...</td>\n",
              "      <td>...</td>\n",
              "      <td>...</td>\n",
              "      <td>...</td>\n",
              "    </tr>\n",
              "    <tr>\n",
              "      <th>850</th>\n",
              "      <td>6ee0abe7b83e046f6ca20743a8c6e7c7</td>\n",
              "      <td>cd6b75f7bf6ec7f8435a42d97e8b240e</td>\n",
              "      <td>1</td>\n",
              "      <td>1.533517e+09</td>\n",
              "      <td>1.533518e+09</td>\n",
              "      <td>1.533627e+09</td>\n",
              "      <td>1.533915e+09</td>\n",
              "      <td>2</td>\n",
              "      <td>1</td>\n",
              "      <td>444.59</td>\n",
              "      <td>a358f5086c8e4e3e935c9bbf8b6db573</td>\n",
              "      <td>1.531048e+09</td>\n",
              "      <td>1.530983e+09</td>\n",
              "      <td>2</td>\n",
              "      <td>24c66f106f642621e524291a895c9032</td>\n",
              "      <td>620c87c171fb2a6dd6e8bb4dec959fc6</td>\n",
              "      <td>1.533777e+09</td>\n",
              "      <td>199.90</td>\n",
              "      <td>22.39</td>\n",
              "      <td>1.531971e+09</td>\n",
              "      <td>1.531365e+09</td>\n",
              "      <td>1.531470e+09</td>\n",
              "      <td>37</td>\n",
              "      <td>325</td>\n",
              "      <td>40</td>\n",
              "    </tr>\n",
              "    <tr>\n",
              "      <th>6473</th>\n",
              "      <td>312182e0c020c06cbe244ddb6d4fe780</td>\n",
              "      <td>7d1d607f1a17cb187a4c3e557fd8575d</td>\n",
              "      <td>1</td>\n",
              "      <td>1.526299e+09</td>\n",
              "      <td>1.526443e+09</td>\n",
              "      <td>1.526486e+09</td>\n",
              "      <td>1.526684e+09</td>\n",
              "      <td>0</td>\n",
              "      <td>1</td>\n",
              "      <td>41.88</td>\n",
              "      <td>5dfae2c8e479184adc19a12274a345ad</td>\n",
              "      <td>1.530978e+09</td>\n",
              "      <td>1.530985e+09</td>\n",
              "      <td>1</td>\n",
              "      <td>c9701c7e21b5d653f1154e62ada219d7</td>\n",
              "      <td>2e1c9f22be269ef4643f826c9e650a52</td>\n",
              "      <td>1.526616e+09</td>\n",
              "      <td>34.49</td>\n",
              "      <td>7.39</td>\n",
              "      <td>1.531130e+09</td>\n",
              "      <td>1.530960e+09</td>\n",
              "      <td>1.531186e+09</td>\n",
              "      <td>37</td>\n",
              "      <td>227</td>\n",
              "      <td>60</td>\n",
              "    </tr>\n",
              "    <tr>\n",
              "      <th>4893</th>\n",
              "      <td>44c5dae14c55309b097d6c510ef1a986</td>\n",
              "      <td>e61831eed6ce9ac253e452e3bc8a41a5</td>\n",
              "      <td>1</td>\n",
              "      <td>1.531999e+09</td>\n",
              "      <td>1.532000e+09</td>\n",
              "      <td>1.532339e+09</td>\n",
              "      <td>1.532453e+09</td>\n",
              "      <td>1</td>\n",
              "      <td>4</td>\n",
              "      <td>356.90</td>\n",
              "      <td>e8c60c7f5d8c59169d20cac8c2276ef6</td>\n",
              "      <td>1.531761e+09</td>\n",
              "      <td>1.530983e+09</td>\n",
              "      <td>1</td>\n",
              "      <td>25f57c88d67a6e65ff2eec180c03a4cb</td>\n",
              "      <td>a7dc4098e4da6e41b426269d12ae7e91</td>\n",
              "      <td>1.532518e+09</td>\n",
              "      <td>170.00</td>\n",
              "      <td>8.45</td>\n",
              "      <td>1.531128e+09</td>\n",
              "      <td>1.530959e+09</td>\n",
              "      <td>1.531383e+09</td>\n",
              "      <td>58</td>\n",
              "      <td>336</td>\n",
              "      <td>5</td>\n",
              "    </tr>\n",
              "    <tr>\n",
              "      <th>12874</th>\n",
              "      <td>0a79d1506c2e0249c9aff8723bcf51e9</td>\n",
              "      <td>a995c91194ffa9252517fa251995adf9</td>\n",
              "      <td>1</td>\n",
              "      <td>1.526647e+09</td>\n",
              "      <td>1.526648e+09</td>\n",
              "      <td>1.527586e+09</td>\n",
              "      <td>1.528226e+09</td>\n",
              "      <td>1</td>\n",
              "      <td>2</td>\n",
              "      <td>112.02</td>\n",
              "      <td>e093c00d1a7972c2a479ed40e648ee00</td>\n",
              "      <td>1.532477e+09</td>\n",
              "      <td>1.530985e+09</td>\n",
              "      <td>1</td>\n",
              "      <td>4fe644d766c7566dbc46fb851363cb3b</td>\n",
              "      <td>c31eff8334d6b3047ed34bebd4d62c36</td>\n",
              "      <td>1.527253e+09</td>\n",
              "      <td>99.99</td>\n",
              "      <td>12.03</td>\n",
              "      <td>1.531142e+09</td>\n",
              "      <td>1.530959e+09</td>\n",
              "      <td>1.531215e+09</td>\n",
              "      <td>48</td>\n",
              "      <td>1232</td>\n",
              "      <td>2</td>\n",
              "    </tr>\n",
              "    <tr>\n",
              "      <th>9201</th>\n",
              "      <td>66c1172ab0ddb605d4012ce1d4339ffb</td>\n",
              "      <td>beeca1dc645ce7cd996e0db5978cab77</td>\n",
              "      <td>1</td>\n",
              "      <td>1.532171e+09</td>\n",
              "      <td>1.532172e+09</td>\n",
              "      <td>1.532343e+09</td>\n",
              "      <td>1.532989e+09</td>\n",
              "      <td>1</td>\n",
              "      <td>7</td>\n",
              "      <td>193.84</td>\n",
              "      <td>accd43278507145b2e40b2a8010e7223</td>\n",
              "      <td>1.531058e+09</td>\n",
              "      <td>1.530983e+09</td>\n",
              "      <td>1</td>\n",
              "      <td>fad3ac91e2ae2e3e0e3f0bed36a565b8</td>\n",
              "      <td>c33847515fa6305ce6feb1e818569f13</td>\n",
              "      <td>1.532604e+09</td>\n",
              "      <td>149.00</td>\n",
              "      <td>44.84</td>\n",
              "      <td>1.531842e+09</td>\n",
              "      <td>1.531503e+09</td>\n",
              "      <td>1.530943e+09</td>\n",
              "      <td>60</td>\n",
              "      <td>597</td>\n",
              "      <td>7</td>\n",
              "    </tr>\n",
              "  </tbody>\n",
              "</table>\n",
              "<p>10974 rows × 25 columns</p>\n",
              "</div>\n",
              "      <button class=\"colab-df-convert\" onclick=\"convertToInteractive('df-2fa6fc8b-2231-4cc0-b40e-6421e9d6a172')\"\n",
              "              title=\"Convert this dataframe to an interactive table.\"\n",
              "              style=\"display:none;\">\n",
              "        \n",
              "  <svg xmlns=\"http://www.w3.org/2000/svg\" height=\"24px\"viewBox=\"0 0 24 24\"\n",
              "       width=\"24px\">\n",
              "    <path d=\"M0 0h24v24H0V0z\" fill=\"none\"/>\n",
              "    <path d=\"M18.56 5.44l.94 2.06.94-2.06 2.06-.94-2.06-.94-.94-2.06-.94 2.06-2.06.94zm-11 1L8.5 8.5l.94-2.06 2.06-.94-2.06-.94L8.5 2.5l-.94 2.06-2.06.94zm10 10l.94 2.06.94-2.06 2.06-.94-2.06-.94-.94-2.06-.94 2.06-2.06.94z\"/><path d=\"M17.41 7.96l-1.37-1.37c-.4-.4-.92-.59-1.43-.59-.52 0-1.04.2-1.43.59L10.3 9.45l-7.72 7.72c-.78.78-.78 2.05 0 2.83L4 21.41c.39.39.9.59 1.41.59.51 0 1.02-.2 1.41-.59l7.78-7.78 2.81-2.81c.8-.78.8-2.07 0-2.86zM5.41 20L4 18.59l7.72-7.72 1.47 1.35L5.41 20z\"/>\n",
              "  </svg>\n",
              "      </button>\n",
              "      \n",
              "  <style>\n",
              "    .colab-df-container {\n",
              "      display:flex;\n",
              "      flex-wrap:wrap;\n",
              "      gap: 12px;\n",
              "    }\n",
              "\n",
              "    .colab-df-convert {\n",
              "      background-color: #E8F0FE;\n",
              "      border: none;\n",
              "      border-radius: 50%;\n",
              "      cursor: pointer;\n",
              "      display: none;\n",
              "      fill: #1967D2;\n",
              "      height: 32px;\n",
              "      padding: 0 0 0 0;\n",
              "      width: 32px;\n",
              "    }\n",
              "\n",
              "    .colab-df-convert:hover {\n",
              "      background-color: #E2EBFA;\n",
              "      box-shadow: 0px 1px 2px rgba(60, 64, 67, 0.3), 0px 1px 3px 1px rgba(60, 64, 67, 0.15);\n",
              "      fill: #174EA6;\n",
              "    }\n",
              "\n",
              "    [theme=dark] .colab-df-convert {\n",
              "      background-color: #3B4455;\n",
              "      fill: #D2E3FC;\n",
              "    }\n",
              "\n",
              "    [theme=dark] .colab-df-convert:hover {\n",
              "      background-color: #434B5C;\n",
              "      box-shadow: 0px 1px 3px 1px rgba(0, 0, 0, 0.15);\n",
              "      filter: drop-shadow(0px 1px 2px rgba(0, 0, 0, 0.3));\n",
              "      fill: #FFFFFF;\n",
              "    }\n",
              "  </style>\n",
              "\n",
              "      <script>\n",
              "        const buttonEl =\n",
              "          document.querySelector('#df-2fa6fc8b-2231-4cc0-b40e-6421e9d6a172 button.colab-df-convert');\n",
              "        buttonEl.style.display =\n",
              "          google.colab.kernel.accessAllowed ? 'block' : 'none';\n",
              "\n",
              "        async function convertToInteractive(key) {\n",
              "          const element = document.querySelector('#df-2fa6fc8b-2231-4cc0-b40e-6421e9d6a172');\n",
              "          const dataTable =\n",
              "            await google.colab.kernel.invokeFunction('convertToInteractive',\n",
              "                                                     [key], {});\n",
              "          if (!dataTable) return;\n",
              "\n",
              "          const docLinkHtml = 'Like what you see? Visit the ' +\n",
              "            '<a target=\"_blank\" href=https://colab.research.google.com/notebooks/data_table.ipynb>data table notebook</a>'\n",
              "            + ' to learn more about interactive tables.';\n",
              "          element.innerHTML = '';\n",
              "          dataTable['output_type'] = 'display_data';\n",
              "          await google.colab.output.renderOutput(dataTable, element);\n",
              "          const docLink = document.createElement('div');\n",
              "          docLink.innerHTML = docLinkHtml;\n",
              "          element.appendChild(docLink);\n",
              "        }\n",
              "      </script>\n",
              "    </div>\n",
              "  </div>\n",
              "  "
            ]
          },
          "metadata": {},
          "execution_count": 18
        }
      ]
    },
    {
      "cell_type": "markdown",
      "source": [
        "# Export the Data"
      ],
      "metadata": {
        "id": "zTC-MFEjCvLu"
      }
    },
    {
      "cell_type": "code",
      "source": [
        "df.to_csv('/content/drive/MyDrive/University/ML/customer_segmentation_eda.csv', index=False)"
      ],
      "metadata": {
        "id": "UqhB1ypVCw0j"
      },
      "execution_count": 8,
      "outputs": []
    },
    {
      "cell_type": "markdown",
      "source": [
        "During your pitch, try to answer the following questions:\n",
        "\n",
        "What are the main features of the dataset that you discovered during the exploratory data analysis (EDA) process?\n",
        "\n",
        "What method did you choose to tackle the tasks of the project, and why did you select this method?\n",
        "\n",
        "What score did you choose to evaluate your model's performance, and what is the score's value?\n",
        "\n",
        "If your group is working with the Customers Segmentation dataset, please discuss only one market segmentation among the three available."
      ],
      "metadata": {
        "id": "fDsAaf85epCx"
      }
    }
  ]
}