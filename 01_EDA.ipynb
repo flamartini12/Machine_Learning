{
  "nbformat": 4,
  "nbformat_minor": 0,
  "metadata": {
    "colab": {
      "provenance": [],
      "authorship_tag": "ABX9TyOiOKTTI9IGiuOR50NL/YK6",
      "include_colab_link": true
    },
    "kernelspec": {
      "name": "python3",
      "display_name": "Python 3"
    },
    "language_info": {
      "name": "python"
    }
  },
  "cells": [
    {
      "cell_type": "markdown",
      "metadata": {
        "id": "view-in-github",
        "colab_type": "text"
      },
      "source": [
        "<a href=\"https://colab.research.google.com/github/giakomorssi/Machine_Learning/blob/main/01_EDA.ipynb\" target=\"_parent\"><img src=\"https://colab.research.google.com/assets/colab-badge.svg\" alt=\"Open In Colab\"/></a>"
      ]
    },
    {
      "cell_type": "markdown",
      "source": [
        "# Import the Data"
      ],
      "metadata": {
        "id": "OZfaEDHUlXP7"
      }
    },
    {
      "cell_type": "code",
      "execution_count": 1,
      "metadata": {
        "id": "KOY3mMRHlSjw",
        "outputId": "7513dc27-f85a-43b3-c568-77825d3f1126",
        "colab": {
          "base_uri": "https://localhost:8080/"
        }
      },
      "outputs": [
        {
          "output_type": "stream",
          "name": "stdout",
          "text": [
            "Mounted at /content/drive\n",
            "Runtime switched to GPU\n",
            "Please install GPU version of TF\n"
          ]
        }
      ],
      "source": [
        "from google.colab import drive\n",
        "drive.mount('/content/drive')\n",
        "\n",
        "import pandas as pd\n",
        "\n",
        "# Change Colab runtime to GPU\n",
        "import os\n",
        "os.environ['COLAB_TPU_ADDR'] = ''\n",
        "os.environ['COLAB_GPU_ALLOC'] = '1'\n",
        "os.environ['COLAB_GPU'] = '1'\n",
        "print(\"Runtime switched to GPU\")\n",
        "\n",
        "import tensorflow as tf\n",
        "\n",
        "# This code sets the runtime to use the GPU if available\n",
        "if tf.test.gpu_device_name():\n",
        "    print('Default GPU Device: {}'.format(tf.test.gpu_device_name()))\n",
        "else:\n",
        "    print(\"Please install GPU version of TF\")\n",
        "\n",
        "pd.set_option('display.max_columns', None)"
      ]
    },
    {
      "cell_type": "code",
      "source": [
        "df = pd.read_csv('/content/drive/MyDrive/University/ML/customer_segmentation.csv')"
      ],
      "metadata": {
        "id": "mXs1u3JFlaya"
      },
      "execution_count": 2,
      "outputs": []
    },
    {
      "cell_type": "markdown",
      "source": [
        "Discuss correlations and how the data is distributed also using Visualization. In particular try to answer to these questions:\n",
        "\n",
        "*   Looking the price do you think the dataset is balanced?\n",
        "*   Looking the customer_city distribution do you think the dataset is balanced?"
      ],
      "metadata": {
        "id": "Tx-6xGP9lded"
      }
    },
    {
      "cell_type": "markdown",
      "source": [
        "# Meaning of the Columns"
      ],
      "metadata": {
        "id": "H6f9AKrMllx3"
      }
    },
    {
      "cell_type": "markdown",
      "source": [
        "* **order_id**: unique order identifier \n",
        "* **customer_id**: the key to the orders dataset. Each \n",
        "order has a unique customer_id \n",
        "* **customer_unique_id**: the unique identifier of a customer.\n",
        "* **customer_city**: customer city name\n",
        "* **customer_state**: customer state\n",
        "* **order_item_id**: sequential number identifying the number of items included in the same order.\n",
        "* **product_id**: product unique identifier\n",
        "* **price**: item price\n",
        "* **freight_value**: item freight value item (if an order has more than one item, the freight value is split between items)\n",
        "* **payment_type**: method of payment chosen by the customer.\n",
        "* **payment_installments**: number of installments chosen by the customer.\n",
        "* **payment_value**: transaction value.\n",
        "* **order_status**: the order status (delivered, shipped, etc).\n",
        "* **order_purchase_timestamp**: purchase timestamp.\n",
        "* **order_approved_at**: purchase approval timestamp.\n",
        "* **order_delivered_carrier_date**: order posting timestamp. When it was handled by the logistic partner.\n",
        "* **order_delivered_customer_date**: actual order delivery date to the customer.\n",
        "* **order_estimated_delivery_date**: the estimated delivery date informed to the customer at the purchase moment.\n",
        "* **shipping_limit_date**: the deadline by which the seller must have the order ready to be shipped\n",
        "* **product_category_name**: root product category, in Portuguese.\n",
        "* **product_category_name_english**: root category of product, in English\n",
        "* **product_name_lenght**: number of characters extracted from the product name.\n",
        "* **product_description_lenght**: number of characters extracted from the product description.\n",
        "* **seller_id**: seller unique identifier\n",
        "* **seller_city**: seller city name\n",
        "* **seller_state**: seller state"
      ],
      "metadata": {
        "id": "mMBO1y9ElpUS"
      }
    },
    {
      "cell_type": "markdown",
      "source": [
        "# Rename the Columns"
      ],
      "metadata": {
        "id": "2_6ks_VPlw7Q"
      }
    },
    {
      "cell_type": "code",
      "source": [
        "df.rename(columns={'order_purchase_timestamp': 'purchase_date', \n",
        "                    'order_approved_at': 'approved_date', \n",
        "                    'order_delivered_carrier_date': 'handled_by_logistic_date',\n",
        "                    'order_delivered_customer_date': 'delivery_date',\n",
        "                    'order_estimated_delivery_date': 'estimated_delivery_date',\n",
        "                    'order_item_id': 'item_per_order'\n",
        "                    }, inplace=True)\n",
        "df.head()"
      ],
      "metadata": {
        "id": "qDaGTEfKlyQH",
        "outputId": "7cdef423-d42a-4003-a412-19ab2851d4c8",
        "colab": {
          "base_uri": "https://localhost:8080/",
          "height": 357
        }
      },
      "execution_count": 3,
      "outputs": [
        {
          "output_type": "execute_result",
          "data": {
            "text/plain": [
              "                           order_id                       customer_id  \\\n",
              "0  53cdb2fc8bc7dce0b6741e2150273451  b0830fb4747a6c6d20dea0b8c802d7ef   \n",
              "1  86674ccaee19790309333210917b2c7d  1b338293f35549b5e480b9a3d7bbf3cd   \n",
              "2  aee682982e18eb4714ce9f97b15af5e2  8858442ea4d5dc5bb9e118e8f728095d   \n",
              "3  d543201a9b42a1402ff97e65b439a48b  971bf8f42a9f8cb3ead257854905b454   \n",
              "4  d543201a9b42a1402ff97e65b439a48b  971bf8f42a9f8cb3ead257854905b454   \n",
              "\n",
              "  order_status        purchase_date        approved_date  \\\n",
              "0    delivered  2018-07-24 20:41:37  2018-07-26 03:24:27   \n",
              "1    delivered  2018-08-09 11:37:35  2018-08-09 14:35:19   \n",
              "2    delivered  2018-07-09 18:46:28  2018-07-11 03:45:45   \n",
              "3    delivered  2018-08-21 10:00:25  2018-08-21 10:50:54   \n",
              "4    delivered  2018-08-21 10:00:25  2018-08-21 10:50:54   \n",
              "\n",
              "  handled_by_logistic_date        delivery_date estimated_delivery_date  \\\n",
              "0      2018-07-26 14:31:00  2018-08-07 15:27:45     2018-08-13 00:00:00   \n",
              "1      2018-08-10 14:34:00  2018-08-14 18:51:47     2018-08-22 00:00:00   \n",
              "2      2018-07-11 15:01:00  2018-07-12 18:14:35     2018-07-18 00:00:00   \n",
              "3      2018-08-22 15:21:00  2018-08-28 18:58:22     2018-09-10 00:00:00   \n",
              "4      2018-08-22 15:21:00  2018-08-28 18:58:22     2018-09-10 00:00:00   \n",
              "\n",
              "  payment_type  payment_installments  payment_value  \\\n",
              "0       boleto                     1         141.46   \n",
              "1  credit_card                     5         135.82   \n",
              "2       boleto                     1         128.04   \n",
              "3  credit_card                     2         279.30   \n",
              "4  credit_card                     2         279.30   \n",
              "\n",
              "                 customer_unique_id       customer_city customer_state  \\\n",
              "0  af07308b275d755c9edb36a90c618231           barreiras             BA   \n",
              "1  8b8028d453a01986b48c4271cc341475           ituverava             SP   \n",
              "2  3edcab192482e9871c17b34cf98c3996  ribeirao das neves             MG   \n",
              "3  958ac7760e5484df1496ba5833ab6117              gaspar             SC   \n",
              "4  958ac7760e5484df1496ba5833ab6117              gaspar             SC   \n",
              "\n",
              "   item_per_order                        product_id  \\\n",
              "0               1  595fac2a385ac33a80bd5114aec74eb8   \n",
              "1               1  595fac2a385ac33a80bd5114aec74eb8   \n",
              "2               1  595fac2a385ac33a80bd5114aec74eb8   \n",
              "3               1  595fac2a385ac33a80bd5114aec74eb8   \n",
              "4               2  595fac2a385ac33a80bd5114aec74eb8   \n",
              "\n",
              "                          seller_id  shipping_limit_date  price  \\\n",
              "0  289cdb325fb7e7f891c38608bf9e0962  2018-07-30 03:24:27  118.7   \n",
              "1  289cdb325fb7e7f891c38608bf9e0962  2018-08-13 14:31:29  116.9   \n",
              "2  289cdb325fb7e7f891c38608bf9e0962  2018-07-13 03:45:45  118.7   \n",
              "3  289cdb325fb7e7f891c38608bf9e0962  2018-08-23 10:50:54  116.9   \n",
              "4  289cdb325fb7e7f891c38608bf9e0962  2018-08-23 10:50:54  116.9   \n",
              "\n",
              "   freight_value     seller_city seller_state product_category_name  \\\n",
              "0          22.76  belo horizonte           SP            perfumaria   \n",
              "1          18.92  belo horizonte           SP            perfumaria   \n",
              "2           9.34  belo horizonte           SP            perfumaria   \n",
              "3          22.75  belo horizonte           SP            perfumaria   \n",
              "4          22.75  belo horizonte           SP            perfumaria   \n",
              "\n",
              "   product_name_lenght  product_description_lenght  \\\n",
              "0                   29                         178   \n",
              "1                   29                         178   \n",
              "2                   29                         178   \n",
              "3                   29                         178   \n",
              "4                   29                         178   \n",
              "\n",
              "  product_category_name_english  \n",
              "0                     perfumery  \n",
              "1                     perfumery  \n",
              "2                     perfumery  \n",
              "3                     perfumery  \n",
              "4                     perfumery  "
            ],
            "text/html": [
              "\n",
              "  <div id=\"df-7b71a6c2-e17c-4ef1-b1b3-87bf7985f2cd\">\n",
              "    <div class=\"colab-df-container\">\n",
              "      <div>\n",
              "<style scoped>\n",
              "    .dataframe tbody tr th:only-of-type {\n",
              "        vertical-align: middle;\n",
              "    }\n",
              "\n",
              "    .dataframe tbody tr th {\n",
              "        vertical-align: top;\n",
              "    }\n",
              "\n",
              "    .dataframe thead th {\n",
              "        text-align: right;\n",
              "    }\n",
              "</style>\n",
              "<table border=\"1\" class=\"dataframe\">\n",
              "  <thead>\n",
              "    <tr style=\"text-align: right;\">\n",
              "      <th></th>\n",
              "      <th>order_id</th>\n",
              "      <th>customer_id</th>\n",
              "      <th>order_status</th>\n",
              "      <th>purchase_date</th>\n",
              "      <th>approved_date</th>\n",
              "      <th>handled_by_logistic_date</th>\n",
              "      <th>delivery_date</th>\n",
              "      <th>estimated_delivery_date</th>\n",
              "      <th>payment_type</th>\n",
              "      <th>payment_installments</th>\n",
              "      <th>payment_value</th>\n",
              "      <th>customer_unique_id</th>\n",
              "      <th>customer_city</th>\n",
              "      <th>customer_state</th>\n",
              "      <th>item_per_order</th>\n",
              "      <th>product_id</th>\n",
              "      <th>seller_id</th>\n",
              "      <th>shipping_limit_date</th>\n",
              "      <th>price</th>\n",
              "      <th>freight_value</th>\n",
              "      <th>seller_city</th>\n",
              "      <th>seller_state</th>\n",
              "      <th>product_category_name</th>\n",
              "      <th>product_name_lenght</th>\n",
              "      <th>product_description_lenght</th>\n",
              "      <th>product_category_name_english</th>\n",
              "    </tr>\n",
              "  </thead>\n",
              "  <tbody>\n",
              "    <tr>\n",
              "      <th>0</th>\n",
              "      <td>53cdb2fc8bc7dce0b6741e2150273451</td>\n",
              "      <td>b0830fb4747a6c6d20dea0b8c802d7ef</td>\n",
              "      <td>delivered</td>\n",
              "      <td>2018-07-24 20:41:37</td>\n",
              "      <td>2018-07-26 03:24:27</td>\n",
              "      <td>2018-07-26 14:31:00</td>\n",
              "      <td>2018-08-07 15:27:45</td>\n",
              "      <td>2018-08-13 00:00:00</td>\n",
              "      <td>boleto</td>\n",
              "      <td>1</td>\n",
              "      <td>141.46</td>\n",
              "      <td>af07308b275d755c9edb36a90c618231</td>\n",
              "      <td>barreiras</td>\n",
              "      <td>BA</td>\n",
              "      <td>1</td>\n",
              "      <td>595fac2a385ac33a80bd5114aec74eb8</td>\n",
              "      <td>289cdb325fb7e7f891c38608bf9e0962</td>\n",
              "      <td>2018-07-30 03:24:27</td>\n",
              "      <td>118.7</td>\n",
              "      <td>22.76</td>\n",
              "      <td>belo horizonte</td>\n",
              "      <td>SP</td>\n",
              "      <td>perfumaria</td>\n",
              "      <td>29</td>\n",
              "      <td>178</td>\n",
              "      <td>perfumery</td>\n",
              "    </tr>\n",
              "    <tr>\n",
              "      <th>1</th>\n",
              "      <td>86674ccaee19790309333210917b2c7d</td>\n",
              "      <td>1b338293f35549b5e480b9a3d7bbf3cd</td>\n",
              "      <td>delivered</td>\n",
              "      <td>2018-08-09 11:37:35</td>\n",
              "      <td>2018-08-09 14:35:19</td>\n",
              "      <td>2018-08-10 14:34:00</td>\n",
              "      <td>2018-08-14 18:51:47</td>\n",
              "      <td>2018-08-22 00:00:00</td>\n",
              "      <td>credit_card</td>\n",
              "      <td>5</td>\n",
              "      <td>135.82</td>\n",
              "      <td>8b8028d453a01986b48c4271cc341475</td>\n",
              "      <td>ituverava</td>\n",
              "      <td>SP</td>\n",
              "      <td>1</td>\n",
              "      <td>595fac2a385ac33a80bd5114aec74eb8</td>\n",
              "      <td>289cdb325fb7e7f891c38608bf9e0962</td>\n",
              "      <td>2018-08-13 14:31:29</td>\n",
              "      <td>116.9</td>\n",
              "      <td>18.92</td>\n",
              "      <td>belo horizonte</td>\n",
              "      <td>SP</td>\n",
              "      <td>perfumaria</td>\n",
              "      <td>29</td>\n",
              "      <td>178</td>\n",
              "      <td>perfumery</td>\n",
              "    </tr>\n",
              "    <tr>\n",
              "      <th>2</th>\n",
              "      <td>aee682982e18eb4714ce9f97b15af5e2</td>\n",
              "      <td>8858442ea4d5dc5bb9e118e8f728095d</td>\n",
              "      <td>delivered</td>\n",
              "      <td>2018-07-09 18:46:28</td>\n",
              "      <td>2018-07-11 03:45:45</td>\n",
              "      <td>2018-07-11 15:01:00</td>\n",
              "      <td>2018-07-12 18:14:35</td>\n",
              "      <td>2018-07-18 00:00:00</td>\n",
              "      <td>boleto</td>\n",
              "      <td>1</td>\n",
              "      <td>128.04</td>\n",
              "      <td>3edcab192482e9871c17b34cf98c3996</td>\n",
              "      <td>ribeirao das neves</td>\n",
              "      <td>MG</td>\n",
              "      <td>1</td>\n",
              "      <td>595fac2a385ac33a80bd5114aec74eb8</td>\n",
              "      <td>289cdb325fb7e7f891c38608bf9e0962</td>\n",
              "      <td>2018-07-13 03:45:45</td>\n",
              "      <td>118.7</td>\n",
              "      <td>9.34</td>\n",
              "      <td>belo horizonte</td>\n",
              "      <td>SP</td>\n",
              "      <td>perfumaria</td>\n",
              "      <td>29</td>\n",
              "      <td>178</td>\n",
              "      <td>perfumery</td>\n",
              "    </tr>\n",
              "    <tr>\n",
              "      <th>3</th>\n",
              "      <td>d543201a9b42a1402ff97e65b439a48b</td>\n",
              "      <td>971bf8f42a9f8cb3ead257854905b454</td>\n",
              "      <td>delivered</td>\n",
              "      <td>2018-08-21 10:00:25</td>\n",
              "      <td>2018-08-21 10:50:54</td>\n",
              "      <td>2018-08-22 15:21:00</td>\n",
              "      <td>2018-08-28 18:58:22</td>\n",
              "      <td>2018-09-10 00:00:00</td>\n",
              "      <td>credit_card</td>\n",
              "      <td>2</td>\n",
              "      <td>279.30</td>\n",
              "      <td>958ac7760e5484df1496ba5833ab6117</td>\n",
              "      <td>gaspar</td>\n",
              "      <td>SC</td>\n",
              "      <td>1</td>\n",
              "      <td>595fac2a385ac33a80bd5114aec74eb8</td>\n",
              "      <td>289cdb325fb7e7f891c38608bf9e0962</td>\n",
              "      <td>2018-08-23 10:50:54</td>\n",
              "      <td>116.9</td>\n",
              "      <td>22.75</td>\n",
              "      <td>belo horizonte</td>\n",
              "      <td>SP</td>\n",
              "      <td>perfumaria</td>\n",
              "      <td>29</td>\n",
              "      <td>178</td>\n",
              "      <td>perfumery</td>\n",
              "    </tr>\n",
              "    <tr>\n",
              "      <th>4</th>\n",
              "      <td>d543201a9b42a1402ff97e65b439a48b</td>\n",
              "      <td>971bf8f42a9f8cb3ead257854905b454</td>\n",
              "      <td>delivered</td>\n",
              "      <td>2018-08-21 10:00:25</td>\n",
              "      <td>2018-08-21 10:50:54</td>\n",
              "      <td>2018-08-22 15:21:00</td>\n",
              "      <td>2018-08-28 18:58:22</td>\n",
              "      <td>2018-09-10 00:00:00</td>\n",
              "      <td>credit_card</td>\n",
              "      <td>2</td>\n",
              "      <td>279.30</td>\n",
              "      <td>958ac7760e5484df1496ba5833ab6117</td>\n",
              "      <td>gaspar</td>\n",
              "      <td>SC</td>\n",
              "      <td>2</td>\n",
              "      <td>595fac2a385ac33a80bd5114aec74eb8</td>\n",
              "      <td>289cdb325fb7e7f891c38608bf9e0962</td>\n",
              "      <td>2018-08-23 10:50:54</td>\n",
              "      <td>116.9</td>\n",
              "      <td>22.75</td>\n",
              "      <td>belo horizonte</td>\n",
              "      <td>SP</td>\n",
              "      <td>perfumaria</td>\n",
              "      <td>29</td>\n",
              "      <td>178</td>\n",
              "      <td>perfumery</td>\n",
              "    </tr>\n",
              "  </tbody>\n",
              "</table>\n",
              "</div>\n",
              "      <button class=\"colab-df-convert\" onclick=\"convertToInteractive('df-7b71a6c2-e17c-4ef1-b1b3-87bf7985f2cd')\"\n",
              "              title=\"Convert this dataframe to an interactive table.\"\n",
              "              style=\"display:none;\">\n",
              "        \n",
              "  <svg xmlns=\"http://www.w3.org/2000/svg\" height=\"24px\"viewBox=\"0 0 24 24\"\n",
              "       width=\"24px\">\n",
              "    <path d=\"M0 0h24v24H0V0z\" fill=\"none\"/>\n",
              "    <path d=\"M18.56 5.44l.94 2.06.94-2.06 2.06-.94-2.06-.94-.94-2.06-.94 2.06-2.06.94zm-11 1L8.5 8.5l.94-2.06 2.06-.94-2.06-.94L8.5 2.5l-.94 2.06-2.06.94zm10 10l.94 2.06.94-2.06 2.06-.94-2.06-.94-.94-2.06-.94 2.06-2.06.94z\"/><path d=\"M17.41 7.96l-1.37-1.37c-.4-.4-.92-.59-1.43-.59-.52 0-1.04.2-1.43.59L10.3 9.45l-7.72 7.72c-.78.78-.78 2.05 0 2.83L4 21.41c.39.39.9.59 1.41.59.51 0 1.02-.2 1.41-.59l7.78-7.78 2.81-2.81c.8-.78.8-2.07 0-2.86zM5.41 20L4 18.59l7.72-7.72 1.47 1.35L5.41 20z\"/>\n",
              "  </svg>\n",
              "      </button>\n",
              "      \n",
              "  <style>\n",
              "    .colab-df-container {\n",
              "      display:flex;\n",
              "      flex-wrap:wrap;\n",
              "      gap: 12px;\n",
              "    }\n",
              "\n",
              "    .colab-df-convert {\n",
              "      background-color: #E8F0FE;\n",
              "      border: none;\n",
              "      border-radius: 50%;\n",
              "      cursor: pointer;\n",
              "      display: none;\n",
              "      fill: #1967D2;\n",
              "      height: 32px;\n",
              "      padding: 0 0 0 0;\n",
              "      width: 32px;\n",
              "    }\n",
              "\n",
              "    .colab-df-convert:hover {\n",
              "      background-color: #E2EBFA;\n",
              "      box-shadow: 0px 1px 2px rgba(60, 64, 67, 0.3), 0px 1px 3px 1px rgba(60, 64, 67, 0.15);\n",
              "      fill: #174EA6;\n",
              "    }\n",
              "\n",
              "    [theme=dark] .colab-df-convert {\n",
              "      background-color: #3B4455;\n",
              "      fill: #D2E3FC;\n",
              "    }\n",
              "\n",
              "    [theme=dark] .colab-df-convert:hover {\n",
              "      background-color: #434B5C;\n",
              "      box-shadow: 0px 1px 3px 1px rgba(0, 0, 0, 0.15);\n",
              "      filter: drop-shadow(0px 1px 2px rgba(0, 0, 0, 0.3));\n",
              "      fill: #FFFFFF;\n",
              "    }\n",
              "  </style>\n",
              "\n",
              "      <script>\n",
              "        const buttonEl =\n",
              "          document.querySelector('#df-7b71a6c2-e17c-4ef1-b1b3-87bf7985f2cd button.colab-df-convert');\n",
              "        buttonEl.style.display =\n",
              "          google.colab.kernel.accessAllowed ? 'block' : 'none';\n",
              "\n",
              "        async function convertToInteractive(key) {\n",
              "          const element = document.querySelector('#df-7b71a6c2-e17c-4ef1-b1b3-87bf7985f2cd');\n",
              "          const dataTable =\n",
              "            await google.colab.kernel.invokeFunction('convertToInteractive',\n",
              "                                                     [key], {});\n",
              "          if (!dataTable) return;\n",
              "\n",
              "          const docLinkHtml = 'Like what you see? Visit the ' +\n",
              "            '<a target=\"_blank\" href=https://colab.research.google.com/notebooks/data_table.ipynb>data table notebook</a>'\n",
              "            + ' to learn more about interactive tables.';\n",
              "          element.innerHTML = '';\n",
              "          dataTable['output_type'] = 'display_data';\n",
              "          await google.colab.output.renderOutput(dataTable, element);\n",
              "          const docLink = document.createElement('div');\n",
              "          docLink.innerHTML = docLinkHtml;\n",
              "          element.appendChild(docLink);\n",
              "        }\n",
              "      </script>\n",
              "    </div>\n",
              "  </div>\n",
              "  "
            ]
          },
          "metadata": {},
          "execution_count": 3
        }
      ]
    },
    {
      "cell_type": "markdown",
      "source": [
        "# Clean the Data\n",
        "\n",
        "1. Remove the `customer_id`, `order_id`, `customer_unique_id`, `order_item_id`, `product_id`, `seller_id`, `product_category_name` columns.\n",
        "\n",
        "2. Convert the `order_status`, `payment_type`, `product_category_name_english` columns to a categorical variable.\n",
        "\n",
        "3. Remove from `order_estimated_delivery_date` column the `time`\n",
        "\n",
        "4. Encode the `customer_city`, `customer_state`, `seller_city`, `seller_state` columns."
      ],
      "metadata": {
        "id": "z-u2_lTIl9VB"
      }
    },
    {
      "cell_type": "code",
      "source": [
        "df.drop(['order_id', 'customer_unique_id', 'product_id', 'seller_id', 'product_category_name'], axis=1, inplace=True)"
      ],
      "metadata": {
        "id": "oZeLuSTamBdC"
      },
      "execution_count": 4,
      "outputs": []
    },
    {
      "cell_type": "code",
      "source": [
        "#drop duplicates\n",
        "df.drop_duplicates(inplace=True)"
      ],
      "metadata": {
        "id": "5no6M7clmEWy"
      },
      "execution_count": 5,
      "outputs": []
    },
    {
      "cell_type": "code",
      "source": [
        "from sklearn.preprocessing import LabelEncoder\n",
        "\n",
        "le = LabelEncoder()\n",
        "\n",
        "# Order Status\n",
        "df['order_status'] = le.fit_transform(df['order_status'])\n",
        "\n",
        "# payment_type\n",
        "df['payment_type'] = le.fit_transform(df['payment_type'])\n",
        "\n",
        "# product_category_name_english\n",
        "df['product_category_name_english'] = le.fit_transform(df['product_category_name_english'])\n",
        "\n",
        "# seller_city\n",
        "df['seller_city'] = le.fit_transform(df['seller_city'])\n",
        "\n",
        "# customer_state\n",
        "df['customer_state'] = le.fit_transform(df['customer_state'])\n",
        "\n",
        "# customer_city\n",
        "df['customer_city'] = le.fit_transform(df['customer_city'])\n",
        "\n",
        "# seller_state\n",
        "df['seller_state'] = le.fit_transform(df['seller_state'])"
      ],
      "metadata": {
        "id": "DrzaUy9qmIMV"
      },
      "execution_count": 6,
      "outputs": []
    },
    {
      "cell_type": "code",
      "source": [
        "df['purchase_date'] = pd.to_datetime(df['purchase_date']).astype(int)/10**9\n",
        "df['approved_date'] = pd.to_datetime(df['approved_date']).astype(int)/10**9\n",
        "df['handled_by_logistic_date'] = pd.to_datetime(df['handled_by_logistic_date']).astype(int)/10**9\n",
        "df['delivery_date'] = pd.to_datetime(df['delivery_date']).astype(int)/10**9\n",
        "df['estimated_delivery_date'] = pd.to_datetime(df['estimated_delivery_date']).astype(int)/10**9\n",
        "df['shipping_limit_date'] = pd.to_datetime(df['shipping_limit_date']).astype(int)/10**9"
      ],
      "metadata": {
        "id": "sPl_NWLomJ3b"
      },
      "execution_count": 7,
      "outputs": []
    },
    {
      "cell_type": "markdown",
      "source": [
        "# Export the Data"
      ],
      "metadata": {
        "id": "zTC-MFEjCvLu"
      }
    },
    {
      "cell_type": "code",
      "source": [
        "df.to_csv('/content/drive/MyDrive/University/ML/customer_segmentation_eda.csv', index=False)"
      ],
      "metadata": {
        "id": "UqhB1ypVCw0j"
      },
      "execution_count": 9,
      "outputs": []
    }
  ]
}